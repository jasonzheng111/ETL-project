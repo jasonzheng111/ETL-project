{
 "cells": [
  {
   "cell_type": "code",
   "execution_count": 1,
   "metadata": {},
   "outputs": [],
   "source": [
    "import pandas as pd "
   ]
  },
  {
   "cell_type": "code",
   "execution_count": 2,
   "metadata": {},
   "outputs": [
    {
     "data": {
      "text/html": [
       "<div>\n",
       "<style scoped>\n",
       "    .dataframe tbody tr th:only-of-type {\n",
       "        vertical-align: middle;\n",
       "    }\n",
       "\n",
       "    .dataframe tbody tr th {\n",
       "        vertical-align: top;\n",
       "    }\n",
       "\n",
       "    .dataframe thead th {\n",
       "        text-align: right;\n",
       "    }\n",
       "</style>\n",
       "<table border=\"1\" class=\"dataframe\">\n",
       "  <thead>\n",
       "    <tr style=\"text-align: right;\">\n",
       "      <th></th>\n",
       "      <th>State</th>\n",
       "      <th>Telemed_2019</th>\n",
       "    </tr>\n",
       "  </thead>\n",
       "  <tbody>\n",
       "    <tr>\n",
       "      <th>0</th>\n",
       "      <td>District of Columbia</td>\n",
       "      <td>100</td>\n",
       "    </tr>\n",
       "    <tr>\n",
       "      <th>1</th>\n",
       "      <td>South Dakota</td>\n",
       "      <td>83</td>\n",
       "    </tr>\n",
       "    <tr>\n",
       "      <th>2</th>\n",
       "      <td>North Dakota</td>\n",
       "      <td>66</td>\n",
       "    </tr>\n",
       "    <tr>\n",
       "      <th>3</th>\n",
       "      <td>New York</td>\n",
       "      <td>60</td>\n",
       "    </tr>\n",
       "    <tr>\n",
       "      <th>4</th>\n",
       "      <td>West Virginia</td>\n",
       "      <td>56</td>\n",
       "    </tr>\n",
       "  </tbody>\n",
       "</table>\n",
       "</div>"
      ],
      "text/plain": [
       "                  State  Telemed_2019\n",
       "0  District of Columbia           100\n",
       "1          South Dakota            83\n",
       "2          North Dakota            66\n",
       "3              New York            60\n",
       "4         West Virginia            56"
      ]
     },
     "execution_count": 2,
     "metadata": {},
     "output_type": "execute_result"
    }
   ],
   "source": [
    "df_telemed_19 = pd.read_csv(\"Telemed_2019.csv\")\n",
    "df_telemed_19.head()"
   ]
  },
  {
   "cell_type": "code",
   "execution_count": 3,
   "metadata": {},
   "outputs": [
    {
     "data": {
      "text/html": [
       "<div>\n",
       "<style scoped>\n",
       "    .dataframe tbody tr th:only-of-type {\n",
       "        vertical-align: middle;\n",
       "    }\n",
       "\n",
       "    .dataframe tbody tr th {\n",
       "        vertical-align: top;\n",
       "    }\n",
       "\n",
       "    .dataframe thead th {\n",
       "        text-align: right;\n",
       "    }\n",
       "</style>\n",
       "<table border=\"1\" class=\"dataframe\">\n",
       "  <thead>\n",
       "    <tr style=\"text-align: right;\">\n",
       "      <th></th>\n",
       "      <th>State</th>\n",
       "      <th>Telemed_2020</th>\n",
       "    </tr>\n",
       "  </thead>\n",
       "  <tbody>\n",
       "    <tr>\n",
       "      <th>0</th>\n",
       "      <td>District of Columbia</td>\n",
       "      <td>100</td>\n",
       "    </tr>\n",
       "    <tr>\n",
       "      <th>1</th>\n",
       "      <td>Alaska</td>\n",
       "      <td>90</td>\n",
       "    </tr>\n",
       "    <tr>\n",
       "      <th>2</th>\n",
       "      <td>New Jersey</td>\n",
       "      <td>84</td>\n",
       "    </tr>\n",
       "    <tr>\n",
       "      <th>3</th>\n",
       "      <td>Louisiana</td>\n",
       "      <td>75</td>\n",
       "    </tr>\n",
       "    <tr>\n",
       "      <th>4</th>\n",
       "      <td>Delaware</td>\n",
       "      <td>74</td>\n",
       "    </tr>\n",
       "  </tbody>\n",
       "</table>\n",
       "</div>"
      ],
      "text/plain": [
       "                  State  Telemed_2020\n",
       "0  District of Columbia           100\n",
       "1                Alaska            90\n",
       "2            New Jersey            84\n",
       "3             Louisiana            75\n",
       "4              Delaware            74"
      ]
     },
     "execution_count": 3,
     "metadata": {},
     "output_type": "execute_result"
    }
   ],
   "source": [
    "df_telemed_20 = pd.read_csv(\"Telemed_2020.csv\")\n",
    "df_telemed_20.head()"
   ]
  },
  {
   "cell_type": "code",
   "execution_count": 4,
   "metadata": {},
   "outputs": [
    {
     "data": {
      "text/html": [
       "<div>\n",
       "<style scoped>\n",
       "    .dataframe tbody tr th:only-of-type {\n",
       "        vertical-align: middle;\n",
       "    }\n",
       "\n",
       "    .dataframe tbody tr th {\n",
       "        vertical-align: top;\n",
       "    }\n",
       "\n",
       "    .dataframe thead th {\n",
       "        text-align: right;\n",
       "    }\n",
       "</style>\n",
       "<table border=\"1\" class=\"dataframe\">\n",
       "  <thead>\n",
       "    <tr style=\"text-align: right;\">\n",
       "      <th></th>\n",
       "      <th>State</th>\n",
       "      <th>Telemed_2019</th>\n",
       "      <th>Telemed_2020</th>\n",
       "    </tr>\n",
       "  </thead>\n",
       "  <tbody>\n",
       "    <tr>\n",
       "      <th>0</th>\n",
       "      <td>District of Columbia</td>\n",
       "      <td>100</td>\n",
       "      <td>100</td>\n",
       "    </tr>\n",
       "    <tr>\n",
       "      <th>1</th>\n",
       "      <td>South Dakota</td>\n",
       "      <td>83</td>\n",
       "      <td>66</td>\n",
       "    </tr>\n",
       "    <tr>\n",
       "      <th>2</th>\n",
       "      <td>North Dakota</td>\n",
       "      <td>66</td>\n",
       "      <td>42</td>\n",
       "    </tr>\n",
       "    <tr>\n",
       "      <th>3</th>\n",
       "      <td>New York</td>\n",
       "      <td>60</td>\n",
       "      <td>70</td>\n",
       "    </tr>\n",
       "    <tr>\n",
       "      <th>4</th>\n",
       "      <td>West Virginia</td>\n",
       "      <td>56</td>\n",
       "      <td>67</td>\n",
       "    </tr>\n",
       "  </tbody>\n",
       "</table>\n",
       "</div>"
      ],
      "text/plain": [
       "                  State  Telemed_2019  Telemed_2020\n",
       "0  District of Columbia           100           100\n",
       "1          South Dakota            83            66\n",
       "2          North Dakota            66            42\n",
       "3              New York            60            70\n",
       "4         West Virginia            56            67"
      ]
     },
     "execution_count": 4,
     "metadata": {},
     "output_type": "execute_result"
    }
   ],
   "source": [
    "df_telemed = pd.merge(df_telemed_19, df_telemed_20, on='State')\n",
    "df_telemed.head()"
   ]
  },
  {
   "cell_type": "code",
   "execution_count": 5,
   "metadata": {},
   "outputs": [
    {
     "data": {
      "text/html": [
       "<div>\n",
       "<style scoped>\n",
       "    .dataframe tbody tr th:only-of-type {\n",
       "        vertical-align: middle;\n",
       "    }\n",
       "\n",
       "    .dataframe tbody tr th {\n",
       "        vertical-align: top;\n",
       "    }\n",
       "\n",
       "    .dataframe thead th {\n",
       "        text-align: right;\n",
       "    }\n",
       "</style>\n",
       "<table border=\"1\" class=\"dataframe\">\n",
       "  <thead>\n",
       "    <tr style=\"text-align: right;\">\n",
       "      <th></th>\n",
       "      <th>State</th>\n",
       "      <th>Country_Region</th>\n",
       "      <th>Last_Update</th>\n",
       "      <th>Lat</th>\n",
       "      <th>Long_</th>\n",
       "      <th>Confirmed</th>\n",
       "      <th>Deaths</th>\n",
       "      <th>Recovered</th>\n",
       "      <th>Active</th>\n",
       "      <th>FIPS</th>\n",
       "      <th>Incident_Rate</th>\n",
       "      <th>People_Tested</th>\n",
       "      <th>People_Hospitalized</th>\n",
       "      <th>Mortality_Rate</th>\n",
       "      <th>UID</th>\n",
       "      <th>ISO3</th>\n",
       "      <th>Testing_Rate</th>\n",
       "      <th>Hospitalization_Rate</th>\n",
       "    </tr>\n",
       "  </thead>\n",
       "  <tbody>\n",
       "    <tr>\n",
       "      <th>0</th>\n",
       "      <td>Alabama</td>\n",
       "      <td>US</td>\n",
       "      <td>6/1/20 2:32</td>\n",
       "      <td>32.3182</td>\n",
       "      <td>-86.9023</td>\n",
       "      <td>17952</td>\n",
       "      <td>630</td>\n",
       "      <td>9355.0</td>\n",
       "      <td>7967</td>\n",
       "      <td>1</td>\n",
       "      <td>366.129363</td>\n",
       "      <td>217553.0</td>\n",
       "      <td>1844.0</td>\n",
       "      <td>3.509358</td>\n",
       "      <td>84000001</td>\n",
       "      <td>USA</td>\n",
       "      <td>4436.973110</td>\n",
       "      <td>10.271836</td>\n",
       "    </tr>\n",
       "    <tr>\n",
       "      <th>1</th>\n",
       "      <td>Alaska</td>\n",
       "      <td>US</td>\n",
       "      <td>6/1/20 2:32</td>\n",
       "      <td>61.3707</td>\n",
       "      <td>-152.4044</td>\n",
       "      <td>459</td>\n",
       "      <td>10</td>\n",
       "      <td>368.0</td>\n",
       "      <td>81</td>\n",
       "      <td>2</td>\n",
       "      <td>62.743919</td>\n",
       "      <td>51695.0</td>\n",
       "      <td>NaN</td>\n",
       "      <td>2.178649</td>\n",
       "      <td>84000002</td>\n",
       "      <td>USA</td>\n",
       "      <td>7066.550930</td>\n",
       "      <td>NaN</td>\n",
       "    </tr>\n",
       "    <tr>\n",
       "      <th>2</th>\n",
       "      <td>American Samoa</td>\n",
       "      <td>US</td>\n",
       "      <td>6/1/20 2:32</td>\n",
       "      <td>-14.2710</td>\n",
       "      <td>-170.1320</td>\n",
       "      <td>0</td>\n",
       "      <td>0</td>\n",
       "      <td>NaN</td>\n",
       "      <td>0</td>\n",
       "      <td>60</td>\n",
       "      <td>0.000000</td>\n",
       "      <td>174.0</td>\n",
       "      <td>NaN</td>\n",
       "      <td>NaN</td>\n",
       "      <td>16</td>\n",
       "      <td>ASM</td>\n",
       "      <td>312.719038</td>\n",
       "      <td>NaN</td>\n",
       "    </tr>\n",
       "    <tr>\n",
       "      <th>3</th>\n",
       "      <td>Arizona</td>\n",
       "      <td>US</td>\n",
       "      <td>6/1/20 2:32</td>\n",
       "      <td>33.7298</td>\n",
       "      <td>-111.4312</td>\n",
       "      <td>19936</td>\n",
       "      <td>907</td>\n",
       "      <td>4761.0</td>\n",
       "      <td>14268</td>\n",
       "      <td>4</td>\n",
       "      <td>273.894424</td>\n",
       "      <td>225206.0</td>\n",
       "      <td>2998.0</td>\n",
       "      <td>4.549559</td>\n",
       "      <td>84000004</td>\n",
       "      <td>USA</td>\n",
       "      <td>3094.034292</td>\n",
       "      <td>15.038122</td>\n",
       "    </tr>\n",
       "    <tr>\n",
       "      <th>4</th>\n",
       "      <td>Arkansas</td>\n",
       "      <td>US</td>\n",
       "      <td>6/1/20 2:32</td>\n",
       "      <td>34.9697</td>\n",
       "      <td>-92.3731</td>\n",
       "      <td>7253</td>\n",
       "      <td>133</td>\n",
       "      <td>5275.0</td>\n",
       "      <td>1845</td>\n",
       "      <td>5</td>\n",
       "      <td>240.340327</td>\n",
       "      <td>129515.0</td>\n",
       "      <td>711.0</td>\n",
       "      <td>1.833724</td>\n",
       "      <td>84000005</td>\n",
       "      <td>USA</td>\n",
       "      <td>4291.696876</td>\n",
       "      <td>9.802840</td>\n",
       "    </tr>\n",
       "  </tbody>\n",
       "</table>\n",
       "</div>"
      ],
      "text/plain": [
       "            State Country_Region  Last_Update      Lat     Long_  Confirmed  \\\n",
       "0         Alabama             US  6/1/20 2:32  32.3182  -86.9023      17952   \n",
       "1          Alaska             US  6/1/20 2:32  61.3707 -152.4044        459   \n",
       "2  American Samoa             US  6/1/20 2:32 -14.2710 -170.1320          0   \n",
       "3         Arizona             US  6/1/20 2:32  33.7298 -111.4312      19936   \n",
       "4        Arkansas             US  6/1/20 2:32  34.9697  -92.3731       7253   \n",
       "\n",
       "   Deaths  Recovered  Active  FIPS  Incident_Rate  People_Tested  \\\n",
       "0     630     9355.0    7967     1     366.129363       217553.0   \n",
       "1      10      368.0      81     2      62.743919        51695.0   \n",
       "2       0        NaN       0    60       0.000000          174.0   \n",
       "3     907     4761.0   14268     4     273.894424       225206.0   \n",
       "4     133     5275.0    1845     5     240.340327       129515.0   \n",
       "\n",
       "   People_Hospitalized  Mortality_Rate       UID ISO3  Testing_Rate  \\\n",
       "0               1844.0        3.509358  84000001  USA   4436.973110   \n",
       "1                  NaN        2.178649  84000002  USA   7066.550930   \n",
       "2                  NaN             NaN        16  ASM    312.719038   \n",
       "3               2998.0        4.549559  84000004  USA   3094.034292   \n",
       "4                711.0        1.833724  84000005  USA   4291.696876   \n",
       "\n",
       "   Hospitalization_Rate  \n",
       "0             10.271836  \n",
       "1                   NaN  \n",
       "2                   NaN  \n",
       "3             15.038122  \n",
       "4              9.802840  "
      ]
     },
     "execution_count": 5,
     "metadata": {},
     "output_type": "execute_result"
    }
   ],
   "source": [
    "df_covid = pd.read_csv(\"COVID.csv\")\n",
    "df_covid.head()"
   ]
  },
  {
   "cell_type": "code",
   "execution_count": 6,
   "metadata": {
    "scrolled": true
   },
   "outputs": [
    {
     "data": {
      "text/html": [
       "<div>\n",
       "<style scoped>\n",
       "    .dataframe tbody tr th:only-of-type {\n",
       "        vertical-align: middle;\n",
       "    }\n",
       "\n",
       "    .dataframe tbody tr th {\n",
       "        vertical-align: top;\n",
       "    }\n",
       "\n",
       "    .dataframe thead th {\n",
       "        text-align: right;\n",
       "    }\n",
       "</style>\n",
       "<table border=\"1\" class=\"dataframe\">\n",
       "  <thead>\n",
       "    <tr style=\"text-align: right;\">\n",
       "      <th></th>\n",
       "      <th>State</th>\n",
       "      <th>Country_Region</th>\n",
       "      <th>Last_Update</th>\n",
       "      <th>Lat</th>\n",
       "      <th>Long_</th>\n",
       "      <th>Confirmed</th>\n",
       "      <th>Deaths</th>\n",
       "      <th>Recovered</th>\n",
       "      <th>Active</th>\n",
       "      <th>FIPS</th>\n",
       "      <th>Incident_Rate</th>\n",
       "      <th>People_Tested</th>\n",
       "      <th>People_Hospitalized</th>\n",
       "      <th>Mortality_Rate</th>\n",
       "      <th>UID</th>\n",
       "      <th>ISO3</th>\n",
       "      <th>Testing_Rate</th>\n",
       "      <th>Hospitalization_Rate</th>\n",
       "      <th>Telemed_2019</th>\n",
       "      <th>Telemed_2020</th>\n",
       "    </tr>\n",
       "  </thead>\n",
       "  <tbody>\n",
       "    <tr>\n",
       "      <th>0</th>\n",
       "      <td>Alabama</td>\n",
       "      <td>US</td>\n",
       "      <td>6/1/20 2:32</td>\n",
       "      <td>32.3182</td>\n",
       "      <td>-86.9023</td>\n",
       "      <td>17952</td>\n",
       "      <td>630</td>\n",
       "      <td>9355.0</td>\n",
       "      <td>7967</td>\n",
       "      <td>1</td>\n",
       "      <td>366.129363</td>\n",
       "      <td>217553.0</td>\n",
       "      <td>1844.0</td>\n",
       "      <td>3.509358</td>\n",
       "      <td>84000001</td>\n",
       "      <td>USA</td>\n",
       "      <td>4436.973110</td>\n",
       "      <td>10.271836</td>\n",
       "      <td>37</td>\n",
       "      <td>55</td>\n",
       "    </tr>\n",
       "    <tr>\n",
       "      <th>1</th>\n",
       "      <td>Alaska</td>\n",
       "      <td>US</td>\n",
       "      <td>6/1/20 2:32</td>\n",
       "      <td>61.3707</td>\n",
       "      <td>-152.4044</td>\n",
       "      <td>459</td>\n",
       "      <td>10</td>\n",
       "      <td>368.0</td>\n",
       "      <td>81</td>\n",
       "      <td>2</td>\n",
       "      <td>62.743919</td>\n",
       "      <td>51695.0</td>\n",
       "      <td>NaN</td>\n",
       "      <td>2.178649</td>\n",
       "      <td>84000002</td>\n",
       "      <td>USA</td>\n",
       "      <td>7066.550930</td>\n",
       "      <td>NaN</td>\n",
       "      <td>48</td>\n",
       "      <td>90</td>\n",
       "    </tr>\n",
       "    <tr>\n",
       "      <th>2</th>\n",
       "      <td>Arizona</td>\n",
       "      <td>US</td>\n",
       "      <td>6/1/20 2:32</td>\n",
       "      <td>33.7298</td>\n",
       "      <td>-111.4312</td>\n",
       "      <td>19936</td>\n",
       "      <td>907</td>\n",
       "      <td>4761.0</td>\n",
       "      <td>14268</td>\n",
       "      <td>4</td>\n",
       "      <td>273.894424</td>\n",
       "      <td>225206.0</td>\n",
       "      <td>2998.0</td>\n",
       "      <td>4.549559</td>\n",
       "      <td>84000004</td>\n",
       "      <td>USA</td>\n",
       "      <td>3094.034292</td>\n",
       "      <td>15.038122</td>\n",
       "      <td>56</td>\n",
       "      <td>67</td>\n",
       "    </tr>\n",
       "    <tr>\n",
       "      <th>3</th>\n",
       "      <td>Arkansas</td>\n",
       "      <td>US</td>\n",
       "      <td>6/1/20 2:32</td>\n",
       "      <td>34.9697</td>\n",
       "      <td>-92.3731</td>\n",
       "      <td>7253</td>\n",
       "      <td>133</td>\n",
       "      <td>5275.0</td>\n",
       "      <td>1845</td>\n",
       "      <td>5</td>\n",
       "      <td>240.340327</td>\n",
       "      <td>129515.0</td>\n",
       "      <td>711.0</td>\n",
       "      <td>1.833724</td>\n",
       "      <td>84000005</td>\n",
       "      <td>USA</td>\n",
       "      <td>4291.696876</td>\n",
       "      <td>9.802840</td>\n",
       "      <td>40</td>\n",
       "      <td>74</td>\n",
       "    </tr>\n",
       "    <tr>\n",
       "      <th>4</th>\n",
       "      <td>California</td>\n",
       "      <td>US</td>\n",
       "      <td>6/1/20 2:32</td>\n",
       "      <td>36.1162</td>\n",
       "      <td>-119.6816</td>\n",
       "      <td>111951</td>\n",
       "      <td>4172</td>\n",
       "      <td>NaN</td>\n",
       "      <td>107779</td>\n",
       "      <td>6</td>\n",
       "      <td>283.332578</td>\n",
       "      <td>1944848.0</td>\n",
       "      <td>NaN</td>\n",
       "      <td>3.726630</td>\n",
       "      <td>84000006</td>\n",
       "      <td>USA</td>\n",
       "      <td>4922.142700</td>\n",
       "      <td>NaN</td>\n",
       "      <td>33</td>\n",
       "      <td>42</td>\n",
       "    </tr>\n",
       "    <tr>\n",
       "      <th>5</th>\n",
       "      <td>Colorado</td>\n",
       "      <td>US</td>\n",
       "      <td>6/1/20 2:32</td>\n",
       "      <td>39.0598</td>\n",
       "      <td>-105.3111</td>\n",
       "      <td>26364</td>\n",
       "      <td>1445</td>\n",
       "      <td>3919.0</td>\n",
       "      <td>21000</td>\n",
       "      <td>8</td>\n",
       "      <td>457.808797</td>\n",
       "      <td>180627.0</td>\n",
       "      <td>4333.0</td>\n",
       "      <td>5.480959</td>\n",
       "      <td>84000008</td>\n",
       "      <td>USA</td>\n",
       "      <td>3136.573720</td>\n",
       "      <td>16.435291</td>\n",
       "      <td>27</td>\n",
       "      <td>50</td>\n",
       "    </tr>\n",
       "    <tr>\n",
       "      <th>6</th>\n",
       "      <td>Connecticut</td>\n",
       "      <td>US</td>\n",
       "      <td>6/1/20 2:32</td>\n",
       "      <td>41.5978</td>\n",
       "      <td>-72.7554</td>\n",
       "      <td>42201</td>\n",
       "      <td>3944</td>\n",
       "      <td>7127.0</td>\n",
       "      <td>31130</td>\n",
       "      <td>9</td>\n",
       "      <td>1183.663475</td>\n",
       "      <td>250046.0</td>\n",
       "      <td>12538.0</td>\n",
       "      <td>9.345750</td>\n",
       "      <td>84000009</td>\n",
       "      <td>USA</td>\n",
       "      <td>7013.348435</td>\n",
       "      <td>29.710196</td>\n",
       "      <td>28</td>\n",
       "      <td>67</td>\n",
       "    </tr>\n",
       "    <tr>\n",
       "      <th>7</th>\n",
       "      <td>Delaware</td>\n",
       "      <td>US</td>\n",
       "      <td>6/1/20 2:32</td>\n",
       "      <td>39.3185</td>\n",
       "      <td>-75.5071</td>\n",
       "      <td>9498</td>\n",
       "      <td>366</td>\n",
       "      <td>5266.0</td>\n",
       "      <td>3866</td>\n",
       "      <td>10</td>\n",
       "      <td>975.390341</td>\n",
       "      <td>60671.0</td>\n",
       "      <td>NaN</td>\n",
       "      <td>3.853443</td>\n",
       "      <td>84000010</td>\n",
       "      <td>USA</td>\n",
       "      <td>6230.565106</td>\n",
       "      <td>NaN</td>\n",
       "      <td>48</td>\n",
       "      <td>74</td>\n",
       "    </tr>\n",
       "    <tr>\n",
       "      <th>8</th>\n",
       "      <td>District of Columbia</td>\n",
       "      <td>US</td>\n",
       "      <td>6/1/20 2:32</td>\n",
       "      <td>38.8974</td>\n",
       "      <td>-77.0268</td>\n",
       "      <td>8801</td>\n",
       "      <td>466</td>\n",
       "      <td>1116.0</td>\n",
       "      <td>7219</td>\n",
       "      <td>11</td>\n",
       "      <td>1247.043921</td>\n",
       "      <td>46483.0</td>\n",
       "      <td>NaN</td>\n",
       "      <td>5.294853</td>\n",
       "      <td>84000011</td>\n",
       "      <td>USA</td>\n",
       "      <td>6586.335935</td>\n",
       "      <td>NaN</td>\n",
       "      <td>100</td>\n",
       "      <td>100</td>\n",
       "    </tr>\n",
       "    <tr>\n",
       "      <th>9</th>\n",
       "      <td>Florida</td>\n",
       "      <td>US</td>\n",
       "      <td>6/1/20 2:32</td>\n",
       "      <td>27.7663</td>\n",
       "      <td>-81.6868</td>\n",
       "      <td>56163</td>\n",
       "      <td>2451</td>\n",
       "      <td>NaN</td>\n",
       "      <td>53712</td>\n",
       "      <td>12</td>\n",
       "      <td>261.494030</td>\n",
       "      <td>1021349.0</td>\n",
       "      <td>10453.0</td>\n",
       "      <td>4.364083</td>\n",
       "      <td>84000012</td>\n",
       "      <td>USA</td>\n",
       "      <td>4755.384611</td>\n",
       "      <td>18.611898</td>\n",
       "      <td>44</td>\n",
       "      <td>71</td>\n",
       "    </tr>\n",
       "    <tr>\n",
       "      <th>10</th>\n",
       "      <td>Georgia</td>\n",
       "      <td>US</td>\n",
       "      <td>6/1/20 2:32</td>\n",
       "      <td>33.0406</td>\n",
       "      <td>-83.6431</td>\n",
       "      <td>47063</td>\n",
       "      <td>2053</td>\n",
       "      <td>NaN</td>\n",
       "      <td>45010</td>\n",
       "      <td>13</td>\n",
       "      <td>443.261986</td>\n",
       "      <td>465525.0</td>\n",
       "      <td>7946.0</td>\n",
       "      <td>4.362238</td>\n",
       "      <td>84000013</td>\n",
       "      <td>USA</td>\n",
       "      <td>4384.538508</td>\n",
       "      <td>16.883752</td>\n",
       "      <td>44</td>\n",
       "      <td>62</td>\n",
       "    </tr>\n",
       "    <tr>\n",
       "      <th>11</th>\n",
       "      <td>Hawaii</td>\n",
       "      <td>US</td>\n",
       "      <td>6/1/20 2:32</td>\n",
       "      <td>21.0943</td>\n",
       "      <td>-157.4983</td>\n",
       "      <td>652</td>\n",
       "      <td>17</td>\n",
       "      <td>606.0</td>\n",
       "      <td>29</td>\n",
       "      <td>15</td>\n",
       "      <td>46.049360</td>\n",
       "      <td>54620.0</td>\n",
       "      <td>83.0</td>\n",
       "      <td>2.607362</td>\n",
       "      <td>84000015</td>\n",
       "      <td>USA</td>\n",
       "      <td>3857.693351</td>\n",
       "      <td>12.730061</td>\n",
       "      <td>34</td>\n",
       "      <td>44</td>\n",
       "    </tr>\n",
       "    <tr>\n",
       "      <th>12</th>\n",
       "      <td>Idaho</td>\n",
       "      <td>US</td>\n",
       "      <td>6/1/20 2:32</td>\n",
       "      <td>44.2405</td>\n",
       "      <td>-114.4788</td>\n",
       "      <td>2839</td>\n",
       "      <td>82</td>\n",
       "      <td>2248.0</td>\n",
       "      <td>509</td>\n",
       "      <td>16</td>\n",
       "      <td>158.863835</td>\n",
       "      <td>46697.0</td>\n",
       "      <td>242.0</td>\n",
       "      <td>2.888341</td>\n",
       "      <td>84000016</td>\n",
       "      <td>USA</td>\n",
       "      <td>2613.055485</td>\n",
       "      <td>8.524128</td>\n",
       "      <td>34</td>\n",
       "      <td>45</td>\n",
       "    </tr>\n",
       "    <tr>\n",
       "      <th>13</th>\n",
       "      <td>Illinois</td>\n",
       "      <td>US</td>\n",
       "      <td>6/1/20 2:32</td>\n",
       "      <td>40.3495</td>\n",
       "      <td>-88.9861</td>\n",
       "      <td>120260</td>\n",
       "      <td>5390</td>\n",
       "      <td>NaN</td>\n",
       "      <td>114870</td>\n",
       "      <td>17</td>\n",
       "      <td>949.034870</td>\n",
       "      <td>898259.0</td>\n",
       "      <td>NaN</td>\n",
       "      <td>4.481956</td>\n",
       "      <td>84000017</td>\n",
       "      <td>USA</td>\n",
       "      <td>7088.633907</td>\n",
       "      <td>NaN</td>\n",
       "      <td>32</td>\n",
       "      <td>48</td>\n",
       "    </tr>\n",
       "    <tr>\n",
       "      <th>14</th>\n",
       "      <td>Indiana</td>\n",
       "      <td>US</td>\n",
       "      <td>6/1/20 2:32</td>\n",
       "      <td>39.8494</td>\n",
       "      <td>-86.2583</td>\n",
       "      <td>34574</td>\n",
       "      <td>2134</td>\n",
       "      <td>21704.0</td>\n",
       "      <td>10736</td>\n",
       "      <td>18</td>\n",
       "      <td>513.560239</td>\n",
       "      <td>261546.0</td>\n",
       "      <td>5285.0</td>\n",
       "      <td>6.172268</td>\n",
       "      <td>84000018</td>\n",
       "      <td>USA</td>\n",
       "      <td>3884.989481</td>\n",
       "      <td>15.286053</td>\n",
       "      <td>26</td>\n",
       "      <td>42</td>\n",
       "    </tr>\n",
       "    <tr>\n",
       "      <th>15</th>\n",
       "      <td>Iowa</td>\n",
       "      <td>US</td>\n",
       "      <td>6/1/20 2:32</td>\n",
       "      <td>42.0115</td>\n",
       "      <td>-93.2105</td>\n",
       "      <td>19552</td>\n",
       "      <td>535</td>\n",
       "      <td>11147.0</td>\n",
       "      <td>7870</td>\n",
       "      <td>19</td>\n",
       "      <td>619.700989</td>\n",
       "      <td>156296.0</td>\n",
       "      <td>NaN</td>\n",
       "      <td>2.736293</td>\n",
       "      <td>84000019</td>\n",
       "      <td>USA</td>\n",
       "      <td>4953.804511</td>\n",
       "      <td>NaN</td>\n",
       "      <td>33</td>\n",
       "      <td>36</td>\n",
       "    </tr>\n",
       "    <tr>\n",
       "      <th>16</th>\n",
       "      <td>Kansas</td>\n",
       "      <td>US</td>\n",
       "      <td>6/1/20 2:32</td>\n",
       "      <td>38.5266</td>\n",
       "      <td>-96.7265</td>\n",
       "      <td>9700</td>\n",
       "      <td>215</td>\n",
       "      <td>547.0</td>\n",
       "      <td>8938</td>\n",
       "      <td>20</td>\n",
       "      <td>332.954155</td>\n",
       "      <td>94949.0</td>\n",
       "      <td>842.0</td>\n",
       "      <td>2.216495</td>\n",
       "      <td>84000020</td>\n",
       "      <td>USA</td>\n",
       "      <td>3259.140621</td>\n",
       "      <td>8.680412</td>\n",
       "      <td>35</td>\n",
       "      <td>59</td>\n",
       "    </tr>\n",
       "    <tr>\n",
       "      <th>17</th>\n",
       "      <td>Kentucky</td>\n",
       "      <td>US</td>\n",
       "      <td>6/1/20 2:32</td>\n",
       "      <td>37.6681</td>\n",
       "      <td>-84.6701</td>\n",
       "      <td>9704</td>\n",
       "      <td>431</td>\n",
       "      <td>3232.0</td>\n",
       "      <td>6041</td>\n",
       "      <td>21</td>\n",
       "      <td>217.204795</td>\n",
       "      <td>213753.0</td>\n",
       "      <td>2272.0</td>\n",
       "      <td>4.441467</td>\n",
       "      <td>84000021</td>\n",
       "      <td>USA</td>\n",
       "      <td>4784.436999</td>\n",
       "      <td>23.413026</td>\n",
       "      <td>35</td>\n",
       "      <td>49</td>\n",
       "    </tr>\n",
       "    <tr>\n",
       "      <th>18</th>\n",
       "      <td>Louisiana</td>\n",
       "      <td>US</td>\n",
       "      <td>6/1/20 2:32</td>\n",
       "      <td>31.1695</td>\n",
       "      <td>-91.8678</td>\n",
       "      <td>39916</td>\n",
       "      <td>2791</td>\n",
       "      <td>28700.0</td>\n",
       "      <td>8425</td>\n",
       "      <td>22</td>\n",
       "      <td>858.631292</td>\n",
       "      <td>375109.0</td>\n",
       "      <td>NaN</td>\n",
       "      <td>6.992184</td>\n",
       "      <td>84000022</td>\n",
       "      <td>USA</td>\n",
       "      <td>8068.952937</td>\n",
       "      <td>NaN</td>\n",
       "      <td>43</td>\n",
       "      <td>75</td>\n",
       "    </tr>\n",
       "    <tr>\n",
       "      <th>19</th>\n",
       "      <td>Maine</td>\n",
       "      <td>US</td>\n",
       "      <td>6/1/20 2:32</td>\n",
       "      <td>44.6939</td>\n",
       "      <td>-69.3819</td>\n",
       "      <td>2325</td>\n",
       "      <td>89</td>\n",
       "      <td>1552.0</td>\n",
       "      <td>684</td>\n",
       "      <td>23</td>\n",
       "      <td>172.963788</td>\n",
       "      <td>49609.0</td>\n",
       "      <td>283.0</td>\n",
       "      <td>3.827957</td>\n",
       "      <td>84000023</td>\n",
       "      <td>USA</td>\n",
       "      <td>3690.563691</td>\n",
       "      <td>12.172043</td>\n",
       "      <td>52</td>\n",
       "      <td>47</td>\n",
       "    </tr>\n",
       "    <tr>\n",
       "      <th>20</th>\n",
       "      <td>Maryland</td>\n",
       "      <td>US</td>\n",
       "      <td>6/1/20 2:32</td>\n",
       "      <td>39.0639</td>\n",
       "      <td>-76.8021</td>\n",
       "      <td>52778</td>\n",
       "      <td>2532</td>\n",
       "      <td>3764.0</td>\n",
       "      <td>46482</td>\n",
       "      <td>24</td>\n",
       "      <td>872.986992</td>\n",
       "      <td>301881.0</td>\n",
       "      <td>8738.0</td>\n",
       "      <td>4.797453</td>\n",
       "      <td>84000024</td>\n",
       "      <td>USA</td>\n",
       "      <td>4993.334083</td>\n",
       "      <td>16.556141</td>\n",
       "      <td>49</td>\n",
       "      <td>73</td>\n",
       "    </tr>\n",
       "    <tr>\n",
       "      <th>21</th>\n",
       "      <td>Massachusetts</td>\n",
       "      <td>US</td>\n",
       "      <td>6/1/20 2:32</td>\n",
       "      <td>42.2302</td>\n",
       "      <td>-71.5301</td>\n",
       "      <td>96965</td>\n",
       "      <td>6846</td>\n",
       "      <td>NaN</td>\n",
       "      <td>90119</td>\n",
       "      <td>25</td>\n",
       "      <td>1406.818394</td>\n",
       "      <td>592853.0</td>\n",
       "      <td>9823.0</td>\n",
       "      <td>7.060279</td>\n",
       "      <td>84000025</td>\n",
       "      <td>USA</td>\n",
       "      <td>8601.418092</td>\n",
       "      <td>10.130459</td>\n",
       "      <td>39</td>\n",
       "      <td>59</td>\n",
       "    </tr>\n",
       "    <tr>\n",
       "      <th>22</th>\n",
       "      <td>Michigan</td>\n",
       "      <td>US</td>\n",
       "      <td>6/1/20 2:32</td>\n",
       "      <td>43.3266</td>\n",
       "      <td>-84.5361</td>\n",
       "      <td>57397</td>\n",
       "      <td>5491</td>\n",
       "      <td>38099.0</td>\n",
       "      <td>13807</td>\n",
       "      <td>26</td>\n",
       "      <td>574.725362</td>\n",
       "      <td>554630.0</td>\n",
       "      <td>NaN</td>\n",
       "      <td>9.566702</td>\n",
       "      <td>84000026</td>\n",
       "      <td>USA</td>\n",
       "      <td>5553.599095</td>\n",
       "      <td>NaN</td>\n",
       "      <td>33</td>\n",
       "      <td>55</td>\n",
       "    </tr>\n",
       "    <tr>\n",
       "      <th>23</th>\n",
       "      <td>Minnesota</td>\n",
       "      <td>US</td>\n",
       "      <td>6/1/20 2:32</td>\n",
       "      <td>45.6945</td>\n",
       "      <td>-93.9002</td>\n",
       "      <td>24850</td>\n",
       "      <td>1050</td>\n",
       "      <td>18695.0</td>\n",
       "      <td>5105</td>\n",
       "      <td>27</td>\n",
       "      <td>440.631587</td>\n",
       "      <td>249519.0</td>\n",
       "      <td>3047.0</td>\n",
       "      <td>4.225352</td>\n",
       "      <td>84000027</td>\n",
       "      <td>USA</td>\n",
       "      <td>4424.384428</td>\n",
       "      <td>12.261569</td>\n",
       "      <td>41</td>\n",
       "      <td>52</td>\n",
       "    </tr>\n",
       "    <tr>\n",
       "      <th>24</th>\n",
       "      <td>Mississippi</td>\n",
       "      <td>US</td>\n",
       "      <td>6/1/20 2:32</td>\n",
       "      <td>32.7416</td>\n",
       "      <td>-89.6787</td>\n",
       "      <td>15523</td>\n",
       "      <td>734</td>\n",
       "      <td>9401.0</td>\n",
       "      <td>5388</td>\n",
       "      <td>28</td>\n",
       "      <td>521.580069</td>\n",
       "      <td>171837.0</td>\n",
       "      <td>2272.0</td>\n",
       "      <td>4.728467</td>\n",
       "      <td>84000028</td>\n",
       "      <td>USA</td>\n",
       "      <td>5773.803664</td>\n",
       "      <td>14.636346</td>\n",
       "      <td>39</td>\n",
       "      <td>57</td>\n",
       "    </tr>\n",
       "    <tr>\n",
       "      <th>25</th>\n",
       "      <td>Missouri</td>\n",
       "      <td>US</td>\n",
       "      <td>6/1/20 2:32</td>\n",
       "      <td>38.4561</td>\n",
       "      <td>-92.2884</td>\n",
       "      <td>13438</td>\n",
       "      <td>776</td>\n",
       "      <td>NaN</td>\n",
       "      <td>12662</td>\n",
       "      <td>29</td>\n",
       "      <td>218.951652</td>\n",
       "      <td>193561.0</td>\n",
       "      <td>NaN</td>\n",
       "      <td>5.774669</td>\n",
       "      <td>84000029</td>\n",
       "      <td>USA</td>\n",
       "      <td>3153.780378</td>\n",
       "      <td>NaN</td>\n",
       "      <td>32</td>\n",
       "      <td>41</td>\n",
       "    </tr>\n",
       "    <tr>\n",
       "      <th>26</th>\n",
       "      <td>Montana</td>\n",
       "      <td>US</td>\n",
       "      <td>6/1/20 2:32</td>\n",
       "      <td>46.9219</td>\n",
       "      <td>-110.4544</td>\n",
       "      <td>515</td>\n",
       "      <td>17</td>\n",
       "      <td>456.0</td>\n",
       "      <td>42</td>\n",
       "      <td>30</td>\n",
       "      <td>48.185872</td>\n",
       "      <td>39798.0</td>\n",
       "      <td>67.0</td>\n",
       "      <td>3.300971</td>\n",
       "      <td>84000030</td>\n",
       "      <td>USA</td>\n",
       "      <td>3723.691917</td>\n",
       "      <td>13.009709</td>\n",
       "      <td>26</td>\n",
       "      <td>40</td>\n",
       "    </tr>\n",
       "    <tr>\n",
       "      <th>27</th>\n",
       "      <td>Nebraska</td>\n",
       "      <td>US</td>\n",
       "      <td>6/1/20 2:32</td>\n",
       "      <td>41.1254</td>\n",
       "      <td>-98.2681</td>\n",
       "      <td>14101</td>\n",
       "      <td>170</td>\n",
       "      <td>NaN</td>\n",
       "      <td>13931</td>\n",
       "      <td>31</td>\n",
       "      <td>728.956870</td>\n",
       "      <td>101142.0</td>\n",
       "      <td>NaN</td>\n",
       "      <td>1.205588</td>\n",
       "      <td>84000031</td>\n",
       "      <td>USA</td>\n",
       "      <td>5228.576391</td>\n",
       "      <td>NaN</td>\n",
       "      <td>31</td>\n",
       "      <td>44</td>\n",
       "    </tr>\n",
       "    <tr>\n",
       "      <th>28</th>\n",
       "      <td>Nevada</td>\n",
       "      <td>US</td>\n",
       "      <td>6/1/20 2:32</td>\n",
       "      <td>38.3135</td>\n",
       "      <td>-117.0554</td>\n",
       "      <td>8628</td>\n",
       "      <td>417</td>\n",
       "      <td>428.0</td>\n",
       "      <td>7783</td>\n",
       "      <td>32</td>\n",
       "      <td>280.115682</td>\n",
       "      <td>142560.0</td>\n",
       "      <td>NaN</td>\n",
       "      <td>4.833102</td>\n",
       "      <td>84000032</td>\n",
       "      <td>USA</td>\n",
       "      <td>4628.337006</td>\n",
       "      <td>NaN</td>\n",
       "      <td>46</td>\n",
       "      <td>47</td>\n",
       "    </tr>\n",
       "    <tr>\n",
       "      <th>29</th>\n",
       "      <td>New Hampshire</td>\n",
       "      <td>US</td>\n",
       "      <td>6/1/20 2:32</td>\n",
       "      <td>43.4525</td>\n",
       "      <td>-71.5639</td>\n",
       "      <td>4651</td>\n",
       "      <td>245</td>\n",
       "      <td>2940.0</td>\n",
       "      <td>1466</td>\n",
       "      <td>33</td>\n",
       "      <td>342.057981</td>\n",
       "      <td>70280.0</td>\n",
       "      <td>449.0</td>\n",
       "      <td>5.267684</td>\n",
       "      <td>84000033</td>\n",
       "      <td>USA</td>\n",
       "      <td>5168.745417</td>\n",
       "      <td>9.653838</td>\n",
       "      <td>41</td>\n",
       "      <td>47</td>\n",
       "    </tr>\n",
       "    <tr>\n",
       "      <th>30</th>\n",
       "      <td>New Jersey</td>\n",
       "      <td>US</td>\n",
       "      <td>6/1/20 2:32</td>\n",
       "      <td>40.2989</td>\n",
       "      <td>-74.5210</td>\n",
       "      <td>160445</td>\n",
       "      <td>11698</td>\n",
       "      <td>26560.0</td>\n",
       "      <td>122187</td>\n",
       "      <td>34</td>\n",
       "      <td>1806.367574</td>\n",
       "      <td>746145.0</td>\n",
       "      <td>17197.0</td>\n",
       "      <td>7.290972</td>\n",
       "      <td>84000034</td>\n",
       "      <td>USA</td>\n",
       "      <td>8400.462048</td>\n",
       "      <td>10.718315</td>\n",
       "      <td>36</td>\n",
       "      <td>84</td>\n",
       "    </tr>\n",
       "    <tr>\n",
       "      <th>31</th>\n",
       "      <td>New Mexico</td>\n",
       "      <td>US</td>\n",
       "      <td>6/1/20 2:32</td>\n",
       "      <td>34.8405</td>\n",
       "      <td>-106.2485</td>\n",
       "      <td>7689</td>\n",
       "      <td>356</td>\n",
       "      <td>2835.0</td>\n",
       "      <td>4498</td>\n",
       "      <td>35</td>\n",
       "      <td>366.696569</td>\n",
       "      <td>194447.0</td>\n",
       "      <td>1317.0</td>\n",
       "      <td>4.629991</td>\n",
       "      <td>84000035</td>\n",
       "      <td>USA</td>\n",
       "      <td>9273.383762</td>\n",
       "      <td>17.128365</td>\n",
       "      <td>47</td>\n",
       "      <td>48</td>\n",
       "    </tr>\n",
       "    <tr>\n",
       "      <th>32</th>\n",
       "      <td>New York</td>\n",
       "      <td>US</td>\n",
       "      <td>6/1/20 2:32</td>\n",
       "      <td>42.1657</td>\n",
       "      <td>-74.9481</td>\n",
       "      <td>370770</td>\n",
       "      <td>29784</td>\n",
       "      <td>65934.0</td>\n",
       "      <td>275052</td>\n",
       "      <td>36</td>\n",
       "      <td>1905.923548</td>\n",
       "      <td>2063825.0</td>\n",
       "      <td>89590.0</td>\n",
       "      <td>8.033012</td>\n",
       "      <td>84000036</td>\n",
       "      <td>USA</td>\n",
       "      <td>10608.983110</td>\n",
       "      <td>24.163228</td>\n",
       "      <td>60</td>\n",
       "      <td>70</td>\n",
       "    </tr>\n",
       "    <tr>\n",
       "      <th>33</th>\n",
       "      <td>North Carolina</td>\n",
       "      <td>US</td>\n",
       "      <td>6/1/20 2:32</td>\n",
       "      <td>35.6301</td>\n",
       "      <td>-79.8064</td>\n",
       "      <td>28785</td>\n",
       "      <td>937</td>\n",
       "      <td>14954.0</td>\n",
       "      <td>12894</td>\n",
       "      <td>37</td>\n",
       "      <td>274.454324</td>\n",
       "      <td>416289.0</td>\n",
       "      <td>NaN</td>\n",
       "      <td>3.255168</td>\n",
       "      <td>84000037</td>\n",
       "      <td>USA</td>\n",
       "      <td>3969.161574</td>\n",
       "      <td>NaN</td>\n",
       "      <td>38</td>\n",
       "      <td>48</td>\n",
       "    </tr>\n",
       "    <tr>\n",
       "      <th>34</th>\n",
       "      <td>North Dakota</td>\n",
       "      <td>US</td>\n",
       "      <td>6/1/20 2:32</td>\n",
       "      <td>47.5289</td>\n",
       "      <td>-99.7840</td>\n",
       "      <td>2577</td>\n",
       "      <td>61</td>\n",
       "      <td>1959.0</td>\n",
       "      <td>557</td>\n",
       "      <td>38</td>\n",
       "      <td>338.161462</td>\n",
       "      <td>72040.0</td>\n",
       "      <td>167.0</td>\n",
       "      <td>2.367094</td>\n",
       "      <td>84000038</td>\n",
       "      <td>USA</td>\n",
       "      <td>9453.299075</td>\n",
       "      <td>6.480404</td>\n",
       "      <td>66</td>\n",
       "      <td>42</td>\n",
       "    </tr>\n",
       "    <tr>\n",
       "      <th>35</th>\n",
       "      <td>Ohio</td>\n",
       "      <td>US</td>\n",
       "      <td>6/1/20 2:32</td>\n",
       "      <td>40.3888</td>\n",
       "      <td>-82.7649</td>\n",
       "      <td>35513</td>\n",
       "      <td>2155</td>\n",
       "      <td>NaN</td>\n",
       "      <td>33358</td>\n",
       "      <td>39</td>\n",
       "      <td>303.812954</td>\n",
       "      <td>390908.0</td>\n",
       "      <td>6049.0</td>\n",
       "      <td>6.068200</td>\n",
       "      <td>84000039</td>\n",
       "      <td>USA</td>\n",
       "      <td>3344.209563</td>\n",
       "      <td>17.033199</td>\n",
       "      <td>27</td>\n",
       "      <td>43</td>\n",
       "    </tr>\n",
       "    <tr>\n",
       "      <th>36</th>\n",
       "      <td>Oklahoma</td>\n",
       "      <td>US</td>\n",
       "      <td>6/1/20 2:32</td>\n",
       "      <td>35.5653</td>\n",
       "      <td>-96.9289</td>\n",
       "      <td>6418</td>\n",
       "      <td>334</td>\n",
       "      <td>5492.0</td>\n",
       "      <td>592</td>\n",
       "      <td>40</td>\n",
       "      <td>162.194770</td>\n",
       "      <td>193206.0</td>\n",
       "      <td>985.0</td>\n",
       "      <td>5.204113</td>\n",
       "      <td>84000040</td>\n",
       "      <td>USA</td>\n",
       "      <td>4882.674146</td>\n",
       "      <td>15.347460</td>\n",
       "      <td>29</td>\n",
       "      <td>58</td>\n",
       "    </tr>\n",
       "    <tr>\n",
       "      <th>37</th>\n",
       "      <td>Oregon</td>\n",
       "      <td>US</td>\n",
       "      <td>6/1/20 2:32</td>\n",
       "      <td>44.5720</td>\n",
       "      <td>-122.0709</td>\n",
       "      <td>4243</td>\n",
       "      <td>153</td>\n",
       "      <td>2152.0</td>\n",
       "      <td>1938</td>\n",
       "      <td>41</td>\n",
       "      <td>100.598970</td>\n",
       "      <td>129201.0</td>\n",
       "      <td>786.0</td>\n",
       "      <td>3.605939</td>\n",
       "      <td>84000041</td>\n",
       "      <td>USA</td>\n",
       "      <td>3063.277772</td>\n",
       "      <td>18.524629</td>\n",
       "      <td>30</td>\n",
       "      <td>55</td>\n",
       "    </tr>\n",
       "    <tr>\n",
       "      <th>38</th>\n",
       "      <td>Pennsylvania</td>\n",
       "      <td>US</td>\n",
       "      <td>6/1/20 2:32</td>\n",
       "      <td>40.5908</td>\n",
       "      <td>-77.2098</td>\n",
       "      <td>76129</td>\n",
       "      <td>5555</td>\n",
       "      <td>48190.0</td>\n",
       "      <td>22384</td>\n",
       "      <td>42</td>\n",
       "      <td>594.665407</td>\n",
       "      <td>455657.0</td>\n",
       "      <td>NaN</td>\n",
       "      <td>7.296825</td>\n",
       "      <td>84000042</td>\n",
       "      <td>USA</td>\n",
       "      <td>3559.267236</td>\n",
       "      <td>NaN</td>\n",
       "      <td>41</td>\n",
       "      <td>65</td>\n",
       "    </tr>\n",
       "    <tr>\n",
       "      <th>39</th>\n",
       "      <td>Rhode Island</td>\n",
       "      <td>US</td>\n",
       "      <td>6/1/20 2:32</td>\n",
       "      <td>41.6809</td>\n",
       "      <td>-71.5118</td>\n",
       "      <td>14928</td>\n",
       "      <td>718</td>\n",
       "      <td>1252.0</td>\n",
       "      <td>12958</td>\n",
       "      <td>44</td>\n",
       "      <td>1409.151366</td>\n",
       "      <td>154493.0</td>\n",
       "      <td>1701.0</td>\n",
       "      <td>4.809753</td>\n",
       "      <td>84000044</td>\n",
       "      <td>USA</td>\n",
       "      <td>14583.602760</td>\n",
       "      <td>11.394695</td>\n",
       "      <td>20</td>\n",
       "      <td>60</td>\n",
       "    </tr>\n",
       "    <tr>\n",
       "      <th>40</th>\n",
       "      <td>South Carolina</td>\n",
       "      <td>US</td>\n",
       "      <td>6/1/20 2:32</td>\n",
       "      <td>33.8569</td>\n",
       "      <td>-80.9450</td>\n",
       "      <td>11861</td>\n",
       "      <td>494</td>\n",
       "      <td>6459.0</td>\n",
       "      <td>4908</td>\n",
       "      <td>45</td>\n",
       "      <td>230.368205</td>\n",
       "      <td>200216.0</td>\n",
       "      <td>1634.0</td>\n",
       "      <td>4.164910</td>\n",
       "      <td>84000045</td>\n",
       "      <td>USA</td>\n",
       "      <td>3888.660353</td>\n",
       "      <td>13.776241</td>\n",
       "      <td>36</td>\n",
       "      <td>46</td>\n",
       "    </tr>\n",
       "    <tr>\n",
       "      <th>41</th>\n",
       "      <td>South Dakota</td>\n",
       "      <td>US</td>\n",
       "      <td>6/1/20 2:32</td>\n",
       "      <td>44.2998</td>\n",
       "      <td>-99.4388</td>\n",
       "      <td>4993</td>\n",
       "      <td>62</td>\n",
       "      <td>3837.0</td>\n",
       "      <td>1094</td>\n",
       "      <td>46</td>\n",
       "      <td>564.398260</td>\n",
       "      <td>44128.0</td>\n",
       "      <td>432.0</td>\n",
       "      <td>1.241738</td>\n",
       "      <td>84000046</td>\n",
       "      <td>USA</td>\n",
       "      <td>4988.136672</td>\n",
       "      <td>8.652113</td>\n",
       "      <td>83</td>\n",
       "      <td>66</td>\n",
       "    </tr>\n",
       "    <tr>\n",
       "      <th>42</th>\n",
       "      <td>Tennessee</td>\n",
       "      <td>US</td>\n",
       "      <td>6/1/20 2:32</td>\n",
       "      <td>35.7478</td>\n",
       "      <td>-86.6923</td>\n",
       "      <td>22566</td>\n",
       "      <td>364</td>\n",
       "      <td>15300.0</td>\n",
       "      <td>6902</td>\n",
       "      <td>47</td>\n",
       "      <td>330.435277</td>\n",
       "      <td>435977.0</td>\n",
       "      <td>1750.0</td>\n",
       "      <td>1.613046</td>\n",
       "      <td>84000047</td>\n",
       "      <td>USA</td>\n",
       "      <td>6384.037074</td>\n",
       "      <td>7.755030</td>\n",
       "      <td>43</td>\n",
       "      <td>61</td>\n",
       "    </tr>\n",
       "    <tr>\n",
       "      <th>43</th>\n",
       "      <td>Texas</td>\n",
       "      <td>US</td>\n",
       "      <td>6/1/20 2:32</td>\n",
       "      <td>31.0545</td>\n",
       "      <td>-97.5635</td>\n",
       "      <td>64652</td>\n",
       "      <td>1675</td>\n",
       "      <td>42423.0</td>\n",
       "      <td>20554</td>\n",
       "      <td>48</td>\n",
       "      <td>222.969600</td>\n",
       "      <td>951865.0</td>\n",
       "      <td>NaN</td>\n",
       "      <td>2.590794</td>\n",
       "      <td>84000048</td>\n",
       "      <td>USA</td>\n",
       "      <td>3282.759368</td>\n",
       "      <td>NaN</td>\n",
       "      <td>43</td>\n",
       "      <td>59</td>\n",
       "    </tr>\n",
       "    <tr>\n",
       "      <th>44</th>\n",
       "      <td>Utah</td>\n",
       "      <td>US</td>\n",
       "      <td>6/1/20 2:32</td>\n",
       "      <td>40.1500</td>\n",
       "      <td>-111.8624</td>\n",
       "      <td>9797</td>\n",
       "      <td>113</td>\n",
       "      <td>6137.0</td>\n",
       "      <td>3547</td>\n",
       "      <td>49</td>\n",
       "      <td>305.587285</td>\n",
       "      <td>213914.0</td>\n",
       "      <td>775.0</td>\n",
       "      <td>1.153414</td>\n",
       "      <td>84000049</td>\n",
       "      <td>USA</td>\n",
       "      <td>6672.389345</td>\n",
       "      <td>7.910585</td>\n",
       "      <td>31</td>\n",
       "      <td>31</td>\n",
       "    </tr>\n",
       "    <tr>\n",
       "      <th>45</th>\n",
       "      <td>Vermont</td>\n",
       "      <td>US</td>\n",
       "      <td>6/1/20 2:32</td>\n",
       "      <td>44.0459</td>\n",
       "      <td>-72.7107</td>\n",
       "      <td>981</td>\n",
       "      <td>55</td>\n",
       "      <td>873.0</td>\n",
       "      <td>53</td>\n",
       "      <td>50</td>\n",
       "      <td>157.214310</td>\n",
       "      <td>33970.0</td>\n",
       "      <td>NaN</td>\n",
       "      <td>5.606524</td>\n",
       "      <td>84000050</td>\n",
       "      <td>USA</td>\n",
       "      <td>5444.006224</td>\n",
       "      <td>NaN</td>\n",
       "      <td>44</td>\n",
       "      <td>68</td>\n",
       "    </tr>\n",
       "    <tr>\n",
       "      <th>46</th>\n",
       "      <td>Virginia</td>\n",
       "      <td>US</td>\n",
       "      <td>6/1/20 2:32</td>\n",
       "      <td>37.7693</td>\n",
       "      <td>-78.1700</td>\n",
       "      <td>44607</td>\n",
       "      <td>1375</td>\n",
       "      <td>5868.0</td>\n",
       "      <td>37364</td>\n",
       "      <td>51</td>\n",
       "      <td>522.604425</td>\n",
       "      <td>315391.0</td>\n",
       "      <td>7326.0</td>\n",
       "      <td>3.082476</td>\n",
       "      <td>84000051</td>\n",
       "      <td>USA</td>\n",
       "      <td>3695.041860</td>\n",
       "      <td>16.423431</td>\n",
       "      <td>51</td>\n",
       "      <td>55</td>\n",
       "    </tr>\n",
       "    <tr>\n",
       "      <th>47</th>\n",
       "      <td>Washington</td>\n",
       "      <td>US</td>\n",
       "      <td>6/1/20 2:32</td>\n",
       "      <td>47.4009</td>\n",
       "      <td>-121.4905</td>\n",
       "      <td>21702</td>\n",
       "      <td>1118</td>\n",
       "      <td>NaN</td>\n",
       "      <td>20584</td>\n",
       "      <td>53</td>\n",
       "      <td>284.994156</td>\n",
       "      <td>354354.0</td>\n",
       "      <td>3480.0</td>\n",
       "      <td>5.151599</td>\n",
       "      <td>84000053</td>\n",
       "      <td>USA</td>\n",
       "      <td>4653.433738</td>\n",
       "      <td>16.035388</td>\n",
       "      <td>27</td>\n",
       "      <td>49</td>\n",
       "    </tr>\n",
       "    <tr>\n",
       "      <th>48</th>\n",
       "      <td>West Virginia</td>\n",
       "      <td>US</td>\n",
       "      <td>6/1/20 2:32</td>\n",
       "      <td>38.4912</td>\n",
       "      <td>-80.9545</td>\n",
       "      <td>2010</td>\n",
       "      <td>75</td>\n",
       "      <td>1303.0</td>\n",
       "      <td>632</td>\n",
       "      <td>54</td>\n",
       "      <td>112.155978</td>\n",
       "      <td>97622.0</td>\n",
       "      <td>NaN</td>\n",
       "      <td>3.731343</td>\n",
       "      <td>84000054</td>\n",
       "      <td>USA</td>\n",
       "      <td>5447.209409</td>\n",
       "      <td>NaN</td>\n",
       "      <td>56</td>\n",
       "      <td>67</td>\n",
       "    </tr>\n",
       "    <tr>\n",
       "      <th>49</th>\n",
       "      <td>Wisconsin</td>\n",
       "      <td>US</td>\n",
       "      <td>6/1/20 2:32</td>\n",
       "      <td>44.2685</td>\n",
       "      <td>-89.6165</td>\n",
       "      <td>18403</td>\n",
       "      <td>592</td>\n",
       "      <td>11646.0</td>\n",
       "      <td>6165</td>\n",
       "      <td>55</td>\n",
       "      <td>316.070564</td>\n",
       "      <td>268506.0</td>\n",
       "      <td>2583.0</td>\n",
       "      <td>3.216867</td>\n",
       "      <td>84000055</td>\n",
       "      <td>USA</td>\n",
       "      <td>4611.576533</td>\n",
       "      <td>14.035755</td>\n",
       "      <td>26</td>\n",
       "      <td>31</td>\n",
       "    </tr>\n",
       "    <tr>\n",
       "      <th>50</th>\n",
       "      <td>Wyoming</td>\n",
       "      <td>US</td>\n",
       "      <td>6/1/20 2:32</td>\n",
       "      <td>42.7560</td>\n",
       "      <td>-107.3025</td>\n",
       "      <td>903</td>\n",
       "      <td>16</td>\n",
       "      <td>658.0</td>\n",
       "      <td>229</td>\n",
       "      <td>56</td>\n",
       "      <td>156.023492</td>\n",
       "      <td>24393.0</td>\n",
       "      <td>85.0</td>\n",
       "      <td>1.771872</td>\n",
       "      <td>84000056</td>\n",
       "      <td>USA</td>\n",
       "      <td>4214.707676</td>\n",
       "      <td>9.413068</td>\n",
       "      <td>26</td>\n",
       "      <td>38</td>\n",
       "    </tr>\n",
       "  </tbody>\n",
       "</table>\n",
       "</div>"
      ],
      "text/plain": [
       "                   State Country_Region  Last_Update      Lat     Long_  \\\n",
       "0                Alabama             US  6/1/20 2:32  32.3182  -86.9023   \n",
       "1                 Alaska             US  6/1/20 2:32  61.3707 -152.4044   \n",
       "2                Arizona             US  6/1/20 2:32  33.7298 -111.4312   \n",
       "3               Arkansas             US  6/1/20 2:32  34.9697  -92.3731   \n",
       "4             California             US  6/1/20 2:32  36.1162 -119.6816   \n",
       "5               Colorado             US  6/1/20 2:32  39.0598 -105.3111   \n",
       "6            Connecticut             US  6/1/20 2:32  41.5978  -72.7554   \n",
       "7               Delaware             US  6/1/20 2:32  39.3185  -75.5071   \n",
       "8   District of Columbia             US  6/1/20 2:32  38.8974  -77.0268   \n",
       "9                Florida             US  6/1/20 2:32  27.7663  -81.6868   \n",
       "10               Georgia             US  6/1/20 2:32  33.0406  -83.6431   \n",
       "11                Hawaii             US  6/1/20 2:32  21.0943 -157.4983   \n",
       "12                 Idaho             US  6/1/20 2:32  44.2405 -114.4788   \n",
       "13              Illinois             US  6/1/20 2:32  40.3495  -88.9861   \n",
       "14               Indiana             US  6/1/20 2:32  39.8494  -86.2583   \n",
       "15                  Iowa             US  6/1/20 2:32  42.0115  -93.2105   \n",
       "16                Kansas             US  6/1/20 2:32  38.5266  -96.7265   \n",
       "17              Kentucky             US  6/1/20 2:32  37.6681  -84.6701   \n",
       "18             Louisiana             US  6/1/20 2:32  31.1695  -91.8678   \n",
       "19                 Maine             US  6/1/20 2:32  44.6939  -69.3819   \n",
       "20              Maryland             US  6/1/20 2:32  39.0639  -76.8021   \n",
       "21         Massachusetts             US  6/1/20 2:32  42.2302  -71.5301   \n",
       "22              Michigan             US  6/1/20 2:32  43.3266  -84.5361   \n",
       "23             Minnesota             US  6/1/20 2:32  45.6945  -93.9002   \n",
       "24           Mississippi             US  6/1/20 2:32  32.7416  -89.6787   \n",
       "25              Missouri             US  6/1/20 2:32  38.4561  -92.2884   \n",
       "26               Montana             US  6/1/20 2:32  46.9219 -110.4544   \n",
       "27              Nebraska             US  6/1/20 2:32  41.1254  -98.2681   \n",
       "28                Nevada             US  6/1/20 2:32  38.3135 -117.0554   \n",
       "29         New Hampshire             US  6/1/20 2:32  43.4525  -71.5639   \n",
       "30            New Jersey             US  6/1/20 2:32  40.2989  -74.5210   \n",
       "31            New Mexico             US  6/1/20 2:32  34.8405 -106.2485   \n",
       "32              New York             US  6/1/20 2:32  42.1657  -74.9481   \n",
       "33        North Carolina             US  6/1/20 2:32  35.6301  -79.8064   \n",
       "34          North Dakota             US  6/1/20 2:32  47.5289  -99.7840   \n",
       "35                  Ohio             US  6/1/20 2:32  40.3888  -82.7649   \n",
       "36              Oklahoma             US  6/1/20 2:32  35.5653  -96.9289   \n",
       "37                Oregon             US  6/1/20 2:32  44.5720 -122.0709   \n",
       "38          Pennsylvania             US  6/1/20 2:32  40.5908  -77.2098   \n",
       "39          Rhode Island             US  6/1/20 2:32  41.6809  -71.5118   \n",
       "40        South Carolina             US  6/1/20 2:32  33.8569  -80.9450   \n",
       "41          South Dakota             US  6/1/20 2:32  44.2998  -99.4388   \n",
       "42             Tennessee             US  6/1/20 2:32  35.7478  -86.6923   \n",
       "43                 Texas             US  6/1/20 2:32  31.0545  -97.5635   \n",
       "44                  Utah             US  6/1/20 2:32  40.1500 -111.8624   \n",
       "45               Vermont             US  6/1/20 2:32  44.0459  -72.7107   \n",
       "46              Virginia             US  6/1/20 2:32  37.7693  -78.1700   \n",
       "47            Washington             US  6/1/20 2:32  47.4009 -121.4905   \n",
       "48         West Virginia             US  6/1/20 2:32  38.4912  -80.9545   \n",
       "49             Wisconsin             US  6/1/20 2:32  44.2685  -89.6165   \n",
       "50               Wyoming             US  6/1/20 2:32  42.7560 -107.3025   \n",
       "\n",
       "    Confirmed  Deaths  Recovered  Active  FIPS  Incident_Rate  People_Tested  \\\n",
       "0       17952     630     9355.0    7967     1     366.129363       217553.0   \n",
       "1         459      10      368.0      81     2      62.743919        51695.0   \n",
       "2       19936     907     4761.0   14268     4     273.894424       225206.0   \n",
       "3        7253     133     5275.0    1845     5     240.340327       129515.0   \n",
       "4      111951    4172        NaN  107779     6     283.332578      1944848.0   \n",
       "5       26364    1445     3919.0   21000     8     457.808797       180627.0   \n",
       "6       42201    3944     7127.0   31130     9    1183.663475       250046.0   \n",
       "7        9498     366     5266.0    3866    10     975.390341        60671.0   \n",
       "8        8801     466     1116.0    7219    11    1247.043921        46483.0   \n",
       "9       56163    2451        NaN   53712    12     261.494030      1021349.0   \n",
       "10      47063    2053        NaN   45010    13     443.261986       465525.0   \n",
       "11        652      17      606.0      29    15      46.049360        54620.0   \n",
       "12       2839      82     2248.0     509    16     158.863835        46697.0   \n",
       "13     120260    5390        NaN  114870    17     949.034870       898259.0   \n",
       "14      34574    2134    21704.0   10736    18     513.560239       261546.0   \n",
       "15      19552     535    11147.0    7870    19     619.700989       156296.0   \n",
       "16       9700     215      547.0    8938    20     332.954155        94949.0   \n",
       "17       9704     431     3232.0    6041    21     217.204795       213753.0   \n",
       "18      39916    2791    28700.0    8425    22     858.631292       375109.0   \n",
       "19       2325      89     1552.0     684    23     172.963788        49609.0   \n",
       "20      52778    2532     3764.0   46482    24     872.986992       301881.0   \n",
       "21      96965    6846        NaN   90119    25    1406.818394       592853.0   \n",
       "22      57397    5491    38099.0   13807    26     574.725362       554630.0   \n",
       "23      24850    1050    18695.0    5105    27     440.631587       249519.0   \n",
       "24      15523     734     9401.0    5388    28     521.580069       171837.0   \n",
       "25      13438     776        NaN   12662    29     218.951652       193561.0   \n",
       "26        515      17      456.0      42    30      48.185872        39798.0   \n",
       "27      14101     170        NaN   13931    31     728.956870       101142.0   \n",
       "28       8628     417      428.0    7783    32     280.115682       142560.0   \n",
       "29       4651     245     2940.0    1466    33     342.057981        70280.0   \n",
       "30     160445   11698    26560.0  122187    34    1806.367574       746145.0   \n",
       "31       7689     356     2835.0    4498    35     366.696569       194447.0   \n",
       "32     370770   29784    65934.0  275052    36    1905.923548      2063825.0   \n",
       "33      28785     937    14954.0   12894    37     274.454324       416289.0   \n",
       "34       2577      61     1959.0     557    38     338.161462        72040.0   \n",
       "35      35513    2155        NaN   33358    39     303.812954       390908.0   \n",
       "36       6418     334     5492.0     592    40     162.194770       193206.0   \n",
       "37       4243     153     2152.0    1938    41     100.598970       129201.0   \n",
       "38      76129    5555    48190.0   22384    42     594.665407       455657.0   \n",
       "39      14928     718     1252.0   12958    44    1409.151366       154493.0   \n",
       "40      11861     494     6459.0    4908    45     230.368205       200216.0   \n",
       "41       4993      62     3837.0    1094    46     564.398260        44128.0   \n",
       "42      22566     364    15300.0    6902    47     330.435277       435977.0   \n",
       "43      64652    1675    42423.0   20554    48     222.969600       951865.0   \n",
       "44       9797     113     6137.0    3547    49     305.587285       213914.0   \n",
       "45        981      55      873.0      53    50     157.214310        33970.0   \n",
       "46      44607    1375     5868.0   37364    51     522.604425       315391.0   \n",
       "47      21702    1118        NaN   20584    53     284.994156       354354.0   \n",
       "48       2010      75     1303.0     632    54     112.155978        97622.0   \n",
       "49      18403     592    11646.0    6165    55     316.070564       268506.0   \n",
       "50        903      16      658.0     229    56     156.023492        24393.0   \n",
       "\n",
       "    People_Hospitalized  Mortality_Rate       UID ISO3  Testing_Rate  \\\n",
       "0                1844.0        3.509358  84000001  USA   4436.973110   \n",
       "1                   NaN        2.178649  84000002  USA   7066.550930   \n",
       "2                2998.0        4.549559  84000004  USA   3094.034292   \n",
       "3                 711.0        1.833724  84000005  USA   4291.696876   \n",
       "4                   NaN        3.726630  84000006  USA   4922.142700   \n",
       "5                4333.0        5.480959  84000008  USA   3136.573720   \n",
       "6               12538.0        9.345750  84000009  USA   7013.348435   \n",
       "7                   NaN        3.853443  84000010  USA   6230.565106   \n",
       "8                   NaN        5.294853  84000011  USA   6586.335935   \n",
       "9               10453.0        4.364083  84000012  USA   4755.384611   \n",
       "10               7946.0        4.362238  84000013  USA   4384.538508   \n",
       "11                 83.0        2.607362  84000015  USA   3857.693351   \n",
       "12                242.0        2.888341  84000016  USA   2613.055485   \n",
       "13                  NaN        4.481956  84000017  USA   7088.633907   \n",
       "14               5285.0        6.172268  84000018  USA   3884.989481   \n",
       "15                  NaN        2.736293  84000019  USA   4953.804511   \n",
       "16                842.0        2.216495  84000020  USA   3259.140621   \n",
       "17               2272.0        4.441467  84000021  USA   4784.436999   \n",
       "18                  NaN        6.992184  84000022  USA   8068.952937   \n",
       "19                283.0        3.827957  84000023  USA   3690.563691   \n",
       "20               8738.0        4.797453  84000024  USA   4993.334083   \n",
       "21               9823.0        7.060279  84000025  USA   8601.418092   \n",
       "22                  NaN        9.566702  84000026  USA   5553.599095   \n",
       "23               3047.0        4.225352  84000027  USA   4424.384428   \n",
       "24               2272.0        4.728467  84000028  USA   5773.803664   \n",
       "25                  NaN        5.774669  84000029  USA   3153.780378   \n",
       "26                 67.0        3.300971  84000030  USA   3723.691917   \n",
       "27                  NaN        1.205588  84000031  USA   5228.576391   \n",
       "28                  NaN        4.833102  84000032  USA   4628.337006   \n",
       "29                449.0        5.267684  84000033  USA   5168.745417   \n",
       "30              17197.0        7.290972  84000034  USA   8400.462048   \n",
       "31               1317.0        4.629991  84000035  USA   9273.383762   \n",
       "32              89590.0        8.033012  84000036  USA  10608.983110   \n",
       "33                  NaN        3.255168  84000037  USA   3969.161574   \n",
       "34                167.0        2.367094  84000038  USA   9453.299075   \n",
       "35               6049.0        6.068200  84000039  USA   3344.209563   \n",
       "36                985.0        5.204113  84000040  USA   4882.674146   \n",
       "37                786.0        3.605939  84000041  USA   3063.277772   \n",
       "38                  NaN        7.296825  84000042  USA   3559.267236   \n",
       "39               1701.0        4.809753  84000044  USA  14583.602760   \n",
       "40               1634.0        4.164910  84000045  USA   3888.660353   \n",
       "41                432.0        1.241738  84000046  USA   4988.136672   \n",
       "42               1750.0        1.613046  84000047  USA   6384.037074   \n",
       "43                  NaN        2.590794  84000048  USA   3282.759368   \n",
       "44                775.0        1.153414  84000049  USA   6672.389345   \n",
       "45                  NaN        5.606524  84000050  USA   5444.006224   \n",
       "46               7326.0        3.082476  84000051  USA   3695.041860   \n",
       "47               3480.0        5.151599  84000053  USA   4653.433738   \n",
       "48                  NaN        3.731343  84000054  USA   5447.209409   \n",
       "49               2583.0        3.216867  84000055  USA   4611.576533   \n",
       "50                 85.0        1.771872  84000056  USA   4214.707676   \n",
       "\n",
       "    Hospitalization_Rate  Telemed_2019  Telemed_2020  \n",
       "0              10.271836            37            55  \n",
       "1                    NaN            48            90  \n",
       "2              15.038122            56            67  \n",
       "3               9.802840            40            74  \n",
       "4                    NaN            33            42  \n",
       "5              16.435291            27            50  \n",
       "6              29.710196            28            67  \n",
       "7                    NaN            48            74  \n",
       "8                    NaN           100           100  \n",
       "9              18.611898            44            71  \n",
       "10             16.883752            44            62  \n",
       "11             12.730061            34            44  \n",
       "12              8.524128            34            45  \n",
       "13                   NaN            32            48  \n",
       "14             15.286053            26            42  \n",
       "15                   NaN            33            36  \n",
       "16              8.680412            35            59  \n",
       "17             23.413026            35            49  \n",
       "18                   NaN            43            75  \n",
       "19             12.172043            52            47  \n",
       "20             16.556141            49            73  \n",
       "21             10.130459            39            59  \n",
       "22                   NaN            33            55  \n",
       "23             12.261569            41            52  \n",
       "24             14.636346            39            57  \n",
       "25                   NaN            32            41  \n",
       "26             13.009709            26            40  \n",
       "27                   NaN            31            44  \n",
       "28                   NaN            46            47  \n",
       "29              9.653838            41            47  \n",
       "30             10.718315            36            84  \n",
       "31             17.128365            47            48  \n",
       "32             24.163228            60            70  \n",
       "33                   NaN            38            48  \n",
       "34              6.480404            66            42  \n",
       "35             17.033199            27            43  \n",
       "36             15.347460            29            58  \n",
       "37             18.524629            30            55  \n",
       "38                   NaN            41            65  \n",
       "39             11.394695            20            60  \n",
       "40             13.776241            36            46  \n",
       "41              8.652113            83            66  \n",
       "42              7.755030            43            61  \n",
       "43                   NaN            43            59  \n",
       "44              7.910585            31            31  \n",
       "45                   NaN            44            68  \n",
       "46             16.423431            51            55  \n",
       "47             16.035388            27            49  \n",
       "48                   NaN            56            67  \n",
       "49             14.035755            26            31  \n",
       "50              9.413068            26            38  "
      ]
     },
     "execution_count": 6,
     "metadata": {},
     "output_type": "execute_result"
    }
   ],
   "source": [
    "df_telemed_covid = pd.merge(df_covid, df_telemed,how='inner', on='State')\n",
    "df_telemed_covid"
   ]
  },
  {
   "cell_type": "code",
   "execution_count": 7,
   "metadata": {},
   "outputs": [
    {
     "data": {
      "text/html": [
       "<div>\n",
       "<style scoped>\n",
       "    .dataframe tbody tr th:only-of-type {\n",
       "        vertical-align: middle;\n",
       "    }\n",
       "\n",
       "    .dataframe tbody tr th {\n",
       "        vertical-align: top;\n",
       "    }\n",
       "\n",
       "    .dataframe thead th {\n",
       "        text-align: right;\n",
       "    }\n",
       "</style>\n",
       "<table border=\"1\" class=\"dataframe\">\n",
       "  <thead>\n",
       "    <tr style=\"text-align: right;\">\n",
       "      <th></th>\n",
       "      <th>State</th>\n",
       "      <th>Country_Region</th>\n",
       "      <th>Last_Update</th>\n",
       "      <th>Lat</th>\n",
       "      <th>Long_</th>\n",
       "      <th>Confirmed</th>\n",
       "      <th>Deaths</th>\n",
       "      <th>Recovered</th>\n",
       "      <th>Active</th>\n",
       "      <th>FIPS</th>\n",
       "      <th>Incident_Rate</th>\n",
       "      <th>People_Tested</th>\n",
       "      <th>People_Hospitalized</th>\n",
       "      <th>Mortality_Rate</th>\n",
       "      <th>UID</th>\n",
       "      <th>ISO3</th>\n",
       "      <th>Testing_Rate</th>\n",
       "      <th>Hospitalization_Rate</th>\n",
       "      <th>Telemed_2019</th>\n",
       "      <th>Telemed_2020</th>\n",
       "    </tr>\n",
       "  </thead>\n",
       "  <tbody>\n",
       "    <tr>\n",
       "      <th>0</th>\n",
       "      <td>Alabama</td>\n",
       "      <td>US</td>\n",
       "      <td>6/1/20 2:32</td>\n",
       "      <td>32.3182</td>\n",
       "      <td>-86.9023</td>\n",
       "      <td>17952</td>\n",
       "      <td>630</td>\n",
       "      <td>9355.0</td>\n",
       "      <td>7967</td>\n",
       "      <td>1</td>\n",
       "      <td>366.0</td>\n",
       "      <td>217553.0</td>\n",
       "      <td>1844.0</td>\n",
       "      <td>3.51</td>\n",
       "      <td>84000001</td>\n",
       "      <td>USA</td>\n",
       "      <td>4437.0</td>\n",
       "      <td>10.271836</td>\n",
       "      <td>37</td>\n",
       "      <td>55</td>\n",
       "    </tr>\n",
       "    <tr>\n",
       "      <th>1</th>\n",
       "      <td>Alaska</td>\n",
       "      <td>US</td>\n",
       "      <td>6/1/20 2:32</td>\n",
       "      <td>61.3707</td>\n",
       "      <td>-152.4044</td>\n",
       "      <td>459</td>\n",
       "      <td>10</td>\n",
       "      <td>368.0</td>\n",
       "      <td>81</td>\n",
       "      <td>2</td>\n",
       "      <td>63.0</td>\n",
       "      <td>51695.0</td>\n",
       "      <td>NaN</td>\n",
       "      <td>2.18</td>\n",
       "      <td>84000002</td>\n",
       "      <td>USA</td>\n",
       "      <td>7067.0</td>\n",
       "      <td>NaN</td>\n",
       "      <td>48</td>\n",
       "      <td>90</td>\n",
       "    </tr>\n",
       "    <tr>\n",
       "      <th>2</th>\n",
       "      <td>Arizona</td>\n",
       "      <td>US</td>\n",
       "      <td>6/1/20 2:32</td>\n",
       "      <td>33.7298</td>\n",
       "      <td>-111.4312</td>\n",
       "      <td>19936</td>\n",
       "      <td>907</td>\n",
       "      <td>4761.0</td>\n",
       "      <td>14268</td>\n",
       "      <td>4</td>\n",
       "      <td>274.0</td>\n",
       "      <td>225206.0</td>\n",
       "      <td>2998.0</td>\n",
       "      <td>4.55</td>\n",
       "      <td>84000004</td>\n",
       "      <td>USA</td>\n",
       "      <td>3094.0</td>\n",
       "      <td>15.038122</td>\n",
       "      <td>56</td>\n",
       "      <td>67</td>\n",
       "    </tr>\n",
       "    <tr>\n",
       "      <th>3</th>\n",
       "      <td>Arkansas</td>\n",
       "      <td>US</td>\n",
       "      <td>6/1/20 2:32</td>\n",
       "      <td>34.9697</td>\n",
       "      <td>-92.3731</td>\n",
       "      <td>7253</td>\n",
       "      <td>133</td>\n",
       "      <td>5275.0</td>\n",
       "      <td>1845</td>\n",
       "      <td>5</td>\n",
       "      <td>240.0</td>\n",
       "      <td>129515.0</td>\n",
       "      <td>711.0</td>\n",
       "      <td>1.83</td>\n",
       "      <td>84000005</td>\n",
       "      <td>USA</td>\n",
       "      <td>4292.0</td>\n",
       "      <td>9.802840</td>\n",
       "      <td>40</td>\n",
       "      <td>74</td>\n",
       "    </tr>\n",
       "    <tr>\n",
       "      <th>4</th>\n",
       "      <td>California</td>\n",
       "      <td>US</td>\n",
       "      <td>6/1/20 2:32</td>\n",
       "      <td>36.1162</td>\n",
       "      <td>-119.6816</td>\n",
       "      <td>111951</td>\n",
       "      <td>4172</td>\n",
       "      <td>NaN</td>\n",
       "      <td>107779</td>\n",
       "      <td>6</td>\n",
       "      <td>283.0</td>\n",
       "      <td>1944848.0</td>\n",
       "      <td>NaN</td>\n",
       "      <td>3.73</td>\n",
       "      <td>84000006</td>\n",
       "      <td>USA</td>\n",
       "      <td>4922.0</td>\n",
       "      <td>NaN</td>\n",
       "      <td>33</td>\n",
       "      <td>42</td>\n",
       "    </tr>\n",
       "  </tbody>\n",
       "</table>\n",
       "</div>"
      ],
      "text/plain": [
       "        State Country_Region  Last_Update      Lat     Long_  Confirmed  \\\n",
       "0     Alabama             US  6/1/20 2:32  32.3182  -86.9023      17952   \n",
       "1      Alaska             US  6/1/20 2:32  61.3707 -152.4044        459   \n",
       "2     Arizona             US  6/1/20 2:32  33.7298 -111.4312      19936   \n",
       "3    Arkansas             US  6/1/20 2:32  34.9697  -92.3731       7253   \n",
       "4  California             US  6/1/20 2:32  36.1162 -119.6816     111951   \n",
       "\n",
       "   Deaths  Recovered  Active  FIPS  Incident_Rate  People_Tested  \\\n",
       "0     630     9355.0    7967     1          366.0       217553.0   \n",
       "1      10      368.0      81     2           63.0        51695.0   \n",
       "2     907     4761.0   14268     4          274.0       225206.0   \n",
       "3     133     5275.0    1845     5          240.0       129515.0   \n",
       "4    4172        NaN  107779     6          283.0      1944848.0   \n",
       "\n",
       "   People_Hospitalized  Mortality_Rate       UID ISO3  Testing_Rate  \\\n",
       "0               1844.0            3.51  84000001  USA        4437.0   \n",
       "1                  NaN            2.18  84000002  USA        7067.0   \n",
       "2               2998.0            4.55  84000004  USA        3094.0   \n",
       "3                711.0            1.83  84000005  USA        4292.0   \n",
       "4                  NaN            3.73  84000006  USA        4922.0   \n",
       "\n",
       "   Hospitalization_Rate  Telemed_2019  Telemed_2020  \n",
       "0             10.271836            37            55  \n",
       "1                   NaN            48            90  \n",
       "2             15.038122            56            67  \n",
       "3              9.802840            40            74  \n",
       "4                   NaN            33            42  "
      ]
     },
     "execution_count": 7,
     "metadata": {},
     "output_type": "execute_result"
    }
   ],
   "source": [
    "df_telemed_covid[\"Incident_Rate\"] = df_telemed_covid[\"Incident_Rate\"].round(0)\n",
    "df_telemed_covid[\"Mortality_Rate\"] = df_telemed_covid[\"Mortality_Rate\"].round(2)\n",
    "df_telemed_covid[\"Testing_Rate\"] = df_telemed_covid[\"Testing_Rate\"].round(0)\n",
    "df_telemed_covid.head()"
   ]
  },
  {
   "cell_type": "code",
   "execution_count": 8,
   "metadata": {},
   "outputs": [],
   "source": [
    "from urllib.request import urlopen\n",
    "import json\n",
    "with urlopen('https://raw.githubusercontent.com/plotly/datasets/master/geojson-counties-fips.json') as response:\n",
    "    counties = json.load(response)"
   ]
  },
  {
   "cell_type": "code",
   "execution_count": 9,
   "metadata": {},
   "outputs": [],
   "source": [
    "import plotly.express as px\n",
    "import plotly.graph_objects as go"
   ]
  },
  {
   "cell_type": "code",
   "execution_count": 10,
   "metadata": {},
   "outputs": [
    {
     "data": {
      "text/html": [
       "<div>\n",
       "<style scoped>\n",
       "    .dataframe tbody tr th:only-of-type {\n",
       "        vertical-align: middle;\n",
       "    }\n",
       "\n",
       "    .dataframe tbody tr th {\n",
       "        vertical-align: top;\n",
       "    }\n",
       "\n",
       "    .dataframe thead th {\n",
       "        text-align: right;\n",
       "    }\n",
       "</style>\n",
       "<table border=\"1\" class=\"dataframe\">\n",
       "  <thead>\n",
       "    <tr style=\"text-align: right;\">\n",
       "      <th></th>\n",
       "      <th>State</th>\n",
       "      <th>Code</th>\n",
       "    </tr>\n",
       "  </thead>\n",
       "  <tbody>\n",
       "    <tr>\n",
       "      <th>0</th>\n",
       "      <td>Alabama</td>\n",
       "      <td>AL</td>\n",
       "    </tr>\n",
       "    <tr>\n",
       "      <th>1</th>\n",
       "      <td>Alaska</td>\n",
       "      <td>AK</td>\n",
       "    </tr>\n",
       "    <tr>\n",
       "      <th>2</th>\n",
       "      <td>Arizona</td>\n",
       "      <td>AZ</td>\n",
       "    </tr>\n",
       "    <tr>\n",
       "      <th>3</th>\n",
       "      <td>Arkansas</td>\n",
       "      <td>AR</td>\n",
       "    </tr>\n",
       "    <tr>\n",
       "      <th>4</th>\n",
       "      <td>California</td>\n",
       "      <td>CA</td>\n",
       "    </tr>\n",
       "  </tbody>\n",
       "</table>\n",
       "</div>"
      ],
      "text/plain": [
       "        State Code\n",
       "0     Alabama   AL\n",
       "1      Alaska   AK\n",
       "2     Arizona   AZ\n",
       "3    Arkansas   AR\n",
       "4  California   CA"
      ]
     },
     "execution_count": 10,
     "metadata": {},
     "output_type": "execute_result"
    }
   ],
   "source": [
    "df_code = pd.read_csv(\"Code.csv\")\n",
    "df_code.head()"
   ]
  },
  {
   "cell_type": "code",
   "execution_count": 11,
   "metadata": {},
   "outputs": [
    {
     "data": {
      "text/html": [
       "<div>\n",
       "<style scoped>\n",
       "    .dataframe tbody tr th:only-of-type {\n",
       "        vertical-align: middle;\n",
       "    }\n",
       "\n",
       "    .dataframe tbody tr th {\n",
       "        vertical-align: top;\n",
       "    }\n",
       "\n",
       "    .dataframe thead th {\n",
       "        text-align: right;\n",
       "    }\n",
       "</style>\n",
       "<table border=\"1\" class=\"dataframe\">\n",
       "  <thead>\n",
       "    <tr style=\"text-align: right;\">\n",
       "      <th></th>\n",
       "      <th>State</th>\n",
       "      <th>Country_Region</th>\n",
       "      <th>Last_Update</th>\n",
       "      <th>Lat</th>\n",
       "      <th>Long_</th>\n",
       "      <th>Confirmed</th>\n",
       "      <th>Deaths</th>\n",
       "      <th>Recovered</th>\n",
       "      <th>Active</th>\n",
       "      <th>FIPS</th>\n",
       "      <th>...</th>\n",
       "      <th>People_Tested</th>\n",
       "      <th>People_Hospitalized</th>\n",
       "      <th>Mortality_Rate</th>\n",
       "      <th>UID</th>\n",
       "      <th>ISO3</th>\n",
       "      <th>Testing_Rate</th>\n",
       "      <th>Hospitalization_Rate</th>\n",
       "      <th>Telemed_2019</th>\n",
       "      <th>Telemed_2020</th>\n",
       "      <th>Code</th>\n",
       "    </tr>\n",
       "  </thead>\n",
       "  <tbody>\n",
       "    <tr>\n",
       "      <th>0</th>\n",
       "      <td>Alabama</td>\n",
       "      <td>US</td>\n",
       "      <td>6/1/20 2:32</td>\n",
       "      <td>32.3182</td>\n",
       "      <td>-86.9023</td>\n",
       "      <td>17952</td>\n",
       "      <td>630</td>\n",
       "      <td>9355.0</td>\n",
       "      <td>7967</td>\n",
       "      <td>1</td>\n",
       "      <td>...</td>\n",
       "      <td>217553.0</td>\n",
       "      <td>1844.0</td>\n",
       "      <td>3.51</td>\n",
       "      <td>84000001</td>\n",
       "      <td>USA</td>\n",
       "      <td>4437.0</td>\n",
       "      <td>10.271836</td>\n",
       "      <td>37</td>\n",
       "      <td>55</td>\n",
       "      <td>AL</td>\n",
       "    </tr>\n",
       "    <tr>\n",
       "      <th>1</th>\n",
       "      <td>Alaska</td>\n",
       "      <td>US</td>\n",
       "      <td>6/1/20 2:32</td>\n",
       "      <td>61.3707</td>\n",
       "      <td>-152.4044</td>\n",
       "      <td>459</td>\n",
       "      <td>10</td>\n",
       "      <td>368.0</td>\n",
       "      <td>81</td>\n",
       "      <td>2</td>\n",
       "      <td>...</td>\n",
       "      <td>51695.0</td>\n",
       "      <td>NaN</td>\n",
       "      <td>2.18</td>\n",
       "      <td>84000002</td>\n",
       "      <td>USA</td>\n",
       "      <td>7067.0</td>\n",
       "      <td>NaN</td>\n",
       "      <td>48</td>\n",
       "      <td>90</td>\n",
       "      <td>AK</td>\n",
       "    </tr>\n",
       "    <tr>\n",
       "      <th>2</th>\n",
       "      <td>Arizona</td>\n",
       "      <td>US</td>\n",
       "      <td>6/1/20 2:32</td>\n",
       "      <td>33.7298</td>\n",
       "      <td>-111.4312</td>\n",
       "      <td>19936</td>\n",
       "      <td>907</td>\n",
       "      <td>4761.0</td>\n",
       "      <td>14268</td>\n",
       "      <td>4</td>\n",
       "      <td>...</td>\n",
       "      <td>225206.0</td>\n",
       "      <td>2998.0</td>\n",
       "      <td>4.55</td>\n",
       "      <td>84000004</td>\n",
       "      <td>USA</td>\n",
       "      <td>3094.0</td>\n",
       "      <td>15.038122</td>\n",
       "      <td>56</td>\n",
       "      <td>67</td>\n",
       "      <td>AZ</td>\n",
       "    </tr>\n",
       "    <tr>\n",
       "      <th>3</th>\n",
       "      <td>Arkansas</td>\n",
       "      <td>US</td>\n",
       "      <td>6/1/20 2:32</td>\n",
       "      <td>34.9697</td>\n",
       "      <td>-92.3731</td>\n",
       "      <td>7253</td>\n",
       "      <td>133</td>\n",
       "      <td>5275.0</td>\n",
       "      <td>1845</td>\n",
       "      <td>5</td>\n",
       "      <td>...</td>\n",
       "      <td>129515.0</td>\n",
       "      <td>711.0</td>\n",
       "      <td>1.83</td>\n",
       "      <td>84000005</td>\n",
       "      <td>USA</td>\n",
       "      <td>4292.0</td>\n",
       "      <td>9.802840</td>\n",
       "      <td>40</td>\n",
       "      <td>74</td>\n",
       "      <td>AR</td>\n",
       "    </tr>\n",
       "    <tr>\n",
       "      <th>4</th>\n",
       "      <td>California</td>\n",
       "      <td>US</td>\n",
       "      <td>6/1/20 2:32</td>\n",
       "      <td>36.1162</td>\n",
       "      <td>-119.6816</td>\n",
       "      <td>111951</td>\n",
       "      <td>4172</td>\n",
       "      <td>NaN</td>\n",
       "      <td>107779</td>\n",
       "      <td>6</td>\n",
       "      <td>...</td>\n",
       "      <td>1944848.0</td>\n",
       "      <td>NaN</td>\n",
       "      <td>3.73</td>\n",
       "      <td>84000006</td>\n",
       "      <td>USA</td>\n",
       "      <td>4922.0</td>\n",
       "      <td>NaN</td>\n",
       "      <td>33</td>\n",
       "      <td>42</td>\n",
       "      <td>CA</td>\n",
       "    </tr>\n",
       "  </tbody>\n",
       "</table>\n",
       "<p>5 rows × 21 columns</p>\n",
       "</div>"
      ],
      "text/plain": [
       "        State Country_Region  Last_Update      Lat     Long_  Confirmed  \\\n",
       "0     Alabama             US  6/1/20 2:32  32.3182  -86.9023      17952   \n",
       "1      Alaska             US  6/1/20 2:32  61.3707 -152.4044        459   \n",
       "2     Arizona             US  6/1/20 2:32  33.7298 -111.4312      19936   \n",
       "3    Arkansas             US  6/1/20 2:32  34.9697  -92.3731       7253   \n",
       "4  California             US  6/1/20 2:32  36.1162 -119.6816     111951   \n",
       "\n",
       "   Deaths  Recovered  Active  FIPS  ...  People_Tested  People_Hospitalized  \\\n",
       "0     630     9355.0    7967     1  ...       217553.0               1844.0   \n",
       "1      10      368.0      81     2  ...        51695.0                  NaN   \n",
       "2     907     4761.0   14268     4  ...       225206.0               2998.0   \n",
       "3     133     5275.0    1845     5  ...       129515.0                711.0   \n",
       "4    4172        NaN  107779     6  ...      1944848.0                  NaN   \n",
       "\n",
       "   Mortality_Rate       UID  ISO3 Testing_Rate  Hospitalization_Rate  \\\n",
       "0            3.51  84000001   USA       4437.0             10.271836   \n",
       "1            2.18  84000002   USA       7067.0                   NaN   \n",
       "2            4.55  84000004   USA       3094.0             15.038122   \n",
       "3            1.83  84000005   USA       4292.0              9.802840   \n",
       "4            3.73  84000006   USA       4922.0                   NaN   \n",
       "\n",
       "   Telemed_2019  Telemed_2020  Code  \n",
       "0            37            55    AL  \n",
       "1            48            90    AK  \n",
       "2            56            67    AZ  \n",
       "3            40            74    AR  \n",
       "4            33            42    CA  \n",
       "\n",
       "[5 rows x 21 columns]"
      ]
     },
     "execution_count": 11,
     "metadata": {},
     "output_type": "execute_result"
    }
   ],
   "source": [
    "df_telemed_covid_cd = pd.merge(df_telemed_covid, df_code,how='inner', on='State')\n",
    "df_telemed_covid_cd.head()"
   ]
  },
  {
   "cell_type": "code",
   "execution_count": 12,
   "metadata": {},
   "outputs": [
    {
     "data": {
      "text/plain": [
       "count     51.000000\n",
       "mean      40.509804\n",
       "std       14.368539\n",
       "min       20.000000\n",
       "25%       31.500000\n",
       "50%       38.000000\n",
       "75%       45.000000\n",
       "max      100.000000\n",
       "Name: Telemed_2019, dtype: float64"
      ]
     },
     "execution_count": 12,
     "metadata": {},
     "output_type": "execute_result"
    }
   ],
   "source": [
    "df_telemed_covid_cd['Telemed_2019'].describe()"
   ]
  },
  {
   "cell_type": "code",
   "execution_count": 14,
   "metadata": {},
   "outputs": [
    {
     "data": {
      "text/plain": [
       "covid_group_2019\n",
       "High Level      13\n",
       "Low Level       13\n",
       "Middle Level    25\n",
       "Name: State, dtype: int64"
      ]
     },
     "execution_count": 14,
     "metadata": {},
     "output_type": "execute_result"
    }
   ],
   "source": [
    "df_telemed_covid_cd['covid_group_2019']='Middle Level'\n",
    "\n",
    "df_telemed_covid_cd.loc[df_telemed_covid_cd['Telemed_2019'] <= 31, 'covid_group_2019'] = 'Low Level'\n",
    "df_telemed_covid_cd.loc[df_telemed_covid_cd['Telemed_2019'] >= 45, 'covid_group_2019'] = 'High Level'\n",
    "\n",
    "df_telemed_covid_cd.groupby('covid_group_2019')[\"State\"].nunique()"
   ]
  },
  {
   "cell_type": "code",
   "execution_count": 15,
   "metadata": {},
   "outputs": [
    {
     "data": {
      "text/plain": [
       "count     51.000000\n",
       "mean      56.000000\n",
       "std       14.630106\n",
       "min       31.000000\n",
       "25%       45.500000\n",
       "50%       55.000000\n",
       "75%       66.500000\n",
       "max      100.000000\n",
       "Name: Telemed_2020, dtype: float64"
      ]
     },
     "execution_count": 15,
     "metadata": {},
     "output_type": "execute_result"
    }
   ],
   "source": [
    "df_telemed_covid_cd['Telemed_2020'].describe()"
   ]
  },
  {
   "cell_type": "code",
   "execution_count": 18,
   "metadata": {},
   "outputs": [
    {
     "data": {
      "text/plain": [
       "covid_group_2020\n",
       "High      13\n",
       "Low       13\n",
       "Middle    25\n",
       "Name: State, dtype: int64"
      ]
     },
     "execution_count": 18,
     "metadata": {},
     "output_type": "execute_result"
    }
   ],
   "source": [
    "df_telemed_covid_cd['covid_group_2020']='Middle'\n",
    "\n",
    "df_telemed_covid_cd.loc[df_telemed_covid_cd['Telemed_2020'] <= 45, 'covid_group_2020'] = 'Low'\n",
    "df_telemed_covid_cd.loc[df_telemed_covid_cd['Telemed_2020'] >= 66.5, 'covid_group_2020'] = 'High'\n",
    "\n",
    "\n",
    "df_telemed_covid_cd.groupby('covid_group_2020')[\"State\"].nunique()"
   ]
  },
  {
   "cell_type": "code",
   "execution_count": 19,
   "metadata": {},
   "outputs": [
    {
     "data": {
      "text/plain": [
       "count      51.000000\n",
       "mean      501.254902\n",
       "std       437.335150\n",
       "min        46.000000\n",
       "25%       226.500000\n",
       "50%       333.000000\n",
       "75%       585.000000\n",
       "max      1906.000000\n",
       "Name: Incident_Rate, dtype: float64"
      ]
     },
     "execution_count": 19,
     "metadata": {},
     "output_type": "execute_result"
    }
   ],
   "source": [
    "df_telemed_covid_cd['Incident_Rate'].describe()"
   ]
  },
  {
   "cell_type": "code",
   "execution_count": 20,
   "metadata": {},
   "outputs": [
    {
     "data": {
      "text/plain": [
       "covid_level\n",
       "High      13\n",
       "Low       13\n",
       "Middle    25\n",
       "Name: State, dtype: int64"
      ]
     },
     "execution_count": 20,
     "metadata": {},
     "output_type": "execute_result"
    }
   ],
   "source": [
    "df_telemed_covid_cd['covid_level']='Middle'\n",
    "\n",
    "df_telemed_covid_cd.loc[df_telemed_covid_cd['Incident_Rate'] <= 227, 'covid_level'] = 'Low'\n",
    "df_telemed_covid_cd.loc[df_telemed_covid_cd['Incident_Rate'] >= 584, 'covid_level'] = 'High'\n",
    "\n",
    "\n",
    "df_telemed_covid_cd.groupby('covid_level')[\"State\"].nunique()"
   ]
  },
  {
   "cell_type": "code",
   "execution_count": 21,
   "metadata": {},
   "outputs": [],
   "source": [
    "for col in df_telemed_covid_cd.columns:\n",
    "    df_telemed_covid_cd[col] = df_telemed_covid_cd[col].astype(str)\n",
    "\n",
    "df_telemed_covid_cd['text'] = 'State COVID-19 info:' + '<br>' + \\\n",
    "    '   Incident Rate: ' + df_telemed_covid_cd['Incident_Rate'] + '<br>' + \\\n",
    "    '   Mortality Rate: ' + df_telemed_covid_cd['Mortality_Rate'] + '<br>' + \\\n",
    "    '   Testing Rate: ' + df_telemed_covid_cd['Testing_Rate'] + '<br>' + \\\n",
    "    '   Note: per 100,000 people '+ '<br>' + \\\n",
    "    '   Incident Level: ' + df_telemed_covid_cd['covid_level'] "
   ]
  },
  {
   "cell_type": "code",
   "execution_count": 23,
   "metadata": {
    "scrolled": false
   },
   "outputs": [
    {
     "data": {
      "application/vnd.plotly.v1+json": {
       "config": {
        "plotlyServerURL": "https://plot.ly"
       },
       "data": [
        {
         "autocolorscale": false,
         "colorbar": {
          "title": {
           "text": "Google Search Score"
          }
         },
         "colorscale": [
          [
           0,
           "rgb(255,245,240)"
          ],
          [
           0.125,
           "rgb(254,224,210)"
          ],
          [
           0.25,
           "rgb(252,187,161)"
          ],
          [
           0.375,
           "rgb(252,146,114)"
          ],
          [
           0.5,
           "rgb(251,106,74)"
          ],
          [
           0.625,
           "rgb(239,59,44)"
          ],
          [
           0.75,
           "rgb(203,24,29)"
          ],
          [
           0.875,
           "rgb(165,15,21)"
          ],
          [
           1,
           "rgb(103,0,13)"
          ]
         ],
         "locationmode": "USA-states",
         "locations": [
          "AL",
          "AK",
          "AZ",
          "AR",
          "CA",
          "CO",
          "CT",
          "DE",
          "DC",
          "FL",
          "GA",
          "HI",
          "ID",
          "IL",
          "IN",
          "IA",
          "KS",
          "KY",
          "LA",
          "ME",
          "MD",
          "MA",
          "MI",
          "MN",
          "MS",
          "MO",
          "MT",
          "NE",
          "NV",
          "NH",
          "NJ",
          "NM",
          "NY",
          "NC",
          "ND",
          "OH",
          "OK",
          "OR",
          "PA",
          "RI",
          "SC",
          "SD",
          "TN",
          "TX",
          "UT",
          "VT",
          "VA",
          "WA",
          "WV",
          "WI",
          "WY"
         ],
         "marker": {
          "line": {
           "color": "white"
          }
         },
         "text": [
          "State COVID-19 info:<br>   Incident Rate: 366.0<br>   Mortality Rate: 3.51<br>   Testing Rate: 4437.0<br>   Note: per 100,000 people <br>   Incident Level: Middle",
          "State COVID-19 info:<br>   Incident Rate: 63.0<br>   Mortality Rate: 2.18<br>   Testing Rate: 7067.0<br>   Note: per 100,000 people <br>   Incident Level: Low",
          "State COVID-19 info:<br>   Incident Rate: 274.0<br>   Mortality Rate: 4.55<br>   Testing Rate: 3094.0<br>   Note: per 100,000 people <br>   Incident Level: Middle",
          "State COVID-19 info:<br>   Incident Rate: 240.0<br>   Mortality Rate: 1.83<br>   Testing Rate: 4292.0<br>   Note: per 100,000 people <br>   Incident Level: Middle",
          "State COVID-19 info:<br>   Incident Rate: 283.0<br>   Mortality Rate: 3.73<br>   Testing Rate: 4922.0<br>   Note: per 100,000 people <br>   Incident Level: Middle",
          "State COVID-19 info:<br>   Incident Rate: 458.0<br>   Mortality Rate: 5.48<br>   Testing Rate: 3137.0<br>   Note: per 100,000 people <br>   Incident Level: Middle",
          "State COVID-19 info:<br>   Incident Rate: 1184.0<br>   Mortality Rate: 9.35<br>   Testing Rate: 7013.0<br>   Note: per 100,000 people <br>   Incident Level: High",
          "State COVID-19 info:<br>   Incident Rate: 975.0<br>   Mortality Rate: 3.85<br>   Testing Rate: 6231.0<br>   Note: per 100,000 people <br>   Incident Level: High",
          "State COVID-19 info:<br>   Incident Rate: 1247.0<br>   Mortality Rate: 5.29<br>   Testing Rate: 6586.0<br>   Note: per 100,000 people <br>   Incident Level: High",
          "State COVID-19 info:<br>   Incident Rate: 261.0<br>   Mortality Rate: 4.36<br>   Testing Rate: 4755.0<br>   Note: per 100,000 people <br>   Incident Level: Middle",
          "State COVID-19 info:<br>   Incident Rate: 443.0<br>   Mortality Rate: 4.36<br>   Testing Rate: 4385.0<br>   Note: per 100,000 people <br>   Incident Level: Middle",
          "State COVID-19 info:<br>   Incident Rate: 46.0<br>   Mortality Rate: 2.61<br>   Testing Rate: 3858.0<br>   Note: per 100,000 people <br>   Incident Level: Low",
          "State COVID-19 info:<br>   Incident Rate: 159.0<br>   Mortality Rate: 2.89<br>   Testing Rate: 2613.0<br>   Note: per 100,000 people <br>   Incident Level: Low",
          "State COVID-19 info:<br>   Incident Rate: 949.0<br>   Mortality Rate: 4.48<br>   Testing Rate: 7089.0<br>   Note: per 100,000 people <br>   Incident Level: High",
          "State COVID-19 info:<br>   Incident Rate: 514.0<br>   Mortality Rate: 6.17<br>   Testing Rate: 3885.0<br>   Note: per 100,000 people <br>   Incident Level: Middle",
          "State COVID-19 info:<br>   Incident Rate: 620.0<br>   Mortality Rate: 2.74<br>   Testing Rate: 4954.0<br>   Note: per 100,000 people <br>   Incident Level: High",
          "State COVID-19 info:<br>   Incident Rate: 333.0<br>   Mortality Rate: 2.22<br>   Testing Rate: 3259.0<br>   Note: per 100,000 people <br>   Incident Level: Middle",
          "State COVID-19 info:<br>   Incident Rate: 217.0<br>   Mortality Rate: 4.44<br>   Testing Rate: 4784.0<br>   Note: per 100,000 people <br>   Incident Level: Low",
          "State COVID-19 info:<br>   Incident Rate: 859.0<br>   Mortality Rate: 6.99<br>   Testing Rate: 8069.0<br>   Note: per 100,000 people <br>   Incident Level: High",
          "State COVID-19 info:<br>   Incident Rate: 173.0<br>   Mortality Rate: 3.83<br>   Testing Rate: 3691.0<br>   Note: per 100,000 people <br>   Incident Level: Low",
          "State COVID-19 info:<br>   Incident Rate: 873.0<br>   Mortality Rate: 4.8<br>   Testing Rate: 4993.0<br>   Note: per 100,000 people <br>   Incident Level: High",
          "State COVID-19 info:<br>   Incident Rate: 1407.0<br>   Mortality Rate: 7.06<br>   Testing Rate: 8601.0<br>   Note: per 100,000 people <br>   Incident Level: High",
          "State COVID-19 info:<br>   Incident Rate: 575.0<br>   Mortality Rate: 9.57<br>   Testing Rate: 5554.0<br>   Note: per 100,000 people <br>   Incident Level: Middle",
          "State COVID-19 info:<br>   Incident Rate: 441.0<br>   Mortality Rate: 4.23<br>   Testing Rate: 4424.0<br>   Note: per 100,000 people <br>   Incident Level: Middle",
          "State COVID-19 info:<br>   Incident Rate: 522.0<br>   Mortality Rate: 4.73<br>   Testing Rate: 5774.0<br>   Note: per 100,000 people <br>   Incident Level: Middle",
          "State COVID-19 info:<br>   Incident Rate: 219.0<br>   Mortality Rate: 5.77<br>   Testing Rate: 3154.0<br>   Note: per 100,000 people <br>   Incident Level: Low",
          "State COVID-19 info:<br>   Incident Rate: 48.0<br>   Mortality Rate: 3.3<br>   Testing Rate: 3724.0<br>   Note: per 100,000 people <br>   Incident Level: Low",
          "State COVID-19 info:<br>   Incident Rate: 729.0<br>   Mortality Rate: 1.21<br>   Testing Rate: 5229.0<br>   Note: per 100,000 people <br>   Incident Level: High",
          "State COVID-19 info:<br>   Incident Rate: 280.0<br>   Mortality Rate: 4.83<br>   Testing Rate: 4628.0<br>   Note: per 100,000 people <br>   Incident Level: Middle",
          "State COVID-19 info:<br>   Incident Rate: 342.0<br>   Mortality Rate: 5.27<br>   Testing Rate: 5169.0<br>   Note: per 100,000 people <br>   Incident Level: Middle",
          "State COVID-19 info:<br>   Incident Rate: 1806.0<br>   Mortality Rate: 7.29<br>   Testing Rate: 8400.0<br>   Note: per 100,000 people <br>   Incident Level: High",
          "State COVID-19 info:<br>   Incident Rate: 367.0<br>   Mortality Rate: 4.63<br>   Testing Rate: 9273.0<br>   Note: per 100,000 people <br>   Incident Level: Middle",
          "State COVID-19 info:<br>   Incident Rate: 1906.0<br>   Mortality Rate: 8.03<br>   Testing Rate: 10609.0<br>   Note: per 100,000 people <br>   Incident Level: High",
          "State COVID-19 info:<br>   Incident Rate: 274.0<br>   Mortality Rate: 3.26<br>   Testing Rate: 3969.0<br>   Note: per 100,000 people <br>   Incident Level: Middle",
          "State COVID-19 info:<br>   Incident Rate: 338.0<br>   Mortality Rate: 2.37<br>   Testing Rate: 9453.0<br>   Note: per 100,000 people <br>   Incident Level: Middle",
          "State COVID-19 info:<br>   Incident Rate: 304.0<br>   Mortality Rate: 6.07<br>   Testing Rate: 3344.0<br>   Note: per 100,000 people <br>   Incident Level: Middle",
          "State COVID-19 info:<br>   Incident Rate: 162.0<br>   Mortality Rate: 5.2<br>   Testing Rate: 4883.0<br>   Note: per 100,000 people <br>   Incident Level: Low",
          "State COVID-19 info:<br>   Incident Rate: 101.0<br>   Mortality Rate: 3.61<br>   Testing Rate: 3063.0<br>   Note: per 100,000 people <br>   Incident Level: Low",
          "State COVID-19 info:<br>   Incident Rate: 595.0<br>   Mortality Rate: 7.3<br>   Testing Rate: 3559.0<br>   Note: per 100,000 people <br>   Incident Level: High",
          "State COVID-19 info:<br>   Incident Rate: 1409.0<br>   Mortality Rate: 4.81<br>   Testing Rate: 14584.0<br>   Note: per 100,000 people <br>   Incident Level: High",
          "State COVID-19 info:<br>   Incident Rate: 230.0<br>   Mortality Rate: 4.16<br>   Testing Rate: 3889.0<br>   Note: per 100,000 people <br>   Incident Level: Middle",
          "State COVID-19 info:<br>   Incident Rate: 564.0<br>   Mortality Rate: 1.24<br>   Testing Rate: 4988.0<br>   Note: per 100,000 people <br>   Incident Level: Middle",
          "State COVID-19 info:<br>   Incident Rate: 330.0<br>   Mortality Rate: 1.61<br>   Testing Rate: 6384.0<br>   Note: per 100,000 people <br>   Incident Level: Middle",
          "State COVID-19 info:<br>   Incident Rate: 223.0<br>   Mortality Rate: 2.59<br>   Testing Rate: 3283.0<br>   Note: per 100,000 people <br>   Incident Level: Low",
          "State COVID-19 info:<br>   Incident Rate: 306.0<br>   Mortality Rate: 1.15<br>   Testing Rate: 6672.0<br>   Note: per 100,000 people <br>   Incident Level: Middle",
          "State COVID-19 info:<br>   Incident Rate: 157.0<br>   Mortality Rate: 5.61<br>   Testing Rate: 5444.0<br>   Note: per 100,000 people <br>   Incident Level: Low",
          "State COVID-19 info:<br>   Incident Rate: 523.0<br>   Mortality Rate: 3.08<br>   Testing Rate: 3695.0<br>   Note: per 100,000 people <br>   Incident Level: Middle",
          "State COVID-19 info:<br>   Incident Rate: 285.0<br>   Mortality Rate: 5.15<br>   Testing Rate: 4653.0<br>   Note: per 100,000 people <br>   Incident Level: Middle",
          "State COVID-19 info:<br>   Incident Rate: 112.0<br>   Mortality Rate: 3.73<br>   Testing Rate: 5447.0<br>   Note: per 100,000 people <br>   Incident Level: Low",
          "State COVID-19 info:<br>   Incident Rate: 316.0<br>   Mortality Rate: 3.22<br>   Testing Rate: 4612.0<br>   Note: per 100,000 people <br>   Incident Level: Middle",
          "State COVID-19 info:<br>   Incident Rate: 156.0<br>   Mortality Rate: 1.77<br>   Testing Rate: 4215.0<br>   Note: per 100,000 people <br>   Incident Level: Low"
         ],
         "type": "choropleth",
         "z": [
          37,
          48,
          56,
          40,
          33,
          27,
          28,
          48,
          100,
          44,
          44,
          34,
          34,
          32,
          26,
          33,
          35,
          35,
          43,
          52,
          49,
          39,
          33,
          41,
          39,
          32,
          26,
          31,
          46,
          41,
          36,
          47,
          60,
          38,
          66,
          27,
          29,
          30,
          41,
          20,
          36,
          83,
          43,
          43,
          31,
          44,
          51,
          27,
          56,
          26,
          26
         ]
        }
       ],
       "layout": {
        "geo": {
         "scope": "usa"
        },
        "template": {
         "data": {
          "bar": [
           {
            "error_x": {
             "color": "#2a3f5f"
            },
            "error_y": {
             "color": "#2a3f5f"
            },
            "marker": {
             "line": {
              "color": "#E5ECF6",
              "width": 0.5
             }
            },
            "type": "bar"
           }
          ],
          "barpolar": [
           {
            "marker": {
             "line": {
              "color": "#E5ECF6",
              "width": 0.5
             }
            },
            "type": "barpolar"
           }
          ],
          "carpet": [
           {
            "aaxis": {
             "endlinecolor": "#2a3f5f",
             "gridcolor": "white",
             "linecolor": "white",
             "minorgridcolor": "white",
             "startlinecolor": "#2a3f5f"
            },
            "baxis": {
             "endlinecolor": "#2a3f5f",
             "gridcolor": "white",
             "linecolor": "white",
             "minorgridcolor": "white",
             "startlinecolor": "#2a3f5f"
            },
            "type": "carpet"
           }
          ],
          "choropleth": [
           {
            "colorbar": {
             "outlinewidth": 0,
             "ticks": ""
            },
            "type": "choropleth"
           }
          ],
          "contour": [
           {
            "colorbar": {
             "outlinewidth": 0,
             "ticks": ""
            },
            "colorscale": [
             [
              0,
              "#0d0887"
             ],
             [
              0.1111111111111111,
              "#46039f"
             ],
             [
              0.2222222222222222,
              "#7201a8"
             ],
             [
              0.3333333333333333,
              "#9c179e"
             ],
             [
              0.4444444444444444,
              "#bd3786"
             ],
             [
              0.5555555555555556,
              "#d8576b"
             ],
             [
              0.6666666666666666,
              "#ed7953"
             ],
             [
              0.7777777777777778,
              "#fb9f3a"
             ],
             [
              0.8888888888888888,
              "#fdca26"
             ],
             [
              1,
              "#f0f921"
             ]
            ],
            "type": "contour"
           }
          ],
          "contourcarpet": [
           {
            "colorbar": {
             "outlinewidth": 0,
             "ticks": ""
            },
            "type": "contourcarpet"
           }
          ],
          "heatmap": [
           {
            "colorbar": {
             "outlinewidth": 0,
             "ticks": ""
            },
            "colorscale": [
             [
              0,
              "#0d0887"
             ],
             [
              0.1111111111111111,
              "#46039f"
             ],
             [
              0.2222222222222222,
              "#7201a8"
             ],
             [
              0.3333333333333333,
              "#9c179e"
             ],
             [
              0.4444444444444444,
              "#bd3786"
             ],
             [
              0.5555555555555556,
              "#d8576b"
             ],
             [
              0.6666666666666666,
              "#ed7953"
             ],
             [
              0.7777777777777778,
              "#fb9f3a"
             ],
             [
              0.8888888888888888,
              "#fdca26"
             ],
             [
              1,
              "#f0f921"
             ]
            ],
            "type": "heatmap"
           }
          ],
          "heatmapgl": [
           {
            "colorbar": {
             "outlinewidth": 0,
             "ticks": ""
            },
            "colorscale": [
             [
              0,
              "#0d0887"
             ],
             [
              0.1111111111111111,
              "#46039f"
             ],
             [
              0.2222222222222222,
              "#7201a8"
             ],
             [
              0.3333333333333333,
              "#9c179e"
             ],
             [
              0.4444444444444444,
              "#bd3786"
             ],
             [
              0.5555555555555556,
              "#d8576b"
             ],
             [
              0.6666666666666666,
              "#ed7953"
             ],
             [
              0.7777777777777778,
              "#fb9f3a"
             ],
             [
              0.8888888888888888,
              "#fdca26"
             ],
             [
              1,
              "#f0f921"
             ]
            ],
            "type": "heatmapgl"
           }
          ],
          "histogram": [
           {
            "marker": {
             "colorbar": {
              "outlinewidth": 0,
              "ticks": ""
             }
            },
            "type": "histogram"
           }
          ],
          "histogram2d": [
           {
            "colorbar": {
             "outlinewidth": 0,
             "ticks": ""
            },
            "colorscale": [
             [
              0,
              "#0d0887"
             ],
             [
              0.1111111111111111,
              "#46039f"
             ],
             [
              0.2222222222222222,
              "#7201a8"
             ],
             [
              0.3333333333333333,
              "#9c179e"
             ],
             [
              0.4444444444444444,
              "#bd3786"
             ],
             [
              0.5555555555555556,
              "#d8576b"
             ],
             [
              0.6666666666666666,
              "#ed7953"
             ],
             [
              0.7777777777777778,
              "#fb9f3a"
             ],
             [
              0.8888888888888888,
              "#fdca26"
             ],
             [
              1,
              "#f0f921"
             ]
            ],
            "type": "histogram2d"
           }
          ],
          "histogram2dcontour": [
           {
            "colorbar": {
             "outlinewidth": 0,
             "ticks": ""
            },
            "colorscale": [
             [
              0,
              "#0d0887"
             ],
             [
              0.1111111111111111,
              "#46039f"
             ],
             [
              0.2222222222222222,
              "#7201a8"
             ],
             [
              0.3333333333333333,
              "#9c179e"
             ],
             [
              0.4444444444444444,
              "#bd3786"
             ],
             [
              0.5555555555555556,
              "#d8576b"
             ],
             [
              0.6666666666666666,
              "#ed7953"
             ],
             [
              0.7777777777777778,
              "#fb9f3a"
             ],
             [
              0.8888888888888888,
              "#fdca26"
             ],
             [
              1,
              "#f0f921"
             ]
            ],
            "type": "histogram2dcontour"
           }
          ],
          "mesh3d": [
           {
            "colorbar": {
             "outlinewidth": 0,
             "ticks": ""
            },
            "type": "mesh3d"
           }
          ],
          "parcoords": [
           {
            "line": {
             "colorbar": {
              "outlinewidth": 0,
              "ticks": ""
             }
            },
            "type": "parcoords"
           }
          ],
          "pie": [
           {
            "automargin": true,
            "type": "pie"
           }
          ],
          "scatter": [
           {
            "marker": {
             "colorbar": {
              "outlinewidth": 0,
              "ticks": ""
             }
            },
            "type": "scatter"
           }
          ],
          "scatter3d": [
           {
            "line": {
             "colorbar": {
              "outlinewidth": 0,
              "ticks": ""
             }
            },
            "marker": {
             "colorbar": {
              "outlinewidth": 0,
              "ticks": ""
             }
            },
            "type": "scatter3d"
           }
          ],
          "scattercarpet": [
           {
            "marker": {
             "colorbar": {
              "outlinewidth": 0,
              "ticks": ""
             }
            },
            "type": "scattercarpet"
           }
          ],
          "scattergeo": [
           {
            "marker": {
             "colorbar": {
              "outlinewidth": 0,
              "ticks": ""
             }
            },
            "type": "scattergeo"
           }
          ],
          "scattergl": [
           {
            "marker": {
             "colorbar": {
              "outlinewidth": 0,
              "ticks": ""
             }
            },
            "type": "scattergl"
           }
          ],
          "scattermapbox": [
           {
            "marker": {
             "colorbar": {
              "outlinewidth": 0,
              "ticks": ""
             }
            },
            "type": "scattermapbox"
           }
          ],
          "scatterpolar": [
           {
            "marker": {
             "colorbar": {
              "outlinewidth": 0,
              "ticks": ""
             }
            },
            "type": "scatterpolar"
           }
          ],
          "scatterpolargl": [
           {
            "marker": {
             "colorbar": {
              "outlinewidth": 0,
              "ticks": ""
             }
            },
            "type": "scatterpolargl"
           }
          ],
          "scatterternary": [
           {
            "marker": {
             "colorbar": {
              "outlinewidth": 0,
              "ticks": ""
             }
            },
            "type": "scatterternary"
           }
          ],
          "surface": [
           {
            "colorbar": {
             "outlinewidth": 0,
             "ticks": ""
            },
            "colorscale": [
             [
              0,
              "#0d0887"
             ],
             [
              0.1111111111111111,
              "#46039f"
             ],
             [
              0.2222222222222222,
              "#7201a8"
             ],
             [
              0.3333333333333333,
              "#9c179e"
             ],
             [
              0.4444444444444444,
              "#bd3786"
             ],
             [
              0.5555555555555556,
              "#d8576b"
             ],
             [
              0.6666666666666666,
              "#ed7953"
             ],
             [
              0.7777777777777778,
              "#fb9f3a"
             ],
             [
              0.8888888888888888,
              "#fdca26"
             ],
             [
              1,
              "#f0f921"
             ]
            ],
            "type": "surface"
           }
          ],
          "table": [
           {
            "cells": {
             "fill": {
              "color": "#EBF0F8"
             },
             "line": {
              "color": "white"
             }
            },
            "header": {
             "fill": {
              "color": "#C8D4E3"
             },
             "line": {
              "color": "white"
             }
            },
            "type": "table"
           }
          ]
         },
         "layout": {
          "annotationdefaults": {
           "arrowcolor": "#2a3f5f",
           "arrowhead": 0,
           "arrowwidth": 1
          },
          "coloraxis": {
           "colorbar": {
            "outlinewidth": 0,
            "ticks": ""
           }
          },
          "colorscale": {
           "diverging": [
            [
             0,
             "#8e0152"
            ],
            [
             0.1,
             "#c51b7d"
            ],
            [
             0.2,
             "#de77ae"
            ],
            [
             0.3,
             "#f1b6da"
            ],
            [
             0.4,
             "#fde0ef"
            ],
            [
             0.5,
             "#f7f7f7"
            ],
            [
             0.6,
             "#e6f5d0"
            ],
            [
             0.7,
             "#b8e186"
            ],
            [
             0.8,
             "#7fbc41"
            ],
            [
             0.9,
             "#4d9221"
            ],
            [
             1,
             "#276419"
            ]
           ],
           "sequential": [
            [
             0,
             "#0d0887"
            ],
            [
             0.1111111111111111,
             "#46039f"
            ],
            [
             0.2222222222222222,
             "#7201a8"
            ],
            [
             0.3333333333333333,
             "#9c179e"
            ],
            [
             0.4444444444444444,
             "#bd3786"
            ],
            [
             0.5555555555555556,
             "#d8576b"
            ],
            [
             0.6666666666666666,
             "#ed7953"
            ],
            [
             0.7777777777777778,
             "#fb9f3a"
            ],
            [
             0.8888888888888888,
             "#fdca26"
            ],
            [
             1,
             "#f0f921"
            ]
           ],
           "sequentialminus": [
            [
             0,
             "#0d0887"
            ],
            [
             0.1111111111111111,
             "#46039f"
            ],
            [
             0.2222222222222222,
             "#7201a8"
            ],
            [
             0.3333333333333333,
             "#9c179e"
            ],
            [
             0.4444444444444444,
             "#bd3786"
            ],
            [
             0.5555555555555556,
             "#d8576b"
            ],
            [
             0.6666666666666666,
             "#ed7953"
            ],
            [
             0.7777777777777778,
             "#fb9f3a"
            ],
            [
             0.8888888888888888,
             "#fdca26"
            ],
            [
             1,
             "#f0f921"
            ]
           ]
          },
          "colorway": [
           "#636efa",
           "#EF553B",
           "#00cc96",
           "#ab63fa",
           "#FFA15A",
           "#19d3f3",
           "#FF6692",
           "#B6E880",
           "#FF97FF",
           "#FECB52"
          ],
          "font": {
           "color": "#2a3f5f"
          },
          "geo": {
           "bgcolor": "white",
           "lakecolor": "white",
           "landcolor": "#E5ECF6",
           "showlakes": true,
           "showland": true,
           "subunitcolor": "white"
          },
          "hoverlabel": {
           "align": "left"
          },
          "hovermode": "closest",
          "mapbox": {
           "style": "light"
          },
          "paper_bgcolor": "white",
          "plot_bgcolor": "#E5ECF6",
          "polar": {
           "angularaxis": {
            "gridcolor": "white",
            "linecolor": "white",
            "ticks": ""
           },
           "bgcolor": "#E5ECF6",
           "radialaxis": {
            "gridcolor": "white",
            "linecolor": "white",
            "ticks": ""
           }
          },
          "scene": {
           "xaxis": {
            "backgroundcolor": "#E5ECF6",
            "gridcolor": "white",
            "gridwidth": 2,
            "linecolor": "white",
            "showbackground": true,
            "ticks": "",
            "zerolinecolor": "white"
           },
           "yaxis": {
            "backgroundcolor": "#E5ECF6",
            "gridcolor": "white",
            "gridwidth": 2,
            "linecolor": "white",
            "showbackground": true,
            "ticks": "",
            "zerolinecolor": "white"
           },
           "zaxis": {
            "backgroundcolor": "#E5ECF6",
            "gridcolor": "white",
            "gridwidth": 2,
            "linecolor": "white",
            "showbackground": true,
            "ticks": "",
            "zerolinecolor": "white"
           }
          },
          "shapedefaults": {
           "line": {
            "color": "#2a3f5f"
           }
          },
          "ternary": {
           "aaxis": {
            "gridcolor": "white",
            "linecolor": "white",
            "ticks": ""
           },
           "baxis": {
            "gridcolor": "white",
            "linecolor": "white",
            "ticks": ""
           },
           "bgcolor": "#E5ECF6",
           "caxis": {
            "gridcolor": "white",
            "linecolor": "white",
            "ticks": ""
           }
          },
          "title": {
           "x": 0.05
          },
          "xaxis": {
           "automargin": true,
           "gridcolor": "white",
           "linecolor": "white",
           "ticks": "",
           "title": {
            "standoff": 15
           },
           "zerolinecolor": "white",
           "zerolinewidth": 2
          },
          "yaxis": {
           "automargin": true,
           "gridcolor": "white",
           "linecolor": "white",
           "ticks": "",
           "title": {
            "standoff": 15
           },
           "zerolinecolor": "white",
           "zerolinewidth": 2
          }
         }
        },
        "title": {
         "text": "2019 Whole Year Search Interest of Telemedicine by State"
        }
       }
      },
      "text/html": [
       "<div>\n",
       "        \n",
       "        \n",
       "            <div id=\"c4e38cbb-f7ad-4ff0-9fa3-7661c678790d\" class=\"plotly-graph-div\" style=\"height:525px; width:100%;\"></div>\n",
       "            <script type=\"text/javascript\">\n",
       "                require([\"plotly\"], function(Plotly) {\n",
       "                    window.PLOTLYENV=window.PLOTLYENV || {};\n",
       "                    \n",
       "                if (document.getElementById(\"c4e38cbb-f7ad-4ff0-9fa3-7661c678790d\")) {\n",
       "                    Plotly.newPlot(\n",
       "                        'c4e38cbb-f7ad-4ff0-9fa3-7661c678790d',\n",
       "                        [{\"autocolorscale\": false, \"colorbar\": {\"title\": {\"text\": \"Google Search Score\"}}, \"colorscale\": [[0.0, \"rgb(255,245,240)\"], [0.125, \"rgb(254,224,210)\"], [0.25, \"rgb(252,187,161)\"], [0.375, \"rgb(252,146,114)\"], [0.5, \"rgb(251,106,74)\"], [0.625, \"rgb(239,59,44)\"], [0.75, \"rgb(203,24,29)\"], [0.875, \"rgb(165,15,21)\"], [1.0, \"rgb(103,0,13)\"]], \"locationmode\": \"USA-states\", \"locations\": [\"AL\", \"AK\", \"AZ\", \"AR\", \"CA\", \"CO\", \"CT\", \"DE\", \"DC\", \"FL\", \"GA\", \"HI\", \"ID\", \"IL\", \"IN\", \"IA\", \"KS\", \"KY\", \"LA\", \"ME\", \"MD\", \"MA\", \"MI\", \"MN\", \"MS\", \"MO\", \"MT\", \"NE\", \"NV\", \"NH\", \"NJ\", \"NM\", \"NY\", \"NC\", \"ND\", \"OH\", \"OK\", \"OR\", \"PA\", \"RI\", \"SC\", \"SD\", \"TN\", \"TX\", \"UT\", \"VT\", \"VA\", \"WA\", \"WV\", \"WI\", \"WY\"], \"marker\": {\"line\": {\"color\": \"white\"}}, \"text\": [\"State COVID-19 info:<br>   Incident Rate: 366.0<br>   Mortality Rate: 3.51<br>   Testing Rate: 4437.0<br>   Note: per 100,000 people <br>   Incident Level: Middle\", \"State COVID-19 info:<br>   Incident Rate: 63.0<br>   Mortality Rate: 2.18<br>   Testing Rate: 7067.0<br>   Note: per 100,000 people <br>   Incident Level: Low\", \"State COVID-19 info:<br>   Incident Rate: 274.0<br>   Mortality Rate: 4.55<br>   Testing Rate: 3094.0<br>   Note: per 100,000 people <br>   Incident Level: Middle\", \"State COVID-19 info:<br>   Incident Rate: 240.0<br>   Mortality Rate: 1.83<br>   Testing Rate: 4292.0<br>   Note: per 100,000 people <br>   Incident Level: Middle\", \"State COVID-19 info:<br>   Incident Rate: 283.0<br>   Mortality Rate: 3.73<br>   Testing Rate: 4922.0<br>   Note: per 100,000 people <br>   Incident Level: Middle\", \"State COVID-19 info:<br>   Incident Rate: 458.0<br>   Mortality Rate: 5.48<br>   Testing Rate: 3137.0<br>   Note: per 100,000 people <br>   Incident Level: Middle\", \"State COVID-19 info:<br>   Incident Rate: 1184.0<br>   Mortality Rate: 9.35<br>   Testing Rate: 7013.0<br>   Note: per 100,000 people <br>   Incident Level: High\", \"State COVID-19 info:<br>   Incident Rate: 975.0<br>   Mortality Rate: 3.85<br>   Testing Rate: 6231.0<br>   Note: per 100,000 people <br>   Incident Level: High\", \"State COVID-19 info:<br>   Incident Rate: 1247.0<br>   Mortality Rate: 5.29<br>   Testing Rate: 6586.0<br>   Note: per 100,000 people <br>   Incident Level: High\", \"State COVID-19 info:<br>   Incident Rate: 261.0<br>   Mortality Rate: 4.36<br>   Testing Rate: 4755.0<br>   Note: per 100,000 people <br>   Incident Level: Middle\", \"State COVID-19 info:<br>   Incident Rate: 443.0<br>   Mortality Rate: 4.36<br>   Testing Rate: 4385.0<br>   Note: per 100,000 people <br>   Incident Level: Middle\", \"State COVID-19 info:<br>   Incident Rate: 46.0<br>   Mortality Rate: 2.61<br>   Testing Rate: 3858.0<br>   Note: per 100,000 people <br>   Incident Level: Low\", \"State COVID-19 info:<br>   Incident Rate: 159.0<br>   Mortality Rate: 2.89<br>   Testing Rate: 2613.0<br>   Note: per 100,000 people <br>   Incident Level: Low\", \"State COVID-19 info:<br>   Incident Rate: 949.0<br>   Mortality Rate: 4.48<br>   Testing Rate: 7089.0<br>   Note: per 100,000 people <br>   Incident Level: High\", \"State COVID-19 info:<br>   Incident Rate: 514.0<br>   Mortality Rate: 6.17<br>   Testing Rate: 3885.0<br>   Note: per 100,000 people <br>   Incident Level: Middle\", \"State COVID-19 info:<br>   Incident Rate: 620.0<br>   Mortality Rate: 2.74<br>   Testing Rate: 4954.0<br>   Note: per 100,000 people <br>   Incident Level: High\", \"State COVID-19 info:<br>   Incident Rate: 333.0<br>   Mortality Rate: 2.22<br>   Testing Rate: 3259.0<br>   Note: per 100,000 people <br>   Incident Level: Middle\", \"State COVID-19 info:<br>   Incident Rate: 217.0<br>   Mortality Rate: 4.44<br>   Testing Rate: 4784.0<br>   Note: per 100,000 people <br>   Incident Level: Low\", \"State COVID-19 info:<br>   Incident Rate: 859.0<br>   Mortality Rate: 6.99<br>   Testing Rate: 8069.0<br>   Note: per 100,000 people <br>   Incident Level: High\", \"State COVID-19 info:<br>   Incident Rate: 173.0<br>   Mortality Rate: 3.83<br>   Testing Rate: 3691.0<br>   Note: per 100,000 people <br>   Incident Level: Low\", \"State COVID-19 info:<br>   Incident Rate: 873.0<br>   Mortality Rate: 4.8<br>   Testing Rate: 4993.0<br>   Note: per 100,000 people <br>   Incident Level: High\", \"State COVID-19 info:<br>   Incident Rate: 1407.0<br>   Mortality Rate: 7.06<br>   Testing Rate: 8601.0<br>   Note: per 100,000 people <br>   Incident Level: High\", \"State COVID-19 info:<br>   Incident Rate: 575.0<br>   Mortality Rate: 9.57<br>   Testing Rate: 5554.0<br>   Note: per 100,000 people <br>   Incident Level: Middle\", \"State COVID-19 info:<br>   Incident Rate: 441.0<br>   Mortality Rate: 4.23<br>   Testing Rate: 4424.0<br>   Note: per 100,000 people <br>   Incident Level: Middle\", \"State COVID-19 info:<br>   Incident Rate: 522.0<br>   Mortality Rate: 4.73<br>   Testing Rate: 5774.0<br>   Note: per 100,000 people <br>   Incident Level: Middle\", \"State COVID-19 info:<br>   Incident Rate: 219.0<br>   Mortality Rate: 5.77<br>   Testing Rate: 3154.0<br>   Note: per 100,000 people <br>   Incident Level: Low\", \"State COVID-19 info:<br>   Incident Rate: 48.0<br>   Mortality Rate: 3.3<br>   Testing Rate: 3724.0<br>   Note: per 100,000 people <br>   Incident Level: Low\", \"State COVID-19 info:<br>   Incident Rate: 729.0<br>   Mortality Rate: 1.21<br>   Testing Rate: 5229.0<br>   Note: per 100,000 people <br>   Incident Level: High\", \"State COVID-19 info:<br>   Incident Rate: 280.0<br>   Mortality Rate: 4.83<br>   Testing Rate: 4628.0<br>   Note: per 100,000 people <br>   Incident Level: Middle\", \"State COVID-19 info:<br>   Incident Rate: 342.0<br>   Mortality Rate: 5.27<br>   Testing Rate: 5169.0<br>   Note: per 100,000 people <br>   Incident Level: Middle\", \"State COVID-19 info:<br>   Incident Rate: 1806.0<br>   Mortality Rate: 7.29<br>   Testing Rate: 8400.0<br>   Note: per 100,000 people <br>   Incident Level: High\", \"State COVID-19 info:<br>   Incident Rate: 367.0<br>   Mortality Rate: 4.63<br>   Testing Rate: 9273.0<br>   Note: per 100,000 people <br>   Incident Level: Middle\", \"State COVID-19 info:<br>   Incident Rate: 1906.0<br>   Mortality Rate: 8.03<br>   Testing Rate: 10609.0<br>   Note: per 100,000 people <br>   Incident Level: High\", \"State COVID-19 info:<br>   Incident Rate: 274.0<br>   Mortality Rate: 3.26<br>   Testing Rate: 3969.0<br>   Note: per 100,000 people <br>   Incident Level: Middle\", \"State COVID-19 info:<br>   Incident Rate: 338.0<br>   Mortality Rate: 2.37<br>   Testing Rate: 9453.0<br>   Note: per 100,000 people <br>   Incident Level: Middle\", \"State COVID-19 info:<br>   Incident Rate: 304.0<br>   Mortality Rate: 6.07<br>   Testing Rate: 3344.0<br>   Note: per 100,000 people <br>   Incident Level: Middle\", \"State COVID-19 info:<br>   Incident Rate: 162.0<br>   Mortality Rate: 5.2<br>   Testing Rate: 4883.0<br>   Note: per 100,000 people <br>   Incident Level: Low\", \"State COVID-19 info:<br>   Incident Rate: 101.0<br>   Mortality Rate: 3.61<br>   Testing Rate: 3063.0<br>   Note: per 100,000 people <br>   Incident Level: Low\", \"State COVID-19 info:<br>   Incident Rate: 595.0<br>   Mortality Rate: 7.3<br>   Testing Rate: 3559.0<br>   Note: per 100,000 people <br>   Incident Level: High\", \"State COVID-19 info:<br>   Incident Rate: 1409.0<br>   Mortality Rate: 4.81<br>   Testing Rate: 14584.0<br>   Note: per 100,000 people <br>   Incident Level: High\", \"State COVID-19 info:<br>   Incident Rate: 230.0<br>   Mortality Rate: 4.16<br>   Testing Rate: 3889.0<br>   Note: per 100,000 people <br>   Incident Level: Middle\", \"State COVID-19 info:<br>   Incident Rate: 564.0<br>   Mortality Rate: 1.24<br>   Testing Rate: 4988.0<br>   Note: per 100,000 people <br>   Incident Level: Middle\", \"State COVID-19 info:<br>   Incident Rate: 330.0<br>   Mortality Rate: 1.61<br>   Testing Rate: 6384.0<br>   Note: per 100,000 people <br>   Incident Level: Middle\", \"State COVID-19 info:<br>   Incident Rate: 223.0<br>   Mortality Rate: 2.59<br>   Testing Rate: 3283.0<br>   Note: per 100,000 people <br>   Incident Level: Low\", \"State COVID-19 info:<br>   Incident Rate: 306.0<br>   Mortality Rate: 1.15<br>   Testing Rate: 6672.0<br>   Note: per 100,000 people <br>   Incident Level: Middle\", \"State COVID-19 info:<br>   Incident Rate: 157.0<br>   Mortality Rate: 5.61<br>   Testing Rate: 5444.0<br>   Note: per 100,000 people <br>   Incident Level: Low\", \"State COVID-19 info:<br>   Incident Rate: 523.0<br>   Mortality Rate: 3.08<br>   Testing Rate: 3695.0<br>   Note: per 100,000 people <br>   Incident Level: Middle\", \"State COVID-19 info:<br>   Incident Rate: 285.0<br>   Mortality Rate: 5.15<br>   Testing Rate: 4653.0<br>   Note: per 100,000 people <br>   Incident Level: Middle\", \"State COVID-19 info:<br>   Incident Rate: 112.0<br>   Mortality Rate: 3.73<br>   Testing Rate: 5447.0<br>   Note: per 100,000 people <br>   Incident Level: Low\", \"State COVID-19 info:<br>   Incident Rate: 316.0<br>   Mortality Rate: 3.22<br>   Testing Rate: 4612.0<br>   Note: per 100,000 people <br>   Incident Level: Middle\", \"State COVID-19 info:<br>   Incident Rate: 156.0<br>   Mortality Rate: 1.77<br>   Testing Rate: 4215.0<br>   Note: per 100,000 people <br>   Incident Level: Low\"], \"type\": \"choropleth\", \"z\": [37.0, 48.0, 56.0, 40.0, 33.0, 27.0, 28.0, 48.0, 100.0, 44.0, 44.0, 34.0, 34.0, 32.0, 26.0, 33.0, 35.0, 35.0, 43.0, 52.0, 49.0, 39.0, 33.0, 41.0, 39.0, 32.0, 26.0, 31.0, 46.0, 41.0, 36.0, 47.0, 60.0, 38.0, 66.0, 27.0, 29.0, 30.0, 41.0, 20.0, 36.0, 83.0, 43.0, 43.0, 31.0, 44.0, 51.0, 27.0, 56.0, 26.0, 26.0]}],\n",
       "                        {\"geo\": {\"scope\": \"usa\"}, \"template\": {\"data\": {\"bar\": [{\"error_x\": {\"color\": \"#2a3f5f\"}, \"error_y\": {\"color\": \"#2a3f5f\"}, \"marker\": {\"line\": {\"color\": \"#E5ECF6\", \"width\": 0.5}}, \"type\": \"bar\"}], \"barpolar\": [{\"marker\": {\"line\": {\"color\": \"#E5ECF6\", \"width\": 0.5}}, \"type\": \"barpolar\"}], \"carpet\": [{\"aaxis\": {\"endlinecolor\": \"#2a3f5f\", \"gridcolor\": \"white\", \"linecolor\": \"white\", \"minorgridcolor\": \"white\", \"startlinecolor\": \"#2a3f5f\"}, \"baxis\": {\"endlinecolor\": \"#2a3f5f\", \"gridcolor\": \"white\", \"linecolor\": \"white\", \"minorgridcolor\": \"white\", \"startlinecolor\": \"#2a3f5f\"}, \"type\": \"carpet\"}], \"choropleth\": [{\"colorbar\": {\"outlinewidth\": 0, \"ticks\": \"\"}, \"type\": \"choropleth\"}], \"contour\": [{\"colorbar\": {\"outlinewidth\": 0, \"ticks\": \"\"}, \"colorscale\": [[0.0, \"#0d0887\"], [0.1111111111111111, \"#46039f\"], [0.2222222222222222, \"#7201a8\"], [0.3333333333333333, \"#9c179e\"], [0.4444444444444444, \"#bd3786\"], [0.5555555555555556, \"#d8576b\"], [0.6666666666666666, \"#ed7953\"], [0.7777777777777778, \"#fb9f3a\"], [0.8888888888888888, \"#fdca26\"], [1.0, \"#f0f921\"]], \"type\": \"contour\"}], \"contourcarpet\": [{\"colorbar\": {\"outlinewidth\": 0, \"ticks\": \"\"}, \"type\": \"contourcarpet\"}], \"heatmap\": [{\"colorbar\": {\"outlinewidth\": 0, \"ticks\": \"\"}, \"colorscale\": [[0.0, \"#0d0887\"], [0.1111111111111111, \"#46039f\"], [0.2222222222222222, \"#7201a8\"], [0.3333333333333333, \"#9c179e\"], [0.4444444444444444, \"#bd3786\"], [0.5555555555555556, \"#d8576b\"], [0.6666666666666666, \"#ed7953\"], [0.7777777777777778, \"#fb9f3a\"], [0.8888888888888888, \"#fdca26\"], [1.0, \"#f0f921\"]], \"type\": \"heatmap\"}], \"heatmapgl\": [{\"colorbar\": {\"outlinewidth\": 0, \"ticks\": \"\"}, \"colorscale\": [[0.0, \"#0d0887\"], [0.1111111111111111, \"#46039f\"], [0.2222222222222222, \"#7201a8\"], [0.3333333333333333, \"#9c179e\"], [0.4444444444444444, \"#bd3786\"], [0.5555555555555556, \"#d8576b\"], [0.6666666666666666, \"#ed7953\"], [0.7777777777777778, \"#fb9f3a\"], [0.8888888888888888, \"#fdca26\"], [1.0, \"#f0f921\"]], \"type\": \"heatmapgl\"}], \"histogram\": [{\"marker\": {\"colorbar\": {\"outlinewidth\": 0, \"ticks\": \"\"}}, \"type\": \"histogram\"}], \"histogram2d\": [{\"colorbar\": {\"outlinewidth\": 0, \"ticks\": \"\"}, \"colorscale\": [[0.0, \"#0d0887\"], [0.1111111111111111, \"#46039f\"], [0.2222222222222222, \"#7201a8\"], [0.3333333333333333, \"#9c179e\"], [0.4444444444444444, \"#bd3786\"], [0.5555555555555556, \"#d8576b\"], [0.6666666666666666, \"#ed7953\"], [0.7777777777777778, \"#fb9f3a\"], [0.8888888888888888, \"#fdca26\"], [1.0, \"#f0f921\"]], \"type\": \"histogram2d\"}], \"histogram2dcontour\": [{\"colorbar\": {\"outlinewidth\": 0, \"ticks\": \"\"}, \"colorscale\": [[0.0, \"#0d0887\"], [0.1111111111111111, \"#46039f\"], [0.2222222222222222, \"#7201a8\"], [0.3333333333333333, \"#9c179e\"], [0.4444444444444444, \"#bd3786\"], [0.5555555555555556, \"#d8576b\"], [0.6666666666666666, \"#ed7953\"], [0.7777777777777778, \"#fb9f3a\"], [0.8888888888888888, \"#fdca26\"], [1.0, \"#f0f921\"]], \"type\": \"histogram2dcontour\"}], \"mesh3d\": [{\"colorbar\": {\"outlinewidth\": 0, \"ticks\": \"\"}, \"type\": \"mesh3d\"}], \"parcoords\": [{\"line\": {\"colorbar\": {\"outlinewidth\": 0, \"ticks\": \"\"}}, \"type\": \"parcoords\"}], \"pie\": [{\"automargin\": true, \"type\": \"pie\"}], \"scatter\": [{\"marker\": {\"colorbar\": {\"outlinewidth\": 0, \"ticks\": \"\"}}, \"type\": \"scatter\"}], \"scatter3d\": [{\"line\": {\"colorbar\": {\"outlinewidth\": 0, \"ticks\": \"\"}}, \"marker\": {\"colorbar\": {\"outlinewidth\": 0, \"ticks\": \"\"}}, \"type\": \"scatter3d\"}], \"scattercarpet\": [{\"marker\": {\"colorbar\": {\"outlinewidth\": 0, \"ticks\": \"\"}}, \"type\": \"scattercarpet\"}], \"scattergeo\": [{\"marker\": {\"colorbar\": {\"outlinewidth\": 0, \"ticks\": \"\"}}, \"type\": \"scattergeo\"}], \"scattergl\": [{\"marker\": {\"colorbar\": {\"outlinewidth\": 0, \"ticks\": \"\"}}, \"type\": \"scattergl\"}], \"scattermapbox\": [{\"marker\": {\"colorbar\": {\"outlinewidth\": 0, \"ticks\": \"\"}}, \"type\": \"scattermapbox\"}], \"scatterpolar\": [{\"marker\": {\"colorbar\": {\"outlinewidth\": 0, \"ticks\": \"\"}}, \"type\": \"scatterpolar\"}], \"scatterpolargl\": [{\"marker\": {\"colorbar\": {\"outlinewidth\": 0, \"ticks\": \"\"}}, \"type\": \"scatterpolargl\"}], \"scatterternary\": [{\"marker\": {\"colorbar\": {\"outlinewidth\": 0, \"ticks\": \"\"}}, \"type\": \"scatterternary\"}], \"surface\": [{\"colorbar\": {\"outlinewidth\": 0, \"ticks\": \"\"}, \"colorscale\": [[0.0, \"#0d0887\"], [0.1111111111111111, \"#46039f\"], [0.2222222222222222, \"#7201a8\"], [0.3333333333333333, \"#9c179e\"], [0.4444444444444444, \"#bd3786\"], [0.5555555555555556, \"#d8576b\"], [0.6666666666666666, \"#ed7953\"], [0.7777777777777778, \"#fb9f3a\"], [0.8888888888888888, \"#fdca26\"], [1.0, \"#f0f921\"]], \"type\": \"surface\"}], \"table\": [{\"cells\": {\"fill\": {\"color\": \"#EBF0F8\"}, \"line\": {\"color\": \"white\"}}, \"header\": {\"fill\": {\"color\": \"#C8D4E3\"}, \"line\": {\"color\": \"white\"}}, \"type\": \"table\"}]}, \"layout\": {\"annotationdefaults\": {\"arrowcolor\": \"#2a3f5f\", \"arrowhead\": 0, \"arrowwidth\": 1}, \"coloraxis\": {\"colorbar\": {\"outlinewidth\": 0, \"ticks\": \"\"}}, \"colorscale\": {\"diverging\": [[0, \"#8e0152\"], [0.1, \"#c51b7d\"], [0.2, \"#de77ae\"], [0.3, \"#f1b6da\"], [0.4, \"#fde0ef\"], [0.5, \"#f7f7f7\"], [0.6, \"#e6f5d0\"], [0.7, \"#b8e186\"], [0.8, \"#7fbc41\"], [0.9, \"#4d9221\"], [1, \"#276419\"]], \"sequential\": [[0.0, \"#0d0887\"], [0.1111111111111111, \"#46039f\"], [0.2222222222222222, \"#7201a8\"], [0.3333333333333333, \"#9c179e\"], [0.4444444444444444, \"#bd3786\"], [0.5555555555555556, \"#d8576b\"], [0.6666666666666666, \"#ed7953\"], [0.7777777777777778, \"#fb9f3a\"], [0.8888888888888888, \"#fdca26\"], [1.0, \"#f0f921\"]], \"sequentialminus\": [[0.0, \"#0d0887\"], [0.1111111111111111, \"#46039f\"], [0.2222222222222222, \"#7201a8\"], [0.3333333333333333, \"#9c179e\"], [0.4444444444444444, \"#bd3786\"], [0.5555555555555556, \"#d8576b\"], [0.6666666666666666, \"#ed7953\"], [0.7777777777777778, \"#fb9f3a\"], [0.8888888888888888, \"#fdca26\"], [1.0, \"#f0f921\"]]}, \"colorway\": [\"#636efa\", \"#EF553B\", \"#00cc96\", \"#ab63fa\", \"#FFA15A\", \"#19d3f3\", \"#FF6692\", \"#B6E880\", \"#FF97FF\", \"#FECB52\"], \"font\": {\"color\": \"#2a3f5f\"}, \"geo\": {\"bgcolor\": \"white\", \"lakecolor\": \"white\", \"landcolor\": \"#E5ECF6\", \"showlakes\": true, \"showland\": true, \"subunitcolor\": \"white\"}, \"hoverlabel\": {\"align\": \"left\"}, \"hovermode\": \"closest\", \"mapbox\": {\"style\": \"light\"}, \"paper_bgcolor\": \"white\", \"plot_bgcolor\": \"#E5ECF6\", \"polar\": {\"angularaxis\": {\"gridcolor\": \"white\", \"linecolor\": \"white\", \"ticks\": \"\"}, \"bgcolor\": \"#E5ECF6\", \"radialaxis\": {\"gridcolor\": \"white\", \"linecolor\": \"white\", \"ticks\": \"\"}}, \"scene\": {\"xaxis\": {\"backgroundcolor\": \"#E5ECF6\", \"gridcolor\": \"white\", \"gridwidth\": 2, \"linecolor\": \"white\", \"showbackground\": true, \"ticks\": \"\", \"zerolinecolor\": \"white\"}, \"yaxis\": {\"backgroundcolor\": \"#E5ECF6\", \"gridcolor\": \"white\", \"gridwidth\": 2, \"linecolor\": \"white\", \"showbackground\": true, \"ticks\": \"\", \"zerolinecolor\": \"white\"}, \"zaxis\": {\"backgroundcolor\": \"#E5ECF6\", \"gridcolor\": \"white\", \"gridwidth\": 2, \"linecolor\": \"white\", \"showbackground\": true, \"ticks\": \"\", \"zerolinecolor\": \"white\"}}, \"shapedefaults\": {\"line\": {\"color\": \"#2a3f5f\"}}, \"ternary\": {\"aaxis\": {\"gridcolor\": \"white\", \"linecolor\": \"white\", \"ticks\": \"\"}, \"baxis\": {\"gridcolor\": \"white\", \"linecolor\": \"white\", \"ticks\": \"\"}, \"bgcolor\": \"#E5ECF6\", \"caxis\": {\"gridcolor\": \"white\", \"linecolor\": \"white\", \"ticks\": \"\"}}, \"title\": {\"x\": 0.05}, \"xaxis\": {\"automargin\": true, \"gridcolor\": \"white\", \"linecolor\": \"white\", \"ticks\": \"\", \"title\": {\"standoff\": 15}, \"zerolinecolor\": \"white\", \"zerolinewidth\": 2}, \"yaxis\": {\"automargin\": true, \"gridcolor\": \"white\", \"linecolor\": \"white\", \"ticks\": \"\", \"title\": {\"standoff\": 15}, \"zerolinecolor\": \"white\", \"zerolinewidth\": 2}}}, \"title\": {\"text\": \"2019 Whole Year Search Interest of Telemedicine by State\"}},\n",
       "                        {\"responsive\": true}\n",
       "                    ).then(function(){\n",
       "                            \n",
       "var gd = document.getElementById('c4e38cbb-f7ad-4ff0-9fa3-7661c678790d');\n",
       "var x = new MutationObserver(function (mutations, observer) {{\n",
       "        var display = window.getComputedStyle(gd).display;\n",
       "        if (!display || display === 'none') {{\n",
       "            console.log([gd, 'removed!']);\n",
       "            Plotly.purge(gd);\n",
       "            observer.disconnect();\n",
       "        }}\n",
       "}});\n",
       "\n",
       "// Listen for the removal of the full notebook cells\n",
       "var notebookContainer = gd.closest('#notebook-container');\n",
       "if (notebookContainer) {{\n",
       "    x.observe(notebookContainer, {childList: true});\n",
       "}}\n",
       "\n",
       "// Listen for the clearing of the current output cell\n",
       "var outputEl = gd.closest('.output');\n",
       "if (outputEl) {{\n",
       "    x.observe(outputEl, {childList: true});\n",
       "}}\n",
       "\n",
       "                        })\n",
       "                };\n",
       "                });\n",
       "            </script>\n",
       "        </div>"
      ]
     },
     "metadata": {},
     "output_type": "display_data"
    }
   ],
   "source": [
    "fig = go.Figure(data=go.Choropleth(\n",
    "    locations=df_telemed_covid_cd['Code'],\n",
    "    z=df_telemed_covid['Telemed_2019'].astype(float),\n",
    "    locationmode='USA-states',\n",
    "    colorscale='Reds',\n",
    "    autocolorscale=False,\n",
    "    text=df_telemed_covid_cd['text'], # hover text\n",
    "    marker_line_color='white', # line markers between states\n",
    "    colorbar_title=\"Google Search Score\"\n",
    "))\n",
    "fig.update_layout(\n",
    "    title_text = '2019 Whole Year Search Interest of Telemedicine by State',\n",
    "    geo_scope='usa', # limite map scope to USA\n",
    ")\n",
    "fig.show()"
   ]
  },
  {
   "cell_type": "code",
   "execution_count": 25,
   "metadata": {},
   "outputs": [
    {
     "data": {
      "application/vnd.plotly.v1+json": {
       "config": {
        "plotlyServerURL": "https://plot.ly"
       },
       "data": [
        {
         "autocolorscale": false,
         "colorbar": {
          "title": {
           "text": "Google Search Score"
          }
         },
         "colorscale": [
          [
           0,
           "rgb(255,245,240)"
          ],
          [
           0.125,
           "rgb(254,224,210)"
          ],
          [
           0.25,
           "rgb(252,187,161)"
          ],
          [
           0.375,
           "rgb(252,146,114)"
          ],
          [
           0.5,
           "rgb(251,106,74)"
          ],
          [
           0.625,
           "rgb(239,59,44)"
          ],
          [
           0.75,
           "rgb(203,24,29)"
          ],
          [
           0.875,
           "rgb(165,15,21)"
          ],
          [
           1,
           "rgb(103,0,13)"
          ]
         ],
         "locationmode": "USA-states",
         "locations": [
          "AL",
          "AK",
          "AZ",
          "AR",
          "CA",
          "CO",
          "CT",
          "DE",
          "DC",
          "FL",
          "GA",
          "HI",
          "ID",
          "IL",
          "IN",
          "IA",
          "KS",
          "KY",
          "LA",
          "ME",
          "MD",
          "MA",
          "MI",
          "MN",
          "MS",
          "MO",
          "MT",
          "NE",
          "NV",
          "NH",
          "NJ",
          "NM",
          "NY",
          "NC",
          "ND",
          "OH",
          "OK",
          "OR",
          "PA",
          "RI",
          "SC",
          "SD",
          "TN",
          "TX",
          "UT",
          "VT",
          "VA",
          "WA",
          "WV",
          "WI",
          "WY"
         ],
         "marker": {
          "line": {
           "color": "white"
          }
         },
         "text": [
          "State COVID-19 info:<br>   Incident Rate: 366.0<br>   Mortality Rate: 3.51<br>   Testing Rate: 4437.0<br>   Note: per 100,000 people <br>   Incident Level: Middle",
          "State COVID-19 info:<br>   Incident Rate: 63.0<br>   Mortality Rate: 2.18<br>   Testing Rate: 7067.0<br>   Note: per 100,000 people <br>   Incident Level: Low",
          "State COVID-19 info:<br>   Incident Rate: 274.0<br>   Mortality Rate: 4.55<br>   Testing Rate: 3094.0<br>   Note: per 100,000 people <br>   Incident Level: Middle",
          "State COVID-19 info:<br>   Incident Rate: 240.0<br>   Mortality Rate: 1.83<br>   Testing Rate: 4292.0<br>   Note: per 100,000 people <br>   Incident Level: Middle",
          "State COVID-19 info:<br>   Incident Rate: 283.0<br>   Mortality Rate: 3.73<br>   Testing Rate: 4922.0<br>   Note: per 100,000 people <br>   Incident Level: Middle",
          "State COVID-19 info:<br>   Incident Rate: 458.0<br>   Mortality Rate: 5.48<br>   Testing Rate: 3137.0<br>   Note: per 100,000 people <br>   Incident Level: Middle",
          "State COVID-19 info:<br>   Incident Rate: 1184.0<br>   Mortality Rate: 9.35<br>   Testing Rate: 7013.0<br>   Note: per 100,000 people <br>   Incident Level: High",
          "State COVID-19 info:<br>   Incident Rate: 975.0<br>   Mortality Rate: 3.85<br>   Testing Rate: 6231.0<br>   Note: per 100,000 people <br>   Incident Level: High",
          "State COVID-19 info:<br>   Incident Rate: 1247.0<br>   Mortality Rate: 5.29<br>   Testing Rate: 6586.0<br>   Note: per 100,000 people <br>   Incident Level: High",
          "State COVID-19 info:<br>   Incident Rate: 261.0<br>   Mortality Rate: 4.36<br>   Testing Rate: 4755.0<br>   Note: per 100,000 people <br>   Incident Level: Middle",
          "State COVID-19 info:<br>   Incident Rate: 443.0<br>   Mortality Rate: 4.36<br>   Testing Rate: 4385.0<br>   Note: per 100,000 people <br>   Incident Level: Middle",
          "State COVID-19 info:<br>   Incident Rate: 46.0<br>   Mortality Rate: 2.61<br>   Testing Rate: 3858.0<br>   Note: per 100,000 people <br>   Incident Level: Low",
          "State COVID-19 info:<br>   Incident Rate: 159.0<br>   Mortality Rate: 2.89<br>   Testing Rate: 2613.0<br>   Note: per 100,000 people <br>   Incident Level: Low",
          "State COVID-19 info:<br>   Incident Rate: 949.0<br>   Mortality Rate: 4.48<br>   Testing Rate: 7089.0<br>   Note: per 100,000 people <br>   Incident Level: High",
          "State COVID-19 info:<br>   Incident Rate: 514.0<br>   Mortality Rate: 6.17<br>   Testing Rate: 3885.0<br>   Note: per 100,000 people <br>   Incident Level: Middle",
          "State COVID-19 info:<br>   Incident Rate: 620.0<br>   Mortality Rate: 2.74<br>   Testing Rate: 4954.0<br>   Note: per 100,000 people <br>   Incident Level: High",
          "State COVID-19 info:<br>   Incident Rate: 333.0<br>   Mortality Rate: 2.22<br>   Testing Rate: 3259.0<br>   Note: per 100,000 people <br>   Incident Level: Middle",
          "State COVID-19 info:<br>   Incident Rate: 217.0<br>   Mortality Rate: 4.44<br>   Testing Rate: 4784.0<br>   Note: per 100,000 people <br>   Incident Level: Low",
          "State COVID-19 info:<br>   Incident Rate: 859.0<br>   Mortality Rate: 6.99<br>   Testing Rate: 8069.0<br>   Note: per 100,000 people <br>   Incident Level: High",
          "State COVID-19 info:<br>   Incident Rate: 173.0<br>   Mortality Rate: 3.83<br>   Testing Rate: 3691.0<br>   Note: per 100,000 people <br>   Incident Level: Low",
          "State COVID-19 info:<br>   Incident Rate: 873.0<br>   Mortality Rate: 4.8<br>   Testing Rate: 4993.0<br>   Note: per 100,000 people <br>   Incident Level: High",
          "State COVID-19 info:<br>   Incident Rate: 1407.0<br>   Mortality Rate: 7.06<br>   Testing Rate: 8601.0<br>   Note: per 100,000 people <br>   Incident Level: High",
          "State COVID-19 info:<br>   Incident Rate: 575.0<br>   Mortality Rate: 9.57<br>   Testing Rate: 5554.0<br>   Note: per 100,000 people <br>   Incident Level: Middle",
          "State COVID-19 info:<br>   Incident Rate: 441.0<br>   Mortality Rate: 4.23<br>   Testing Rate: 4424.0<br>   Note: per 100,000 people <br>   Incident Level: Middle",
          "State COVID-19 info:<br>   Incident Rate: 522.0<br>   Mortality Rate: 4.73<br>   Testing Rate: 5774.0<br>   Note: per 100,000 people <br>   Incident Level: Middle",
          "State COVID-19 info:<br>   Incident Rate: 219.0<br>   Mortality Rate: 5.77<br>   Testing Rate: 3154.0<br>   Note: per 100,000 people <br>   Incident Level: Low",
          "State COVID-19 info:<br>   Incident Rate: 48.0<br>   Mortality Rate: 3.3<br>   Testing Rate: 3724.0<br>   Note: per 100,000 people <br>   Incident Level: Low",
          "State COVID-19 info:<br>   Incident Rate: 729.0<br>   Mortality Rate: 1.21<br>   Testing Rate: 5229.0<br>   Note: per 100,000 people <br>   Incident Level: High",
          "State COVID-19 info:<br>   Incident Rate: 280.0<br>   Mortality Rate: 4.83<br>   Testing Rate: 4628.0<br>   Note: per 100,000 people <br>   Incident Level: Middle",
          "State COVID-19 info:<br>   Incident Rate: 342.0<br>   Mortality Rate: 5.27<br>   Testing Rate: 5169.0<br>   Note: per 100,000 people <br>   Incident Level: Middle",
          "State COVID-19 info:<br>   Incident Rate: 1806.0<br>   Mortality Rate: 7.29<br>   Testing Rate: 8400.0<br>   Note: per 100,000 people <br>   Incident Level: High",
          "State COVID-19 info:<br>   Incident Rate: 367.0<br>   Mortality Rate: 4.63<br>   Testing Rate: 9273.0<br>   Note: per 100,000 people <br>   Incident Level: Middle",
          "State COVID-19 info:<br>   Incident Rate: 1906.0<br>   Mortality Rate: 8.03<br>   Testing Rate: 10609.0<br>   Note: per 100,000 people <br>   Incident Level: High",
          "State COVID-19 info:<br>   Incident Rate: 274.0<br>   Mortality Rate: 3.26<br>   Testing Rate: 3969.0<br>   Note: per 100,000 people <br>   Incident Level: Middle",
          "State COVID-19 info:<br>   Incident Rate: 338.0<br>   Mortality Rate: 2.37<br>   Testing Rate: 9453.0<br>   Note: per 100,000 people <br>   Incident Level: Middle",
          "State COVID-19 info:<br>   Incident Rate: 304.0<br>   Mortality Rate: 6.07<br>   Testing Rate: 3344.0<br>   Note: per 100,000 people <br>   Incident Level: Middle",
          "State COVID-19 info:<br>   Incident Rate: 162.0<br>   Mortality Rate: 5.2<br>   Testing Rate: 4883.0<br>   Note: per 100,000 people <br>   Incident Level: Low",
          "State COVID-19 info:<br>   Incident Rate: 101.0<br>   Mortality Rate: 3.61<br>   Testing Rate: 3063.0<br>   Note: per 100,000 people <br>   Incident Level: Low",
          "State COVID-19 info:<br>   Incident Rate: 595.0<br>   Mortality Rate: 7.3<br>   Testing Rate: 3559.0<br>   Note: per 100,000 people <br>   Incident Level: High",
          "State COVID-19 info:<br>   Incident Rate: 1409.0<br>   Mortality Rate: 4.81<br>   Testing Rate: 14584.0<br>   Note: per 100,000 people <br>   Incident Level: High",
          "State COVID-19 info:<br>   Incident Rate: 230.0<br>   Mortality Rate: 4.16<br>   Testing Rate: 3889.0<br>   Note: per 100,000 people <br>   Incident Level: Middle",
          "State COVID-19 info:<br>   Incident Rate: 564.0<br>   Mortality Rate: 1.24<br>   Testing Rate: 4988.0<br>   Note: per 100,000 people <br>   Incident Level: Middle",
          "State COVID-19 info:<br>   Incident Rate: 330.0<br>   Mortality Rate: 1.61<br>   Testing Rate: 6384.0<br>   Note: per 100,000 people <br>   Incident Level: Middle",
          "State COVID-19 info:<br>   Incident Rate: 223.0<br>   Mortality Rate: 2.59<br>   Testing Rate: 3283.0<br>   Note: per 100,000 people <br>   Incident Level: Low",
          "State COVID-19 info:<br>   Incident Rate: 306.0<br>   Mortality Rate: 1.15<br>   Testing Rate: 6672.0<br>   Note: per 100,000 people <br>   Incident Level: Middle",
          "State COVID-19 info:<br>   Incident Rate: 157.0<br>   Mortality Rate: 5.61<br>   Testing Rate: 5444.0<br>   Note: per 100,000 people <br>   Incident Level: Low",
          "State COVID-19 info:<br>   Incident Rate: 523.0<br>   Mortality Rate: 3.08<br>   Testing Rate: 3695.0<br>   Note: per 100,000 people <br>   Incident Level: Middle",
          "State COVID-19 info:<br>   Incident Rate: 285.0<br>   Mortality Rate: 5.15<br>   Testing Rate: 4653.0<br>   Note: per 100,000 people <br>   Incident Level: Middle",
          "State COVID-19 info:<br>   Incident Rate: 112.0<br>   Mortality Rate: 3.73<br>   Testing Rate: 5447.0<br>   Note: per 100,000 people <br>   Incident Level: Low",
          "State COVID-19 info:<br>   Incident Rate: 316.0<br>   Mortality Rate: 3.22<br>   Testing Rate: 4612.0<br>   Note: per 100,000 people <br>   Incident Level: Middle",
          "State COVID-19 info:<br>   Incident Rate: 156.0<br>   Mortality Rate: 1.77<br>   Testing Rate: 4215.0<br>   Note: per 100,000 people <br>   Incident Level: Low"
         ],
         "type": "choropleth",
         "z": [
          55,
          90,
          67,
          74,
          42,
          50,
          67,
          74,
          100,
          71,
          62,
          44,
          45,
          48,
          42,
          36,
          59,
          49,
          75,
          47,
          73,
          59,
          55,
          52,
          57,
          41,
          40,
          44,
          47,
          47,
          84,
          48,
          70,
          48,
          42,
          43,
          58,
          55,
          65,
          60,
          46,
          66,
          61,
          59,
          31,
          68,
          55,
          49,
          67,
          31,
          38
         ]
        }
       ],
       "layout": {
        "geo": {
         "scope": "usa"
        },
        "template": {
         "data": {
          "bar": [
           {
            "error_x": {
             "color": "#2a3f5f"
            },
            "error_y": {
             "color": "#2a3f5f"
            },
            "marker": {
             "line": {
              "color": "#E5ECF6",
              "width": 0.5
             }
            },
            "type": "bar"
           }
          ],
          "barpolar": [
           {
            "marker": {
             "line": {
              "color": "#E5ECF6",
              "width": 0.5
             }
            },
            "type": "barpolar"
           }
          ],
          "carpet": [
           {
            "aaxis": {
             "endlinecolor": "#2a3f5f",
             "gridcolor": "white",
             "linecolor": "white",
             "minorgridcolor": "white",
             "startlinecolor": "#2a3f5f"
            },
            "baxis": {
             "endlinecolor": "#2a3f5f",
             "gridcolor": "white",
             "linecolor": "white",
             "minorgridcolor": "white",
             "startlinecolor": "#2a3f5f"
            },
            "type": "carpet"
           }
          ],
          "choropleth": [
           {
            "colorbar": {
             "outlinewidth": 0,
             "ticks": ""
            },
            "type": "choropleth"
           }
          ],
          "contour": [
           {
            "colorbar": {
             "outlinewidth": 0,
             "ticks": ""
            },
            "colorscale": [
             [
              0,
              "#0d0887"
             ],
             [
              0.1111111111111111,
              "#46039f"
             ],
             [
              0.2222222222222222,
              "#7201a8"
             ],
             [
              0.3333333333333333,
              "#9c179e"
             ],
             [
              0.4444444444444444,
              "#bd3786"
             ],
             [
              0.5555555555555556,
              "#d8576b"
             ],
             [
              0.6666666666666666,
              "#ed7953"
             ],
             [
              0.7777777777777778,
              "#fb9f3a"
             ],
             [
              0.8888888888888888,
              "#fdca26"
             ],
             [
              1,
              "#f0f921"
             ]
            ],
            "type": "contour"
           }
          ],
          "contourcarpet": [
           {
            "colorbar": {
             "outlinewidth": 0,
             "ticks": ""
            },
            "type": "contourcarpet"
           }
          ],
          "heatmap": [
           {
            "colorbar": {
             "outlinewidth": 0,
             "ticks": ""
            },
            "colorscale": [
             [
              0,
              "#0d0887"
             ],
             [
              0.1111111111111111,
              "#46039f"
             ],
             [
              0.2222222222222222,
              "#7201a8"
             ],
             [
              0.3333333333333333,
              "#9c179e"
             ],
             [
              0.4444444444444444,
              "#bd3786"
             ],
             [
              0.5555555555555556,
              "#d8576b"
             ],
             [
              0.6666666666666666,
              "#ed7953"
             ],
             [
              0.7777777777777778,
              "#fb9f3a"
             ],
             [
              0.8888888888888888,
              "#fdca26"
             ],
             [
              1,
              "#f0f921"
             ]
            ],
            "type": "heatmap"
           }
          ],
          "heatmapgl": [
           {
            "colorbar": {
             "outlinewidth": 0,
             "ticks": ""
            },
            "colorscale": [
             [
              0,
              "#0d0887"
             ],
             [
              0.1111111111111111,
              "#46039f"
             ],
             [
              0.2222222222222222,
              "#7201a8"
             ],
             [
              0.3333333333333333,
              "#9c179e"
             ],
             [
              0.4444444444444444,
              "#bd3786"
             ],
             [
              0.5555555555555556,
              "#d8576b"
             ],
             [
              0.6666666666666666,
              "#ed7953"
             ],
             [
              0.7777777777777778,
              "#fb9f3a"
             ],
             [
              0.8888888888888888,
              "#fdca26"
             ],
             [
              1,
              "#f0f921"
             ]
            ],
            "type": "heatmapgl"
           }
          ],
          "histogram": [
           {
            "marker": {
             "colorbar": {
              "outlinewidth": 0,
              "ticks": ""
             }
            },
            "type": "histogram"
           }
          ],
          "histogram2d": [
           {
            "colorbar": {
             "outlinewidth": 0,
             "ticks": ""
            },
            "colorscale": [
             [
              0,
              "#0d0887"
             ],
             [
              0.1111111111111111,
              "#46039f"
             ],
             [
              0.2222222222222222,
              "#7201a8"
             ],
             [
              0.3333333333333333,
              "#9c179e"
             ],
             [
              0.4444444444444444,
              "#bd3786"
             ],
             [
              0.5555555555555556,
              "#d8576b"
             ],
             [
              0.6666666666666666,
              "#ed7953"
             ],
             [
              0.7777777777777778,
              "#fb9f3a"
             ],
             [
              0.8888888888888888,
              "#fdca26"
             ],
             [
              1,
              "#f0f921"
             ]
            ],
            "type": "histogram2d"
           }
          ],
          "histogram2dcontour": [
           {
            "colorbar": {
             "outlinewidth": 0,
             "ticks": ""
            },
            "colorscale": [
             [
              0,
              "#0d0887"
             ],
             [
              0.1111111111111111,
              "#46039f"
             ],
             [
              0.2222222222222222,
              "#7201a8"
             ],
             [
              0.3333333333333333,
              "#9c179e"
             ],
             [
              0.4444444444444444,
              "#bd3786"
             ],
             [
              0.5555555555555556,
              "#d8576b"
             ],
             [
              0.6666666666666666,
              "#ed7953"
             ],
             [
              0.7777777777777778,
              "#fb9f3a"
             ],
             [
              0.8888888888888888,
              "#fdca26"
             ],
             [
              1,
              "#f0f921"
             ]
            ],
            "type": "histogram2dcontour"
           }
          ],
          "mesh3d": [
           {
            "colorbar": {
             "outlinewidth": 0,
             "ticks": ""
            },
            "type": "mesh3d"
           }
          ],
          "parcoords": [
           {
            "line": {
             "colorbar": {
              "outlinewidth": 0,
              "ticks": ""
             }
            },
            "type": "parcoords"
           }
          ],
          "pie": [
           {
            "automargin": true,
            "type": "pie"
           }
          ],
          "scatter": [
           {
            "marker": {
             "colorbar": {
              "outlinewidth": 0,
              "ticks": ""
             }
            },
            "type": "scatter"
           }
          ],
          "scatter3d": [
           {
            "line": {
             "colorbar": {
              "outlinewidth": 0,
              "ticks": ""
             }
            },
            "marker": {
             "colorbar": {
              "outlinewidth": 0,
              "ticks": ""
             }
            },
            "type": "scatter3d"
           }
          ],
          "scattercarpet": [
           {
            "marker": {
             "colorbar": {
              "outlinewidth": 0,
              "ticks": ""
             }
            },
            "type": "scattercarpet"
           }
          ],
          "scattergeo": [
           {
            "marker": {
             "colorbar": {
              "outlinewidth": 0,
              "ticks": ""
             }
            },
            "type": "scattergeo"
           }
          ],
          "scattergl": [
           {
            "marker": {
             "colorbar": {
              "outlinewidth": 0,
              "ticks": ""
             }
            },
            "type": "scattergl"
           }
          ],
          "scattermapbox": [
           {
            "marker": {
             "colorbar": {
              "outlinewidth": 0,
              "ticks": ""
             }
            },
            "type": "scattermapbox"
           }
          ],
          "scatterpolar": [
           {
            "marker": {
             "colorbar": {
              "outlinewidth": 0,
              "ticks": ""
             }
            },
            "type": "scatterpolar"
           }
          ],
          "scatterpolargl": [
           {
            "marker": {
             "colorbar": {
              "outlinewidth": 0,
              "ticks": ""
             }
            },
            "type": "scatterpolargl"
           }
          ],
          "scatterternary": [
           {
            "marker": {
             "colorbar": {
              "outlinewidth": 0,
              "ticks": ""
             }
            },
            "type": "scatterternary"
           }
          ],
          "surface": [
           {
            "colorbar": {
             "outlinewidth": 0,
             "ticks": ""
            },
            "colorscale": [
             [
              0,
              "#0d0887"
             ],
             [
              0.1111111111111111,
              "#46039f"
             ],
             [
              0.2222222222222222,
              "#7201a8"
             ],
             [
              0.3333333333333333,
              "#9c179e"
             ],
             [
              0.4444444444444444,
              "#bd3786"
             ],
             [
              0.5555555555555556,
              "#d8576b"
             ],
             [
              0.6666666666666666,
              "#ed7953"
             ],
             [
              0.7777777777777778,
              "#fb9f3a"
             ],
             [
              0.8888888888888888,
              "#fdca26"
             ],
             [
              1,
              "#f0f921"
             ]
            ],
            "type": "surface"
           }
          ],
          "table": [
           {
            "cells": {
             "fill": {
              "color": "#EBF0F8"
             },
             "line": {
              "color": "white"
             }
            },
            "header": {
             "fill": {
              "color": "#C8D4E3"
             },
             "line": {
              "color": "white"
             }
            },
            "type": "table"
           }
          ]
         },
         "layout": {
          "annotationdefaults": {
           "arrowcolor": "#2a3f5f",
           "arrowhead": 0,
           "arrowwidth": 1
          },
          "coloraxis": {
           "colorbar": {
            "outlinewidth": 0,
            "ticks": ""
           }
          },
          "colorscale": {
           "diverging": [
            [
             0,
             "#8e0152"
            ],
            [
             0.1,
             "#c51b7d"
            ],
            [
             0.2,
             "#de77ae"
            ],
            [
             0.3,
             "#f1b6da"
            ],
            [
             0.4,
             "#fde0ef"
            ],
            [
             0.5,
             "#f7f7f7"
            ],
            [
             0.6,
             "#e6f5d0"
            ],
            [
             0.7,
             "#b8e186"
            ],
            [
             0.8,
             "#7fbc41"
            ],
            [
             0.9,
             "#4d9221"
            ],
            [
             1,
             "#276419"
            ]
           ],
           "sequential": [
            [
             0,
             "#0d0887"
            ],
            [
             0.1111111111111111,
             "#46039f"
            ],
            [
             0.2222222222222222,
             "#7201a8"
            ],
            [
             0.3333333333333333,
             "#9c179e"
            ],
            [
             0.4444444444444444,
             "#bd3786"
            ],
            [
             0.5555555555555556,
             "#d8576b"
            ],
            [
             0.6666666666666666,
             "#ed7953"
            ],
            [
             0.7777777777777778,
             "#fb9f3a"
            ],
            [
             0.8888888888888888,
             "#fdca26"
            ],
            [
             1,
             "#f0f921"
            ]
           ],
           "sequentialminus": [
            [
             0,
             "#0d0887"
            ],
            [
             0.1111111111111111,
             "#46039f"
            ],
            [
             0.2222222222222222,
             "#7201a8"
            ],
            [
             0.3333333333333333,
             "#9c179e"
            ],
            [
             0.4444444444444444,
             "#bd3786"
            ],
            [
             0.5555555555555556,
             "#d8576b"
            ],
            [
             0.6666666666666666,
             "#ed7953"
            ],
            [
             0.7777777777777778,
             "#fb9f3a"
            ],
            [
             0.8888888888888888,
             "#fdca26"
            ],
            [
             1,
             "#f0f921"
            ]
           ]
          },
          "colorway": [
           "#636efa",
           "#EF553B",
           "#00cc96",
           "#ab63fa",
           "#FFA15A",
           "#19d3f3",
           "#FF6692",
           "#B6E880",
           "#FF97FF",
           "#FECB52"
          ],
          "font": {
           "color": "#2a3f5f"
          },
          "geo": {
           "bgcolor": "white",
           "lakecolor": "white",
           "landcolor": "#E5ECF6",
           "showlakes": true,
           "showland": true,
           "subunitcolor": "white"
          },
          "hoverlabel": {
           "align": "left"
          },
          "hovermode": "closest",
          "mapbox": {
           "style": "light"
          },
          "paper_bgcolor": "white",
          "plot_bgcolor": "#E5ECF6",
          "polar": {
           "angularaxis": {
            "gridcolor": "white",
            "linecolor": "white",
            "ticks": ""
           },
           "bgcolor": "#E5ECF6",
           "radialaxis": {
            "gridcolor": "white",
            "linecolor": "white",
            "ticks": ""
           }
          },
          "scene": {
           "xaxis": {
            "backgroundcolor": "#E5ECF6",
            "gridcolor": "white",
            "gridwidth": 2,
            "linecolor": "white",
            "showbackground": true,
            "ticks": "",
            "zerolinecolor": "white"
           },
           "yaxis": {
            "backgroundcolor": "#E5ECF6",
            "gridcolor": "white",
            "gridwidth": 2,
            "linecolor": "white",
            "showbackground": true,
            "ticks": "",
            "zerolinecolor": "white"
           },
           "zaxis": {
            "backgroundcolor": "#E5ECF6",
            "gridcolor": "white",
            "gridwidth": 2,
            "linecolor": "white",
            "showbackground": true,
            "ticks": "",
            "zerolinecolor": "white"
           }
          },
          "shapedefaults": {
           "line": {
            "color": "#2a3f5f"
           }
          },
          "ternary": {
           "aaxis": {
            "gridcolor": "white",
            "linecolor": "white",
            "ticks": ""
           },
           "baxis": {
            "gridcolor": "white",
            "linecolor": "white",
            "ticks": ""
           },
           "bgcolor": "#E5ECF6",
           "caxis": {
            "gridcolor": "white",
            "linecolor": "white",
            "ticks": ""
           }
          },
          "title": {
           "x": 0.05
          },
          "xaxis": {
           "automargin": true,
           "gridcolor": "white",
           "linecolor": "white",
           "ticks": "",
           "title": {
            "standoff": 15
           },
           "zerolinecolor": "white",
           "zerolinewidth": 2
          },
          "yaxis": {
           "automargin": true,
           "gridcolor": "white",
           "linecolor": "white",
           "ticks": "",
           "title": {
            "standoff": 15
           },
           "zerolinecolor": "white",
           "zerolinewidth": 2
          }
         }
        },
        "title": {
         "text": "2020 Mar-May Search Interest of Telemedicine (Telehealth) by State"
        }
       }
      },
      "text/html": [
       "<div>\n",
       "        \n",
       "        \n",
       "            <div id=\"2df9448a-e9d4-4af9-84c7-424c4ba4df16\" class=\"plotly-graph-div\" style=\"height:525px; width:100%;\"></div>\n",
       "            <script type=\"text/javascript\">\n",
       "                require([\"plotly\"], function(Plotly) {\n",
       "                    window.PLOTLYENV=window.PLOTLYENV || {};\n",
       "                    \n",
       "                if (document.getElementById(\"2df9448a-e9d4-4af9-84c7-424c4ba4df16\")) {\n",
       "                    Plotly.newPlot(\n",
       "                        '2df9448a-e9d4-4af9-84c7-424c4ba4df16',\n",
       "                        [{\"autocolorscale\": false, \"colorbar\": {\"title\": {\"text\": \"Google Search Score\"}}, \"colorscale\": [[0.0, \"rgb(255,245,240)\"], [0.125, \"rgb(254,224,210)\"], [0.25, \"rgb(252,187,161)\"], [0.375, \"rgb(252,146,114)\"], [0.5, \"rgb(251,106,74)\"], [0.625, \"rgb(239,59,44)\"], [0.75, \"rgb(203,24,29)\"], [0.875, \"rgb(165,15,21)\"], [1.0, \"rgb(103,0,13)\"]], \"locationmode\": \"USA-states\", \"locations\": [\"AL\", \"AK\", \"AZ\", \"AR\", \"CA\", \"CO\", \"CT\", \"DE\", \"DC\", \"FL\", \"GA\", \"HI\", \"ID\", \"IL\", \"IN\", \"IA\", \"KS\", \"KY\", \"LA\", \"ME\", \"MD\", \"MA\", \"MI\", \"MN\", \"MS\", \"MO\", \"MT\", \"NE\", \"NV\", \"NH\", \"NJ\", \"NM\", \"NY\", \"NC\", \"ND\", \"OH\", \"OK\", \"OR\", \"PA\", \"RI\", \"SC\", \"SD\", \"TN\", \"TX\", \"UT\", \"VT\", \"VA\", \"WA\", \"WV\", \"WI\", \"WY\"], \"marker\": {\"line\": {\"color\": \"white\"}}, \"text\": [\"State COVID-19 info:<br>   Incident Rate: 366.0<br>   Mortality Rate: 3.51<br>   Testing Rate: 4437.0<br>   Note: per 100,000 people <br>   Incident Level: Middle\", \"State COVID-19 info:<br>   Incident Rate: 63.0<br>   Mortality Rate: 2.18<br>   Testing Rate: 7067.0<br>   Note: per 100,000 people <br>   Incident Level: Low\", \"State COVID-19 info:<br>   Incident Rate: 274.0<br>   Mortality Rate: 4.55<br>   Testing Rate: 3094.0<br>   Note: per 100,000 people <br>   Incident Level: Middle\", \"State COVID-19 info:<br>   Incident Rate: 240.0<br>   Mortality Rate: 1.83<br>   Testing Rate: 4292.0<br>   Note: per 100,000 people <br>   Incident Level: Middle\", \"State COVID-19 info:<br>   Incident Rate: 283.0<br>   Mortality Rate: 3.73<br>   Testing Rate: 4922.0<br>   Note: per 100,000 people <br>   Incident Level: Middle\", \"State COVID-19 info:<br>   Incident Rate: 458.0<br>   Mortality Rate: 5.48<br>   Testing Rate: 3137.0<br>   Note: per 100,000 people <br>   Incident Level: Middle\", \"State COVID-19 info:<br>   Incident Rate: 1184.0<br>   Mortality Rate: 9.35<br>   Testing Rate: 7013.0<br>   Note: per 100,000 people <br>   Incident Level: High\", \"State COVID-19 info:<br>   Incident Rate: 975.0<br>   Mortality Rate: 3.85<br>   Testing Rate: 6231.0<br>   Note: per 100,000 people <br>   Incident Level: High\", \"State COVID-19 info:<br>   Incident Rate: 1247.0<br>   Mortality Rate: 5.29<br>   Testing Rate: 6586.0<br>   Note: per 100,000 people <br>   Incident Level: High\", \"State COVID-19 info:<br>   Incident Rate: 261.0<br>   Mortality Rate: 4.36<br>   Testing Rate: 4755.0<br>   Note: per 100,000 people <br>   Incident Level: Middle\", \"State COVID-19 info:<br>   Incident Rate: 443.0<br>   Mortality Rate: 4.36<br>   Testing Rate: 4385.0<br>   Note: per 100,000 people <br>   Incident Level: Middle\", \"State COVID-19 info:<br>   Incident Rate: 46.0<br>   Mortality Rate: 2.61<br>   Testing Rate: 3858.0<br>   Note: per 100,000 people <br>   Incident Level: Low\", \"State COVID-19 info:<br>   Incident Rate: 159.0<br>   Mortality Rate: 2.89<br>   Testing Rate: 2613.0<br>   Note: per 100,000 people <br>   Incident Level: Low\", \"State COVID-19 info:<br>   Incident Rate: 949.0<br>   Mortality Rate: 4.48<br>   Testing Rate: 7089.0<br>   Note: per 100,000 people <br>   Incident Level: High\", \"State COVID-19 info:<br>   Incident Rate: 514.0<br>   Mortality Rate: 6.17<br>   Testing Rate: 3885.0<br>   Note: per 100,000 people <br>   Incident Level: Middle\", \"State COVID-19 info:<br>   Incident Rate: 620.0<br>   Mortality Rate: 2.74<br>   Testing Rate: 4954.0<br>   Note: per 100,000 people <br>   Incident Level: High\", \"State COVID-19 info:<br>   Incident Rate: 333.0<br>   Mortality Rate: 2.22<br>   Testing Rate: 3259.0<br>   Note: per 100,000 people <br>   Incident Level: Middle\", \"State COVID-19 info:<br>   Incident Rate: 217.0<br>   Mortality Rate: 4.44<br>   Testing Rate: 4784.0<br>   Note: per 100,000 people <br>   Incident Level: Low\", \"State COVID-19 info:<br>   Incident Rate: 859.0<br>   Mortality Rate: 6.99<br>   Testing Rate: 8069.0<br>   Note: per 100,000 people <br>   Incident Level: High\", \"State COVID-19 info:<br>   Incident Rate: 173.0<br>   Mortality Rate: 3.83<br>   Testing Rate: 3691.0<br>   Note: per 100,000 people <br>   Incident Level: Low\", \"State COVID-19 info:<br>   Incident Rate: 873.0<br>   Mortality Rate: 4.8<br>   Testing Rate: 4993.0<br>   Note: per 100,000 people <br>   Incident Level: High\", \"State COVID-19 info:<br>   Incident Rate: 1407.0<br>   Mortality Rate: 7.06<br>   Testing Rate: 8601.0<br>   Note: per 100,000 people <br>   Incident Level: High\", \"State COVID-19 info:<br>   Incident Rate: 575.0<br>   Mortality Rate: 9.57<br>   Testing Rate: 5554.0<br>   Note: per 100,000 people <br>   Incident Level: Middle\", \"State COVID-19 info:<br>   Incident Rate: 441.0<br>   Mortality Rate: 4.23<br>   Testing Rate: 4424.0<br>   Note: per 100,000 people <br>   Incident Level: Middle\", \"State COVID-19 info:<br>   Incident Rate: 522.0<br>   Mortality Rate: 4.73<br>   Testing Rate: 5774.0<br>   Note: per 100,000 people <br>   Incident Level: Middle\", \"State COVID-19 info:<br>   Incident Rate: 219.0<br>   Mortality Rate: 5.77<br>   Testing Rate: 3154.0<br>   Note: per 100,000 people <br>   Incident Level: Low\", \"State COVID-19 info:<br>   Incident Rate: 48.0<br>   Mortality Rate: 3.3<br>   Testing Rate: 3724.0<br>   Note: per 100,000 people <br>   Incident Level: Low\", \"State COVID-19 info:<br>   Incident Rate: 729.0<br>   Mortality Rate: 1.21<br>   Testing Rate: 5229.0<br>   Note: per 100,000 people <br>   Incident Level: High\", \"State COVID-19 info:<br>   Incident Rate: 280.0<br>   Mortality Rate: 4.83<br>   Testing Rate: 4628.0<br>   Note: per 100,000 people <br>   Incident Level: Middle\", \"State COVID-19 info:<br>   Incident Rate: 342.0<br>   Mortality Rate: 5.27<br>   Testing Rate: 5169.0<br>   Note: per 100,000 people <br>   Incident Level: Middle\", \"State COVID-19 info:<br>   Incident Rate: 1806.0<br>   Mortality Rate: 7.29<br>   Testing Rate: 8400.0<br>   Note: per 100,000 people <br>   Incident Level: High\", \"State COVID-19 info:<br>   Incident Rate: 367.0<br>   Mortality Rate: 4.63<br>   Testing Rate: 9273.0<br>   Note: per 100,000 people <br>   Incident Level: Middle\", \"State COVID-19 info:<br>   Incident Rate: 1906.0<br>   Mortality Rate: 8.03<br>   Testing Rate: 10609.0<br>   Note: per 100,000 people <br>   Incident Level: High\", \"State COVID-19 info:<br>   Incident Rate: 274.0<br>   Mortality Rate: 3.26<br>   Testing Rate: 3969.0<br>   Note: per 100,000 people <br>   Incident Level: Middle\", \"State COVID-19 info:<br>   Incident Rate: 338.0<br>   Mortality Rate: 2.37<br>   Testing Rate: 9453.0<br>   Note: per 100,000 people <br>   Incident Level: Middle\", \"State COVID-19 info:<br>   Incident Rate: 304.0<br>   Mortality Rate: 6.07<br>   Testing Rate: 3344.0<br>   Note: per 100,000 people <br>   Incident Level: Middle\", \"State COVID-19 info:<br>   Incident Rate: 162.0<br>   Mortality Rate: 5.2<br>   Testing Rate: 4883.0<br>   Note: per 100,000 people <br>   Incident Level: Low\", \"State COVID-19 info:<br>   Incident Rate: 101.0<br>   Mortality Rate: 3.61<br>   Testing Rate: 3063.0<br>   Note: per 100,000 people <br>   Incident Level: Low\", \"State COVID-19 info:<br>   Incident Rate: 595.0<br>   Mortality Rate: 7.3<br>   Testing Rate: 3559.0<br>   Note: per 100,000 people <br>   Incident Level: High\", \"State COVID-19 info:<br>   Incident Rate: 1409.0<br>   Mortality Rate: 4.81<br>   Testing Rate: 14584.0<br>   Note: per 100,000 people <br>   Incident Level: High\", \"State COVID-19 info:<br>   Incident Rate: 230.0<br>   Mortality Rate: 4.16<br>   Testing Rate: 3889.0<br>   Note: per 100,000 people <br>   Incident Level: Middle\", \"State COVID-19 info:<br>   Incident Rate: 564.0<br>   Mortality Rate: 1.24<br>   Testing Rate: 4988.0<br>   Note: per 100,000 people <br>   Incident Level: Middle\", \"State COVID-19 info:<br>   Incident Rate: 330.0<br>   Mortality Rate: 1.61<br>   Testing Rate: 6384.0<br>   Note: per 100,000 people <br>   Incident Level: Middle\", \"State COVID-19 info:<br>   Incident Rate: 223.0<br>   Mortality Rate: 2.59<br>   Testing Rate: 3283.0<br>   Note: per 100,000 people <br>   Incident Level: Low\", \"State COVID-19 info:<br>   Incident Rate: 306.0<br>   Mortality Rate: 1.15<br>   Testing Rate: 6672.0<br>   Note: per 100,000 people <br>   Incident Level: Middle\", \"State COVID-19 info:<br>   Incident Rate: 157.0<br>   Mortality Rate: 5.61<br>   Testing Rate: 5444.0<br>   Note: per 100,000 people <br>   Incident Level: Low\", \"State COVID-19 info:<br>   Incident Rate: 523.0<br>   Mortality Rate: 3.08<br>   Testing Rate: 3695.0<br>   Note: per 100,000 people <br>   Incident Level: Middle\", \"State COVID-19 info:<br>   Incident Rate: 285.0<br>   Mortality Rate: 5.15<br>   Testing Rate: 4653.0<br>   Note: per 100,000 people <br>   Incident Level: Middle\", \"State COVID-19 info:<br>   Incident Rate: 112.0<br>   Mortality Rate: 3.73<br>   Testing Rate: 5447.0<br>   Note: per 100,000 people <br>   Incident Level: Low\", \"State COVID-19 info:<br>   Incident Rate: 316.0<br>   Mortality Rate: 3.22<br>   Testing Rate: 4612.0<br>   Note: per 100,000 people <br>   Incident Level: Middle\", \"State COVID-19 info:<br>   Incident Rate: 156.0<br>   Mortality Rate: 1.77<br>   Testing Rate: 4215.0<br>   Note: per 100,000 people <br>   Incident Level: Low\"], \"type\": \"choropleth\", \"z\": [55.0, 90.0, 67.0, 74.0, 42.0, 50.0, 67.0, 74.0, 100.0, 71.0, 62.0, 44.0, 45.0, 48.0, 42.0, 36.0, 59.0, 49.0, 75.0, 47.0, 73.0, 59.0, 55.0, 52.0, 57.0, 41.0, 40.0, 44.0, 47.0, 47.0, 84.0, 48.0, 70.0, 48.0, 42.0, 43.0, 58.0, 55.0, 65.0, 60.0, 46.0, 66.0, 61.0, 59.0, 31.0, 68.0, 55.0, 49.0, 67.0, 31.0, 38.0]}],\n",
       "                        {\"geo\": {\"scope\": \"usa\"}, \"template\": {\"data\": {\"bar\": [{\"error_x\": {\"color\": \"#2a3f5f\"}, \"error_y\": {\"color\": \"#2a3f5f\"}, \"marker\": {\"line\": {\"color\": \"#E5ECF6\", \"width\": 0.5}}, \"type\": \"bar\"}], \"barpolar\": [{\"marker\": {\"line\": {\"color\": \"#E5ECF6\", \"width\": 0.5}}, \"type\": \"barpolar\"}], \"carpet\": [{\"aaxis\": {\"endlinecolor\": \"#2a3f5f\", \"gridcolor\": \"white\", \"linecolor\": \"white\", \"minorgridcolor\": \"white\", \"startlinecolor\": \"#2a3f5f\"}, \"baxis\": {\"endlinecolor\": \"#2a3f5f\", \"gridcolor\": \"white\", \"linecolor\": \"white\", \"minorgridcolor\": \"white\", \"startlinecolor\": \"#2a3f5f\"}, \"type\": \"carpet\"}], \"choropleth\": [{\"colorbar\": {\"outlinewidth\": 0, \"ticks\": \"\"}, \"type\": \"choropleth\"}], \"contour\": [{\"colorbar\": {\"outlinewidth\": 0, \"ticks\": \"\"}, \"colorscale\": [[0.0, \"#0d0887\"], [0.1111111111111111, \"#46039f\"], [0.2222222222222222, \"#7201a8\"], [0.3333333333333333, \"#9c179e\"], [0.4444444444444444, \"#bd3786\"], [0.5555555555555556, \"#d8576b\"], [0.6666666666666666, \"#ed7953\"], [0.7777777777777778, \"#fb9f3a\"], [0.8888888888888888, \"#fdca26\"], [1.0, \"#f0f921\"]], \"type\": \"contour\"}], \"contourcarpet\": [{\"colorbar\": {\"outlinewidth\": 0, \"ticks\": \"\"}, \"type\": \"contourcarpet\"}], \"heatmap\": [{\"colorbar\": {\"outlinewidth\": 0, \"ticks\": \"\"}, \"colorscale\": [[0.0, \"#0d0887\"], [0.1111111111111111, \"#46039f\"], [0.2222222222222222, \"#7201a8\"], [0.3333333333333333, \"#9c179e\"], [0.4444444444444444, \"#bd3786\"], [0.5555555555555556, \"#d8576b\"], [0.6666666666666666, \"#ed7953\"], [0.7777777777777778, \"#fb9f3a\"], [0.8888888888888888, \"#fdca26\"], [1.0, \"#f0f921\"]], \"type\": \"heatmap\"}], \"heatmapgl\": [{\"colorbar\": {\"outlinewidth\": 0, \"ticks\": \"\"}, \"colorscale\": [[0.0, \"#0d0887\"], [0.1111111111111111, \"#46039f\"], [0.2222222222222222, \"#7201a8\"], [0.3333333333333333, \"#9c179e\"], [0.4444444444444444, \"#bd3786\"], [0.5555555555555556, \"#d8576b\"], [0.6666666666666666, \"#ed7953\"], [0.7777777777777778, \"#fb9f3a\"], [0.8888888888888888, \"#fdca26\"], [1.0, \"#f0f921\"]], \"type\": \"heatmapgl\"}], \"histogram\": [{\"marker\": {\"colorbar\": {\"outlinewidth\": 0, \"ticks\": \"\"}}, \"type\": \"histogram\"}], \"histogram2d\": [{\"colorbar\": {\"outlinewidth\": 0, \"ticks\": \"\"}, \"colorscale\": [[0.0, \"#0d0887\"], [0.1111111111111111, \"#46039f\"], [0.2222222222222222, \"#7201a8\"], [0.3333333333333333, \"#9c179e\"], [0.4444444444444444, \"#bd3786\"], [0.5555555555555556, \"#d8576b\"], [0.6666666666666666, \"#ed7953\"], [0.7777777777777778, \"#fb9f3a\"], [0.8888888888888888, \"#fdca26\"], [1.0, \"#f0f921\"]], \"type\": \"histogram2d\"}], \"histogram2dcontour\": [{\"colorbar\": {\"outlinewidth\": 0, \"ticks\": \"\"}, \"colorscale\": [[0.0, \"#0d0887\"], [0.1111111111111111, \"#46039f\"], [0.2222222222222222, \"#7201a8\"], [0.3333333333333333, \"#9c179e\"], [0.4444444444444444, \"#bd3786\"], [0.5555555555555556, \"#d8576b\"], [0.6666666666666666, \"#ed7953\"], [0.7777777777777778, \"#fb9f3a\"], [0.8888888888888888, \"#fdca26\"], [1.0, \"#f0f921\"]], \"type\": \"histogram2dcontour\"}], \"mesh3d\": [{\"colorbar\": {\"outlinewidth\": 0, \"ticks\": \"\"}, \"type\": \"mesh3d\"}], \"parcoords\": [{\"line\": {\"colorbar\": {\"outlinewidth\": 0, \"ticks\": \"\"}}, \"type\": \"parcoords\"}], \"pie\": [{\"automargin\": true, \"type\": \"pie\"}], \"scatter\": [{\"marker\": {\"colorbar\": {\"outlinewidth\": 0, \"ticks\": \"\"}}, \"type\": \"scatter\"}], \"scatter3d\": [{\"line\": {\"colorbar\": {\"outlinewidth\": 0, \"ticks\": \"\"}}, \"marker\": {\"colorbar\": {\"outlinewidth\": 0, \"ticks\": \"\"}}, \"type\": \"scatter3d\"}], \"scattercarpet\": [{\"marker\": {\"colorbar\": {\"outlinewidth\": 0, \"ticks\": \"\"}}, \"type\": \"scattercarpet\"}], \"scattergeo\": [{\"marker\": {\"colorbar\": {\"outlinewidth\": 0, \"ticks\": \"\"}}, \"type\": \"scattergeo\"}], \"scattergl\": [{\"marker\": {\"colorbar\": {\"outlinewidth\": 0, \"ticks\": \"\"}}, \"type\": \"scattergl\"}], \"scattermapbox\": [{\"marker\": {\"colorbar\": {\"outlinewidth\": 0, \"ticks\": \"\"}}, \"type\": \"scattermapbox\"}], \"scatterpolar\": [{\"marker\": {\"colorbar\": {\"outlinewidth\": 0, \"ticks\": \"\"}}, \"type\": \"scatterpolar\"}], \"scatterpolargl\": [{\"marker\": {\"colorbar\": {\"outlinewidth\": 0, \"ticks\": \"\"}}, \"type\": \"scatterpolargl\"}], \"scatterternary\": [{\"marker\": {\"colorbar\": {\"outlinewidth\": 0, \"ticks\": \"\"}}, \"type\": \"scatterternary\"}], \"surface\": [{\"colorbar\": {\"outlinewidth\": 0, \"ticks\": \"\"}, \"colorscale\": [[0.0, \"#0d0887\"], [0.1111111111111111, \"#46039f\"], [0.2222222222222222, \"#7201a8\"], [0.3333333333333333, \"#9c179e\"], [0.4444444444444444, \"#bd3786\"], [0.5555555555555556, \"#d8576b\"], [0.6666666666666666, \"#ed7953\"], [0.7777777777777778, \"#fb9f3a\"], [0.8888888888888888, \"#fdca26\"], [1.0, \"#f0f921\"]], \"type\": \"surface\"}], \"table\": [{\"cells\": {\"fill\": {\"color\": \"#EBF0F8\"}, \"line\": {\"color\": \"white\"}}, \"header\": {\"fill\": {\"color\": \"#C8D4E3\"}, \"line\": {\"color\": \"white\"}}, \"type\": \"table\"}]}, \"layout\": {\"annotationdefaults\": {\"arrowcolor\": \"#2a3f5f\", \"arrowhead\": 0, \"arrowwidth\": 1}, \"coloraxis\": {\"colorbar\": {\"outlinewidth\": 0, \"ticks\": \"\"}}, \"colorscale\": {\"diverging\": [[0, \"#8e0152\"], [0.1, \"#c51b7d\"], [0.2, \"#de77ae\"], [0.3, \"#f1b6da\"], [0.4, \"#fde0ef\"], [0.5, \"#f7f7f7\"], [0.6, \"#e6f5d0\"], [0.7, \"#b8e186\"], [0.8, \"#7fbc41\"], [0.9, \"#4d9221\"], [1, \"#276419\"]], \"sequential\": [[0.0, \"#0d0887\"], [0.1111111111111111, \"#46039f\"], [0.2222222222222222, \"#7201a8\"], [0.3333333333333333, \"#9c179e\"], [0.4444444444444444, \"#bd3786\"], [0.5555555555555556, \"#d8576b\"], [0.6666666666666666, \"#ed7953\"], [0.7777777777777778, \"#fb9f3a\"], [0.8888888888888888, \"#fdca26\"], [1.0, \"#f0f921\"]], \"sequentialminus\": [[0.0, \"#0d0887\"], [0.1111111111111111, \"#46039f\"], [0.2222222222222222, \"#7201a8\"], [0.3333333333333333, \"#9c179e\"], [0.4444444444444444, \"#bd3786\"], [0.5555555555555556, \"#d8576b\"], [0.6666666666666666, \"#ed7953\"], [0.7777777777777778, \"#fb9f3a\"], [0.8888888888888888, \"#fdca26\"], [1.0, \"#f0f921\"]]}, \"colorway\": [\"#636efa\", \"#EF553B\", \"#00cc96\", \"#ab63fa\", \"#FFA15A\", \"#19d3f3\", \"#FF6692\", \"#B6E880\", \"#FF97FF\", \"#FECB52\"], \"font\": {\"color\": \"#2a3f5f\"}, \"geo\": {\"bgcolor\": \"white\", \"lakecolor\": \"white\", \"landcolor\": \"#E5ECF6\", \"showlakes\": true, \"showland\": true, \"subunitcolor\": \"white\"}, \"hoverlabel\": {\"align\": \"left\"}, \"hovermode\": \"closest\", \"mapbox\": {\"style\": \"light\"}, \"paper_bgcolor\": \"white\", \"plot_bgcolor\": \"#E5ECF6\", \"polar\": {\"angularaxis\": {\"gridcolor\": \"white\", \"linecolor\": \"white\", \"ticks\": \"\"}, \"bgcolor\": \"#E5ECF6\", \"radialaxis\": {\"gridcolor\": \"white\", \"linecolor\": \"white\", \"ticks\": \"\"}}, \"scene\": {\"xaxis\": {\"backgroundcolor\": \"#E5ECF6\", \"gridcolor\": \"white\", \"gridwidth\": 2, \"linecolor\": \"white\", \"showbackground\": true, \"ticks\": \"\", \"zerolinecolor\": \"white\"}, \"yaxis\": {\"backgroundcolor\": \"#E5ECF6\", \"gridcolor\": \"white\", \"gridwidth\": 2, \"linecolor\": \"white\", \"showbackground\": true, \"ticks\": \"\", \"zerolinecolor\": \"white\"}, \"zaxis\": {\"backgroundcolor\": \"#E5ECF6\", \"gridcolor\": \"white\", \"gridwidth\": 2, \"linecolor\": \"white\", \"showbackground\": true, \"ticks\": \"\", \"zerolinecolor\": \"white\"}}, \"shapedefaults\": {\"line\": {\"color\": \"#2a3f5f\"}}, \"ternary\": {\"aaxis\": {\"gridcolor\": \"white\", \"linecolor\": \"white\", \"ticks\": \"\"}, \"baxis\": {\"gridcolor\": \"white\", \"linecolor\": \"white\", \"ticks\": \"\"}, \"bgcolor\": \"#E5ECF6\", \"caxis\": {\"gridcolor\": \"white\", \"linecolor\": \"white\", \"ticks\": \"\"}}, \"title\": {\"x\": 0.05}, \"xaxis\": {\"automargin\": true, \"gridcolor\": \"white\", \"linecolor\": \"white\", \"ticks\": \"\", \"title\": {\"standoff\": 15}, \"zerolinecolor\": \"white\", \"zerolinewidth\": 2}, \"yaxis\": {\"automargin\": true, \"gridcolor\": \"white\", \"linecolor\": \"white\", \"ticks\": \"\", \"title\": {\"standoff\": 15}, \"zerolinecolor\": \"white\", \"zerolinewidth\": 2}}}, \"title\": {\"text\": \"2020 Mar-May Search Interest of Telemedicine (Telehealth) by State\"}},\n",
       "                        {\"responsive\": true}\n",
       "                    ).then(function(){\n",
       "                            \n",
       "var gd = document.getElementById('2df9448a-e9d4-4af9-84c7-424c4ba4df16');\n",
       "var x = new MutationObserver(function (mutations, observer) {{\n",
       "        var display = window.getComputedStyle(gd).display;\n",
       "        if (!display || display === 'none') {{\n",
       "            console.log([gd, 'removed!']);\n",
       "            Plotly.purge(gd);\n",
       "            observer.disconnect();\n",
       "        }}\n",
       "}});\n",
       "\n",
       "// Listen for the removal of the full notebook cells\n",
       "var notebookContainer = gd.closest('#notebook-container');\n",
       "if (notebookContainer) {{\n",
       "    x.observe(notebookContainer, {childList: true});\n",
       "}}\n",
       "\n",
       "// Listen for the clearing of the current output cell\n",
       "var outputEl = gd.closest('.output');\n",
       "if (outputEl) {{\n",
       "    x.observe(outputEl, {childList: true});\n",
       "}}\n",
       "\n",
       "                        })\n",
       "                };\n",
       "                });\n",
       "            </script>\n",
       "        </div>"
      ]
     },
     "metadata": {},
     "output_type": "display_data"
    }
   ],
   "source": [
    "fig = go.Figure(data=go.Choropleth(\n",
    "    locations=df_telemed_covid_cd['Code'],\n",
    "    z=df_telemed_covid['Telemed_2020'].astype(float),\n",
    "    locationmode='USA-states',\n",
    "    colorscale='Reds',\n",
    "    autocolorscale=False,\n",
    "    text=df_telemed_covid_cd['text'], # hover text\n",
    "    marker_line_color='white', # line markers between states\n",
    "    colorbar_title=\"Google Search Score\"\n",
    "))\n",
    "fig.update_layout(\n",
    "    title_text = '2020 Mar-May Search Interest of Telemedicine (Telehealth) by State',\n",
    "    geo_scope='usa', # limite map scope to USA\n",
    ")\n",
    "fig.show()"
   ]
  },
  {
   "cell_type": "code",
   "execution_count": null,
   "metadata": {},
   "outputs": [],
   "source": []
  }
 ],
 "metadata": {
  "kernelspec": {
   "display_name": "Python 3",
   "language": "python",
   "name": "python3"
  },
  "language_info": {
   "codemirror_mode": {
    "name": "ipython",
    "version": 3
   },
   "file_extension": ".py",
   "mimetype": "text/x-python",
   "name": "python",
   "nbconvert_exporter": "python",
   "pygments_lexer": "ipython3",
   "version": "3.8.2"
  }
 },
 "nbformat": 4,
 "nbformat_minor": 4
}
